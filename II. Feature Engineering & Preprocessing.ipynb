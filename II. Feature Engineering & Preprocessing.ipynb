{
 "cells": [
  {
   "cell_type": "markdown",
   "id": "9a472aab",
   "metadata": {},
   "source": [
    "# Ames Housing Data Preprocessing and Feature Engineering"
   ]
  },
  {
   "cell_type": "markdown",
   "id": "a53e3faf",
   "metadata": {},
   "source": [
    "This project aims to predict housing prices in Ames, Iowa based on the famous Ames Iowa Housing Dataset from the Ames City Assessor's Office, made available by Dean De Cock of Truman University in 2011. Professor De Cock's original paper can be found [here.](http://jse.amstat.org/v19n3/decock.pdf)\n",
    "\n",
    "Presentation Slides for this project can be found [here.](https://www.beautiful.ai/player/-N4J5UYshyuRtwl5G4I7)\n",
    "\n",
    "This notebook includes python code for data extraction, cleaning and transformation. Model Fitting and Analysis code can be found in the Ames_Models notebook.\n",
    "\n",
    "# Sections and steps\n",
    "\n",
    "- <a href=\"#IMP\">Reading in Data</a><br>\n",
    "    \n",
    "- <a href=\"#EDA\">Exploratory Data Analysis</a><br>\n",
    "    - <a href=\"#DV\">Sale Price</a><br>\n",
    "    - <a href=\"#FP\">First Pass - Visualization</a><br>\n",
    "    - <a href=\"#MD\">Handling Missing Data</a><br>\n",
    "    - <a href=\"#OT\">Handling Outliers</a><br>\n",
    "- <a href=\"#FEN\">Feature Engineering</a><br>\n",
    "    - <a href=\"#SP\">Second Pass - Analysis</a><br>\n",
    "    - <a href=\"#SP\"> Summary of Data Cleaning and Feature Engineering </a><br>\n",
    "- <a href=\"#PRE\">Preparing Data for Models</a><br>\n",
    "    - Linear Models\n",
    "        -dummify categorical variables\n",
    "    - Non Linear Models\n",
    "        -label encode categorical variables\n",
    "    - All Models\n",
    "        -split train and validate datasets\n",
    "        -standardize the numerical variables\n",
    "- <a href=\"#EXP\">Exporting Cleaned Datasets</a><br>"
   ]
  },
  {
   "cell_type": "markdown",
   "id": "3577f32b",
   "metadata": {},
   "source": [
    "<p><a name=\"IMP\"></a></p>\n",
    "\n",
    "## Importing Packages, Reading in Data"
   ]
  },
  {
   "cell_type": "code",
   "execution_count": 1,
   "id": "9dba07e1",
   "metadata": {},
   "outputs": [],
   "source": [
    "import pandas as pd\n",
    "import numpy as np\n",
    "import numpy.ma as ma\n",
    "import matplotlib.pyplot as plt\n",
    "import seaborn as sns\n",
    "import scipy.stats as stats\n",
    "from scipy.stats import pearsonr\n",
    "from sklearn.preprocessing import StandardScaler\n",
    "import statsmodels.api as sm\n",
    "from statsmodels.formula.api import ols\n",
    "%matplotlib inline\n",
    "plt.style.use('ggplot')\n",
    "plt.rcParams.update({'font.size': 12})"
   ]
  },
  {
   "cell_type": "markdown",
   "id": "1eb53c97",
   "metadata": {},
   "source": [
    "#### Importing helper module"
   ]
  },
  {
   "cell_type": "code",
   "execution_count": 2,
   "id": "05723e4b",
   "metadata": {},
   "outputs": [],
   "source": [
    "#importing helper functions from helper module\n",
    "from helper_module import * #look_cat, look_num, look_cat2, look_num2"
   ]
  },
  {
   "cell_type": "markdown",
   "id": "3e42da00",
   "metadata": {},
   "source": [
    "#### Reading in train data"
   ]
  },
  {
   "cell_type": "code",
   "execution_count": 3,
   "id": "ce83e096",
   "metadata": {},
   "outputs": [
    {
     "name": "stdout",
     "output_type": "stream",
     "text": [
      "Read in Ames Housing Train Data - Shape: (1460, 81)\n"
     ]
    }
   ],
   "source": [
    "train = pd.read_csv('./data/raw/train.csv')\n",
    "train.head()\n",
    "#train.drop(['Unnamed: 0'], axis=1, inplace=True)\n",
    "print(f\"Read in Ames Housing Train Data - Shape: {train.shape}\")"
   ]
  },
  {
   "cell_type": "markdown",
   "id": "83b492a5",
   "metadata": {},
   "source": [
    "#### Reading in test data"
   ]
  },
  {
   "cell_type": "code",
   "execution_count": 4,
   "id": "ffde3bf3",
   "metadata": {},
   "outputs": [
    {
     "name": "stdout",
     "output_type": "stream",
     "text": [
      "Read in Ames Housing Test Data - Shape: (1459, 80)\n"
     ]
    }
   ],
   "source": [
    "test = pd.read_csv('./data/raw/test.csv')\n",
    "test.head()\n",
    "#test.drop(['Unnamed: 0'], axis=1, inplace=True)\n",
    "print(f\"Read in Ames Housing Test Data - Shape: {test.shape}\")"
   ]
  },
  {
   "cell_type": "markdown",
   "id": "7fa19222",
   "metadata": {},
   "source": [
    "<p><a name=\"EDA\"></a></p>\n",
    "\n",
    "## Exploratory Data Analysis"
   ]
  },
  {
   "cell_type": "markdown",
   "id": "579ed8c4",
   "metadata": {},
   "source": [
    "### Train Dataset Overview"
   ]
  },
  {
   "cell_type": "code",
   "execution_count": 5,
   "id": "960062ff",
   "metadata": {
    "scrolled": true
   },
   "outputs": [
    {
     "name": "stdout",
     "output_type": "stream",
     "text": [
      "The raw number of features is  81\n",
      "The raw number of observations is  1460\n",
      "The datattypes are: [dtype('int64') dtype('O') dtype('float64')]\n"
     ]
    }
   ],
   "source": [
    "print('The raw number of features is ', train.shape[1])\n",
    "print('The raw number of observations is ', train.shape[0])\n",
    "print('The datattypes are:', train.dtypes.unique())"
   ]
  },
  {
   "cell_type": "markdown",
   "id": "43b000b6",
   "metadata": {},
   "source": [
    " Looking at the codebook, there are several ordinal variables that are coded as numeric. These variables correspond to the following column names:\n",
    "- MSSubClass\n",
    "- MoSold\n",
    "- YrSold\n",
    "\n",
    "Let's make sure these are coded as categorical."
   ]
  },
  {
   "cell_type": "code",
   "execution_count": 8,
   "id": "ecbe0c22",
   "metadata": {
    "scrolled": false
   },
   "outputs": [
    {
     "name": "stdout",
     "output_type": "stream",
     "text": [
      "The number of categorical features is 49\n",
      "The number of numerical features is 31\n",
      "The combined numerical and categorical features are 80\n",
      "Number of Variables left to examine :  80\n"
     ]
    }
   ],
   "source": [
    "#selecting just categorical variables in the dataframe and creating a list\n",
    "cat_var = train.select_dtypes('O').columns.tolist()\n",
    "\n",
    "#selecting just continuous variables in the dataframe and creating a list\n",
    "num_var = train.select_dtypes('number').columns.tolist()\n",
    "num_var.remove('Id')\n",
    "\n",
    "#creating a list of all variables as an EDA checklist\n",
    "all_var = train.columns.tolist()\n",
    "all_var.remove('Id')\n",
    "\n",
    "print('The number of categorical features is' , len(cat_var))\n",
    "print('The number of numerical features is', len(num_var))\n",
    "\n",
    "#Sanity check here\n",
    "print('The combined numerical and categorical features are', len(cat_var) + len(num_var))\n",
    "print('Number of Variables left to examine : ', len(all_var))"
   ]
  },
  {
   "cell_type": "markdown",
   "id": "01c7af58",
   "metadata": {},
   "source": [
    "<p><a name=\"FP\"></a></p>\n",
    "\n",
    "## Independent Variables Analysis"
   ]
  },
  {
   "cell_type": "markdown",
   "id": "100befeb",
   "metadata": {},
   "source": [
    "### First Pass Categorical Features\n",
    "To get a sense of the independent variables in this dataset, we'll use a helper function to iterate through each categorical variable and look at:\n",
    "- percentage of missing data\n",
    "- value counts of observations\n",
    "- anomalies and outliers\n",
    "- distribution of variables via barplot and boxplot\n",
    "\n",
    "No changes will be made to data - this will be saved for feature engineering and selection."
   ]
  },
  {
   "cell_type": "code",
   "execution_count": 15,
   "id": "852a52b8",
   "metadata": {},
   "outputs": [],
   "source": [
    "view_cat = look_cat(cat_var)"
   ]
  },
  {
   "cell_type": "code",
   "execution_count": 16,
   "id": "04f93a07",
   "metadata": {},
   "outputs": [
    {
     "name": "stdout",
     "output_type": "stream",
     "text": [
      "MSSubClass has 0 missing observations, equal to 0.0%\n",
      "20     536\n",
      "60     299\n",
      "50     144\n",
      "120     87\n",
      "30      69\n",
      "160     63\n",
      "70      60\n",
      "80      58\n",
      "90      52\n",
      "190     30\n",
      "85      20\n",
      "75      16\n",
      "45      12\n",
      "180     10\n",
      "40       4\n",
      "Name: MSSubClass, dtype: int64\n"
     ]
    },
    {
     "data": {
      "text/plain": [
       "<AxesSubplot:xlabel='MSSubClass', ylabel='Log of Sale Price'>"
      ]
     },
     "execution_count": 16,
     "metadata": {},
     "output_type": "execute_result"
    },
    {
     "data": {
      "image/png": "[encoded data removed]",
      "text/plain": [
       "<Figure size 432x288 with 1 Axes>"
      ]
     },
     "metadata": {},
     "output_type": "display_data"
    },
    {
     "data": {
      "image/png": "[encoded data removed]",
      "text/plain": [
       "<Figure size 432x288 with 1 Axes>"
      ]
     },
     "metadata": {},
     "output_type": "display_data"
    }
   ],
   "source": [
    "#Rerun this cell to see the first pass look at the next categorical variable\n",
    "#49 total runs\n",
    "next(view_cat)"
   ]
  },
  {
   "cell_type": "markdown",
   "id": "338207c2",
   "metadata": {},
   "source": [
    "### First Pass Numerical Features\n",
    "To get a sense of the idependent variables in this dataset, we'll use a helper function to iterate through each categorical variable and look at:\n",
    "- missing data\n",
    "- anomalies and outliers\n",
    "- pearson's correlation with dependent variable\n",
    "- distribution via histogram and scatterplot\n",
    "\n",
    "No changes will be made to data - this will be saved for feature engineering and selection."
   ]
  },
  {
   "cell_type": "code",
   "execution_count": 17,
   "id": "5ac909ca",
   "metadata": {},
   "outputs": [],
   "source": [
    "view_num = look_num(num_var)"
   ]
  },
  {
   "cell_type": "code",
   "execution_count": 18,
   "id": "132332f2",
   "metadata": {},
   "outputs": [
    {
     "name": "stdout",
     "output_type": "stream",
     "text": [
      "LotFrontage has 259 missing observations, equal to 17.74%\n",
      "count    1201.000000\n",
      "mean       70.049958\n",
      "std        24.284752\n",
      "min        21.000000\n",
      "25%        59.000000\n",
      "50%        69.000000\n",
      "75%        80.000000\n",
      "max       313.000000\n",
      "Name: LotFrontage, dtype: float64\n"
     ]
    },
    {
     "data": {
      "text/plain": [
       "<AxesSubplot:xlabel='LotFrontage', ylabel='Log of Sale Price'>"
      ]
     },
     "execution_count": 18,
     "metadata": {},
     "output_type": "execute_result"
    },
    {
     "data": {
      "image/png": "[encoded data removed]",
      "text/plain": [
       "<Figure size 432x288 with 1 Axes>"
      ]
     },
     "metadata": {},
     "output_type": "display_data"
    },
    {
     "data": {
      "image/png": "[encoded data removed]",
      "text/plain": [
       "<Figure size 432x288 with 1 Axes>"
      ]
     },
     "metadata": {},
     "output_type": "display_data"
    }
   ],
   "source": [
    "#Rerun this cell to see the first pass of the next numerical variable\n",
    "#31 runs\n",
    "next(view_num)"
   ]
  },
  {
   "cell_type": "markdown",
   "id": "ed6c16e7",
   "metadata": {},
   "source": [
    "### Looking into Multicollinearity among Features"
   ]
  },
  {
   "cell_type": "code",
   "execution_count": 1,
   "id": "a83c99bd",
   "metadata": {
    "scrolled": true
   },
   "outputs": [
    {
     "ename": "NameError",
     "evalue": "name 'train' is not defined",
     "output_type": "error",
     "traceback": [
      "\u001b[1;31m---------------------------------------------------------------------------\u001b[0m",
      "\u001b[1;31mNameError\u001b[0m                                 Traceback (most recent call last)",
      "\u001b[1;32m<ipython-input-1-1e9dd349a34d>\u001b[0m in \u001b[0;36m<module>\u001b[1;34m\u001b[0m\n\u001b[0;32m      1\u001b[0m \u001b[1;31m#correlation matrix\u001b[0m\u001b[1;33m\u001b[0m\u001b[1;33m\u001b[0m\u001b[1;33m\u001b[0m\u001b[0m\n\u001b[1;32m----> 2\u001b[1;33m \u001b[0mcorrmat\u001b[0m \u001b[1;33m=\u001b[0m \u001b[0mtrain\u001b[0m\u001b[1;33m.\u001b[0m\u001b[0mcorr\u001b[0m\u001b[1;33m(\u001b[0m\u001b[1;33m)\u001b[0m\u001b[1;33m\u001b[0m\u001b[1;33m\u001b[0m\u001b[0m\n\u001b[0m\u001b[0;32m      3\u001b[0m \u001b[0mf\u001b[0m\u001b[1;33m,\u001b[0m \u001b[0max\u001b[0m \u001b[1;33m=\u001b[0m \u001b[0mplt\u001b[0m\u001b[1;33m.\u001b[0m\u001b[0msubplots\u001b[0m\u001b[1;33m(\u001b[0m\u001b[0mfigsize\u001b[0m\u001b[1;33m=\u001b[0m\u001b[1;33m(\u001b[0m\u001b[1;36m12\u001b[0m\u001b[1;33m,\u001b[0m \u001b[1;36m9\u001b[0m\u001b[1;33m)\u001b[0m\u001b[1;33m)\u001b[0m\u001b[1;33m\u001b[0m\u001b[1;33m\u001b[0m\u001b[0m\n\u001b[0;32m      4\u001b[0m \u001b[0msns\u001b[0m\u001b[1;33m.\u001b[0m\u001b[0mheatmap\u001b[0m\u001b[1;33m(\u001b[0m\u001b[0mcorrmat\u001b[0m\u001b[1;33m,\u001b[0m \u001b[0mvmax\u001b[0m\u001b[1;33m=\u001b[0m\u001b[1;36m.8\u001b[0m\u001b[1;33m,\u001b[0m \u001b[0mcmap\u001b[0m \u001b[1;33m=\u001b[0m \u001b[1;34m'coolwarm'\u001b[0m\u001b[1;33m,\u001b[0m \u001b[0msquare\u001b[0m\u001b[1;33m=\u001b[0m\u001b[1;32mTrue\u001b[0m\u001b[1;33m)\u001b[0m\u001b[1;33m;\u001b[0m\u001b[1;33m\u001b[0m\u001b[1;33m\u001b[0m\u001b[0m\n",
      "\u001b[1;31mNameError\u001b[0m: name 'train' is not defined"
     ]
    }
   ],
   "source": [
    "#correlation matrix\n",
    "corrmat = train.corr()\n",
    "f, ax = plt.subplots(figsize=(12, 9))\n",
    "sns.heatmap(corrmat, vmax=.8, cmap = 'coolwarm', square=True);"
   ]
  },
  {
   "cell_type": "code",
   "execution_count": 20,
   "id": "368614bc",
   "metadata": {
    "scrolled": true
   },
   "outputs": [
    {
     "data": {
      "image/png": "[encoded data removed]",
      "text/plain": [
       "<Figure size 432x288 with 2 Axes>"
      ]
     },
     "metadata": {},
     "output_type": "display_data"
    }
   ],
   "source": [
    "#log_saleprice correlation matrix\n",
    "k = 10 #number of variables for heatmap\n",
    "cols = corrmat.nlargest(k, 'log_SalePrice')['log_SalePrice'].index\n",
    "cm = np.corrcoef(train[cols].values.T)\n",
    "sns.set(font_scale=1.25)\n",
    "hm = sns.heatmap(cm, cmap = 'coolwarm' cbar=True, annot=True, square=True, fmt='.2f', annot_kws={'size': 10}, yticklabels=cols.values, xticklabels=cols.values)\n",
    "plt.show()"
   ]
  },
  {
   "cell_type": "markdown",
   "id": "ebe7e389",
   "metadata": {},
   "source": [
    "<p><a name=\"FEN\"></a></p>\n",
    "\n",
    "# Feature Engineering\n",
    " \n",
    " ##### Features to create\n",
    " - AgeHome -> Age of Home\n",
    " - YrsSnRmdl -> Years since remodeling\n",
    " - BthrmAbvGrd -> Number of above ground bathrooms\n",
    " - BthrmBsmt -> Number of basement bathrooms\n",
    " - NeighbQuality -> Group Neighborhoods based on OverallQual and OverallCond\n",
    " \n",
    "##### Features to drop\n",
    " - Utilities - all obs use public utilities except for one\n",
    " - GarageArea - multicollinear with GarageCars\n",
    " - Full Bath and Half Bath - used for feature engineering\n",
    " - BsmtFullBath and BsmtHalfBath - used for feature engineering"
   ]
  },
  {
   "cell_type": "code",
   "execution_count": 47,
   "id": "8fa1c84a",
   "metadata": {},
   "outputs": [],
   "source": [
    "#making sure Year Sold and Year Built features are integers\n",
    "train['YrSold'] = train['YrSold'].astype(int)\n",
    "train['YearBuilt'] = train['YearBuilt'].astype(int)"
   ]
  },
  {
   "cell_type": "code",
   "execution_count": 48,
   "id": "39c00103",
   "metadata": {},
   "outputs": [],
   "source": [
    "#Creating new features\n",
    "train['AgeHome'] = train['YrSold'] - train['YearBuilt']\n",
    "train['YrsSnRmdl'] = train['YrSold'] - train['YearRemodAdd']\n",
    "train['BthrmAbvGrd'] = train['FullBath'] + (train['HalfBath']*.5)\n",
    "train['BthrmBsmt'] = train['BsmtFullBath'] + train['BsmtHalfBath']"
   ]
  },
  {
   "cell_type": "code",
   "execution_count": 49,
   "id": "def19287",
   "metadata": {},
   "outputs": [
    {
     "data": {
      "text/plain": [
       "(1460, 86)"
      ]
     },
     "execution_count": 49,
     "metadata": {},
     "output_type": "execute_result"
    }
   ],
   "source": [
    "train.shape"
   ]
  },
  {
   "cell_type": "code",
   "execution_count": 50,
   "id": "cd307e0d",
   "metadata": {},
   "outputs": [],
   "source": [
    "#making sure OverallQual, OverallCond, ExterQual, ExterCond are integers\n",
    "train['OverallQual'] = train['OverallQual'].astype(int)\n",
    "train['OverallCond'] = train['OverallCond'].astype(int)\n",
    "#train['ExterQual'] = train['ExterQual'].astype(int)\n",
    "#train['ExterCond'] = train['ExterCond'].astype(int)"
   ]
  },
  {
   "cell_type": "code",
   "execution_count": 51,
   "id": "83140131",
   "metadata": {},
   "outputs": [],
   "source": [
    "#Creating a Neighborhood Quality Score\n",
    "temp_ = train[['Neighborhood', 'OverallQual', 'OverallCond']].copy().groupby(['Neighborhood']).mean()"
   ]
  },
  {
   "cell_type": "code",
   "execution_count": 52,
   "id": "6a3f19fc",
   "metadata": {},
   "outputs": [
    {
     "data": {
      "text/html": [
       "<div>\n",
       "<style scoped>\n",
       "    .dataframe tbody tr th:only-of-type {\n",
       "        vertical-align: middle;\n",
       "    }\n",
       "\n",
       "    .dataframe tbody tr th {\n",
       "        vertical-align: top;\n",
       "    }\n",
       "\n",
       "    .dataframe thead th {\n",
       "        text-align: right;\n",
       "    }\n",
       "</style>\n",
       "<table border=\"1\" class=\"dataframe\">\n",
       "  <thead>\n",
       "    <tr style=\"text-align: right;\">\n",
       "      <th></th>\n",
       "      <th>OverallQual</th>\n",
       "      <th>OverallCond</th>\n",
       "    </tr>\n",
       "    <tr>\n",
       "      <th>Neighborhood</th>\n",
       "      <th></th>\n",
       "      <th></th>\n",
       "    </tr>\n",
       "  </thead>\n",
       "  <tbody>\n",
       "    <tr>\n",
       "      <th>Blmngtn</th>\n",
       "      <td>7.176471</td>\n",
       "      <td>5.000000</td>\n",
       "    </tr>\n",
       "    <tr>\n",
       "      <th>Blueste</th>\n",
       "      <td>6.000000</td>\n",
       "      <td>6.000000</td>\n",
       "    </tr>\n",
       "    <tr>\n",
       "      <th>BrDale</th>\n",
       "      <td>5.687500</td>\n",
       "      <td>5.437500</td>\n",
       "    </tr>\n",
       "    <tr>\n",
       "      <th>BrkSide</th>\n",
       "      <td>5.051724</td>\n",
       "      <td>6.137931</td>\n",
       "    </tr>\n",
       "    <tr>\n",
       "      <th>ClearCr</th>\n",
       "      <td>5.892857</td>\n",
       "      <td>5.678571</td>\n",
       "    </tr>\n",
       "    <tr>\n",
       "      <th>CollgCr</th>\n",
       "      <td>6.640000</td>\n",
       "      <td>5.240000</td>\n",
       "    </tr>\n",
       "    <tr>\n",
       "      <th>Crawfor</th>\n",
       "      <td>6.274510</td>\n",
       "      <td>6.588235</td>\n",
       "    </tr>\n",
       "    <tr>\n",
       "      <th>Edwards</th>\n",
       "      <td>5.080000</td>\n",
       "      <td>5.440000</td>\n",
       "    </tr>\n",
       "    <tr>\n",
       "      <th>Gilbert</th>\n",
       "      <td>6.556962</td>\n",
       "      <td>5.126582</td>\n",
       "    </tr>\n",
       "    <tr>\n",
       "      <th>IDOTRR</th>\n",
       "      <td>4.756757</td>\n",
       "      <td>5.540541</td>\n",
       "    </tr>\n",
       "    <tr>\n",
       "      <th>MeadowV</th>\n",
       "      <td>4.470588</td>\n",
       "      <td>5.529412</td>\n",
       "    </tr>\n",
       "    <tr>\n",
       "      <th>Mitchel</th>\n",
       "      <td>5.591837</td>\n",
       "      <td>5.367347</td>\n",
       "    </tr>\n",
       "    <tr>\n",
       "      <th>NAmes</th>\n",
       "      <td>5.360000</td>\n",
       "      <td>5.791111</td>\n",
       "    </tr>\n",
       "    <tr>\n",
       "      <th>NPkVill</th>\n",
       "      <td>6.000000</td>\n",
       "      <td>5.555556</td>\n",
       "    </tr>\n",
       "    <tr>\n",
       "      <th>NWAmes</th>\n",
       "      <td>6.328767</td>\n",
       "      <td>5.945205</td>\n",
       "    </tr>\n",
       "    <tr>\n",
       "      <th>NoRidge</th>\n",
       "      <td>7.926829</td>\n",
       "      <td>5.219512</td>\n",
       "    </tr>\n",
       "    <tr>\n",
       "      <th>NridgHt</th>\n",
       "      <td>8.259740</td>\n",
       "      <td>5.000000</td>\n",
       "    </tr>\n",
       "    <tr>\n",
       "      <th>OldTown</th>\n",
       "      <td>5.389381</td>\n",
       "      <td>6.353982</td>\n",
       "    </tr>\n",
       "    <tr>\n",
       "      <th>SWISU</th>\n",
       "      <td>5.440000</td>\n",
       "      <td>5.920000</td>\n",
       "    </tr>\n",
       "    <tr>\n",
       "      <th>Sawyer</th>\n",
       "      <td>5.027027</td>\n",
       "      <td>5.810811</td>\n",
       "    </tr>\n",
       "    <tr>\n",
       "      <th>SawyerW</th>\n",
       "      <td>6.322034</td>\n",
       "      <td>5.152542</td>\n",
       "    </tr>\n",
       "    <tr>\n",
       "      <th>Somerst</th>\n",
       "      <td>7.337209</td>\n",
       "      <td>5.034884</td>\n",
       "    </tr>\n",
       "    <tr>\n",
       "      <th>StoneBr</th>\n",
       "      <td>8.160000</td>\n",
       "      <td>5.000000</td>\n",
       "    </tr>\n",
       "    <tr>\n",
       "      <th>Timber</th>\n",
       "      <td>7.157895</td>\n",
       "      <td>5.131579</td>\n",
       "    </tr>\n",
       "    <tr>\n",
       "      <th>Veenker</th>\n",
       "      <td>6.727273</td>\n",
       "      <td>6.272727</td>\n",
       "    </tr>\n",
       "  </tbody>\n",
       "</table>\n",
       "</div>"
      ],
      "text/plain": [
       "              OverallQual  OverallCond\n",
       "Neighborhood                          \n",
       "Blmngtn          7.176471     5.000000\n",
       "Blueste          6.000000     6.000000\n",
       "BrDale           5.687500     5.437500\n",
       "BrkSide          5.051724     6.137931\n",
       "ClearCr          5.892857     5.678571\n",
       "CollgCr          6.640000     5.240000\n",
       "Crawfor          6.274510     6.588235\n",
       "Edwards          5.080000     5.440000\n",
       "Gilbert          6.556962     5.126582\n",
       "IDOTRR           4.756757     5.540541\n",
       "MeadowV          4.470588     5.529412\n",
       "Mitchel          5.591837     5.367347\n",
       "NAmes            5.360000     5.791111\n",
       "NPkVill          6.000000     5.555556\n",
       "NWAmes           6.328767     5.945205\n",
       "NoRidge          7.926829     5.219512\n",
       "NridgHt          8.259740     5.000000\n",
       "OldTown          5.389381     6.353982\n",
       "SWISU            5.440000     5.920000\n",
       "Sawyer           5.027027     5.810811\n",
       "SawyerW          6.322034     5.152542\n",
       "Somerst          7.337209     5.034884\n",
       "StoneBr          8.160000     5.000000\n",
       "Timber           7.157895     5.131579\n",
       "Veenker          6.727273     6.272727"
      ]
     },
     "execution_count": 52,
     "metadata": {},
     "output_type": "execute_result"
    }
   ],
   "source": [
    "temp_"
   ]
  },
  {
   "cell_type": "code",
   "execution_count": 53,
   "id": "0ccb270a",
   "metadata": {},
   "outputs": [],
   "source": [
    "#adding OverallQual average, and OverallCond average for each neighborhood\n",
    "temp_['NeighbQual'] = temp_['OverallQual'] + temp_['OverallCond']\n",
    "temp_.drop(['OverallQual', 'OverallCond'], axis = 1, inplace = True)"
   ]
  },
  {
   "cell_type": "code",
   "execution_count": 54,
   "id": "4db5c2ed",
   "metadata": {},
   "outputs": [
    {
     "data": {
      "text/html": [
       "<div>\n",
       "<style scoped>\n",
       "    .dataframe tbody tr th:only-of-type {\n",
       "        vertical-align: middle;\n",
       "    }\n",
       "\n",
       "    .dataframe tbody tr th {\n",
       "        vertical-align: top;\n",
       "    }\n",
       "\n",
       "    .dataframe thead th {\n",
       "        text-align: right;\n",
       "    }\n",
       "</style>\n",
       "<table border=\"1\" class=\"dataframe\">\n",
       "  <thead>\n",
       "    <tr style=\"text-align: right;\">\n",
       "      <th></th>\n",
       "      <th>NeighbQual</th>\n",
       "    </tr>\n",
       "    <tr>\n",
       "      <th>Neighborhood</th>\n",
       "      <th></th>\n",
       "    </tr>\n",
       "  </thead>\n",
       "  <tbody>\n",
       "    <tr>\n",
       "      <th>NridgHt</th>\n",
       "      <td>13.259740</td>\n",
       "    </tr>\n",
       "    <tr>\n",
       "      <th>StoneBr</th>\n",
       "      <td>13.160000</td>\n",
       "    </tr>\n",
       "    <tr>\n",
       "      <th>NoRidge</th>\n",
       "      <td>13.146341</td>\n",
       "    </tr>\n",
       "    <tr>\n",
       "      <th>Veenker</th>\n",
       "      <td>13.000000</td>\n",
       "    </tr>\n",
       "    <tr>\n",
       "      <th>Crawfor</th>\n",
       "      <td>12.862745</td>\n",
       "    </tr>\n",
       "    <tr>\n",
       "      <th>Somerst</th>\n",
       "      <td>12.372093</td>\n",
       "    </tr>\n",
       "    <tr>\n",
       "      <th>Timber</th>\n",
       "      <td>12.289474</td>\n",
       "    </tr>\n",
       "    <tr>\n",
       "      <th>NWAmes</th>\n",
       "      <td>12.273973</td>\n",
       "    </tr>\n",
       "    <tr>\n",
       "      <th>Blmngtn</th>\n",
       "      <td>12.176471</td>\n",
       "    </tr>\n",
       "    <tr>\n",
       "      <th>Blueste</th>\n",
       "      <td>12.000000</td>\n",
       "    </tr>\n",
       "    <tr>\n",
       "      <th>CollgCr</th>\n",
       "      <td>11.880000</td>\n",
       "    </tr>\n",
       "    <tr>\n",
       "      <th>OldTown</th>\n",
       "      <td>11.743363</td>\n",
       "    </tr>\n",
       "    <tr>\n",
       "      <th>Gilbert</th>\n",
       "      <td>11.683544</td>\n",
       "    </tr>\n",
       "    <tr>\n",
       "      <th>ClearCr</th>\n",
       "      <td>11.571429</td>\n",
       "    </tr>\n",
       "    <tr>\n",
       "      <th>NPkVill</th>\n",
       "      <td>11.555556</td>\n",
       "    </tr>\n",
       "    <tr>\n",
       "      <th>SawyerW</th>\n",
       "      <td>11.474576</td>\n",
       "    </tr>\n",
       "    <tr>\n",
       "      <th>SWISU</th>\n",
       "      <td>11.360000</td>\n",
       "    </tr>\n",
       "    <tr>\n",
       "      <th>BrkSide</th>\n",
       "      <td>11.189655</td>\n",
       "    </tr>\n",
       "    <tr>\n",
       "      <th>NAmes</th>\n",
       "      <td>11.151111</td>\n",
       "    </tr>\n",
       "    <tr>\n",
       "      <th>BrDale</th>\n",
       "      <td>11.125000</td>\n",
       "    </tr>\n",
       "    <tr>\n",
       "      <th>Mitchel</th>\n",
       "      <td>10.959184</td>\n",
       "    </tr>\n",
       "    <tr>\n",
       "      <th>Sawyer</th>\n",
       "      <td>10.837838</td>\n",
       "    </tr>\n",
       "    <tr>\n",
       "      <th>Edwards</th>\n",
       "      <td>10.520000</td>\n",
       "    </tr>\n",
       "    <tr>\n",
       "      <th>IDOTRR</th>\n",
       "      <td>10.297297</td>\n",
       "    </tr>\n",
       "    <tr>\n",
       "      <th>MeadowV</th>\n",
       "      <td>10.000000</td>\n",
       "    </tr>\n",
       "  </tbody>\n",
       "</table>\n",
       "</div>"
      ],
      "text/plain": [
       "              NeighbQual\n",
       "Neighborhood            \n",
       "NridgHt        13.259740\n",
       "StoneBr        13.160000\n",
       "NoRidge        13.146341\n",
       "Veenker        13.000000\n",
       "Crawfor        12.862745\n",
       "Somerst        12.372093\n",
       "Timber         12.289474\n",
       "NWAmes         12.273973\n",
       "Blmngtn        12.176471\n",
       "Blueste        12.000000\n",
       "CollgCr        11.880000\n",
       "OldTown        11.743363\n",
       "Gilbert        11.683544\n",
       "ClearCr        11.571429\n",
       "NPkVill        11.555556\n",
       "SawyerW        11.474576\n",
       "SWISU          11.360000\n",
       "BrkSide        11.189655\n",
       "NAmes          11.151111\n",
       "BrDale         11.125000\n",
       "Mitchel        10.959184\n",
       "Sawyer         10.837838\n",
       "Edwards        10.520000\n",
       "IDOTRR         10.297297\n",
       "MeadowV        10.000000"
      ]
     },
     "execution_count": 54,
     "metadata": {},
     "output_type": "execute_result"
    }
   ],
   "source": [
    "temp_.sort_values(by = ['NeighbQual'], ascending = False, inplace = True)\n",
    "temp_"
   ]
  },
  {
   "cell_type": "code",
   "execution_count": 55,
   "id": "455d2685",
   "metadata": {},
   "outputs": [
    {
     "name": "stdout",
     "output_type": "stream",
     "text": [
      "11.683544303797468\n",
      "11.755575573823654\n"
     ]
    }
   ],
   "source": [
    "print(temp_['NeighbQual'].median())\n",
    "print(temp_['NeighbQual'].mean())"
   ]
  },
  {
   "cell_type": "code",
   "execution_count": 56,
   "id": "22897bb3",
   "metadata": {},
   "outputs": [],
   "source": [
    "#Creating lists of which neighborhoods are in each group\n",
    "Ex = temp_.iloc[0:5].reset_index()['Neighborhood'].tolist()\n",
    "Gd = temp_.iloc[5:10].reset_index()['Neighborhood'].tolist()\n",
    "TA = temp_.iloc[10:15].reset_index()['Neighborhood'].tolist()\n",
    "Fa = temp_.iloc[15:20].reset_index()['Neighborhood'].tolist()\n",
    "Po = temp_.iloc[20:25].reset_index()['Neighborhood'].tolist()"
   ]
  },
  {
   "cell_type": "code",
   "execution_count": 57,
   "id": "f5218dc9",
   "metadata": {},
   "outputs": [
    {
     "data": {
      "text/plain": [
       "25"
      ]
     },
     "execution_count": 57,
     "metadata": {},
     "output_type": "execute_result"
    }
   ],
   "source": [
    "#doublechecking to make sure all neighborhoods got covered - expecting 25\n",
    "len(Ex + Gd + TA + Fa + Po)"
   ]
  },
  {
   "cell_type": "code",
   "execution_count": 58,
   "id": "5c87f3a5",
   "metadata": {},
   "outputs": [],
   "source": [
    "#assigning a neighborhood quality group to each observation\n",
    "train['NeighbQual'] = np.nan"
   ]
  },
  {
   "cell_type": "code",
   "execution_count": 328,
   "id": "97357b17",
   "metadata": {},
   "outputs": [
    {
     "ename": "KeyError",
     "evalue": "'[451, 335] not in index'",
     "output_type": "error",
     "traceback": [
      "\u001b[1;31m---------------------------------------------------------------------------\u001b[0m",
      "\u001b[1;31mKeyError\u001b[0m                                  Traceback (most recent call last)",
      "\u001b[1;32m<ipython-input-328-e5284b8e70ae>\u001b[0m in \u001b[0;36m<module>\u001b[1;34m\u001b[0m\n\u001b[0;32m      5\u001b[0m \u001b[1;32mfor\u001b[0m \u001b[0mn\u001b[0m \u001b[1;32min\u001b[0m \u001b[0mGd\u001b[0m\u001b[1;33m:\u001b[0m\u001b[1;33m\u001b[0m\u001b[1;33m\u001b[0m\u001b[0m\n\u001b[0;32m      6\u001b[0m     \u001b[0mind\u001b[0m \u001b[1;33m=\u001b[0m \u001b[0mnp\u001b[0m\u001b[1;33m.\u001b[0m\u001b[0mwhere\u001b[0m\u001b[1;33m(\u001b[0m\u001b[0mtrain\u001b[0m\u001b[1;33m[\u001b[0m\u001b[1;34m'Neighborhood'\u001b[0m\u001b[1;33m]\u001b[0m \u001b[1;33m==\u001b[0m \u001b[0mn\u001b[0m\u001b[1;33m)\u001b[0m\u001b[1;33m[\u001b[0m\u001b[1;36m0\u001b[0m\u001b[1;33m]\u001b[0m\u001b[1;33m.\u001b[0m\u001b[0mtolist\u001b[0m\u001b[1;33m(\u001b[0m\u001b[1;33m)\u001b[0m\u001b[1;33m\u001b[0m\u001b[1;33m\u001b[0m\u001b[0m\n\u001b[1;32m----> 7\u001b[1;33m     \u001b[0mtrain\u001b[0m\u001b[1;33m.\u001b[0m\u001b[0mloc\u001b[0m\u001b[1;33m[\u001b[0m\u001b[0mind\u001b[0m\u001b[1;33m,\u001b[0m\u001b[1;34m'NeighbQual'\u001b[0m\u001b[1;33m]\u001b[0m \u001b[1;33m=\u001b[0m \u001b[1;34m'Gd'\u001b[0m\u001b[1;33m\u001b[0m\u001b[1;33m\u001b[0m\u001b[0m\n\u001b[0m\u001b[0;32m      8\u001b[0m \u001b[1;33m\u001b[0m\u001b[0m\n\u001b[0;32m      9\u001b[0m \u001b[1;32mfor\u001b[0m \u001b[0mn\u001b[0m \u001b[1;32min\u001b[0m \u001b[0mTA\u001b[0m\u001b[1;33m:\u001b[0m\u001b[1;33m\u001b[0m\u001b[1;33m\u001b[0m\u001b[0m\n",
      "\u001b[1;32m~\\anaconda3\\lib\\site-packages\\pandas\\core\\indexing.py\u001b[0m in \u001b[0;36m__setitem__\u001b[1;34m(self, key, value)\u001b[0m\n\u001b[0;32m    686\u001b[0m         \u001b[1;32melse\u001b[0m\u001b[1;33m:\u001b[0m\u001b[1;33m\u001b[0m\u001b[1;33m\u001b[0m\u001b[0m\n\u001b[0;32m    687\u001b[0m             \u001b[0mkey\u001b[0m \u001b[1;33m=\u001b[0m \u001b[0mcom\u001b[0m\u001b[1;33m.\u001b[0m\u001b[0mapply_if_callable\u001b[0m\u001b[1;33m(\u001b[0m\u001b[0mkey\u001b[0m\u001b[1;33m,\u001b[0m \u001b[0mself\u001b[0m\u001b[1;33m.\u001b[0m\u001b[0mobj\u001b[0m\u001b[1;33m)\u001b[0m\u001b[1;33m\u001b[0m\u001b[1;33m\u001b[0m\u001b[0m\n\u001b[1;32m--> 688\u001b[1;33m         \u001b[0mindexer\u001b[0m \u001b[1;33m=\u001b[0m \u001b[0mself\u001b[0m\u001b[1;33m.\u001b[0m\u001b[0m_get_setitem_indexer\u001b[0m\u001b[1;33m(\u001b[0m\u001b[0mkey\u001b[0m\u001b[1;33m)\u001b[0m\u001b[1;33m\u001b[0m\u001b[1;33m\u001b[0m\u001b[0m\n\u001b[0m\u001b[0;32m    689\u001b[0m         \u001b[0mself\u001b[0m\u001b[1;33m.\u001b[0m\u001b[0m_has_valid_setitem_indexer\u001b[0m\u001b[1;33m(\u001b[0m\u001b[0mkey\u001b[0m\u001b[1;33m)\u001b[0m\u001b[1;33m\u001b[0m\u001b[1;33m\u001b[0m\u001b[0m\n\u001b[0;32m    690\u001b[0m \u001b[1;33m\u001b[0m\u001b[0m\n",
      "\u001b[1;32m~\\anaconda3\\lib\\site-packages\\pandas\\core\\indexing.py\u001b[0m in \u001b[0;36m_get_setitem_indexer\u001b[1;34m(self, key)\u001b[0m\n\u001b[0;32m    628\u001b[0m         \u001b[1;32mif\u001b[0m \u001b[0misinstance\u001b[0m\u001b[1;33m(\u001b[0m\u001b[0mkey\u001b[0m\u001b[1;33m,\u001b[0m \u001b[0mtuple\u001b[0m\u001b[1;33m)\u001b[0m\u001b[1;33m:\u001b[0m\u001b[1;33m\u001b[0m\u001b[1;33m\u001b[0m\u001b[0m\n\u001b[0;32m    629\u001b[0m             \u001b[1;32mwith\u001b[0m \u001b[0msuppress\u001b[0m\u001b[1;33m(\u001b[0m\u001b[0mIndexingError\u001b[0m\u001b[1;33m)\u001b[0m\u001b[1;33m:\u001b[0m\u001b[1;33m\u001b[0m\u001b[1;33m\u001b[0m\u001b[0m\n\u001b[1;32m--> 630\u001b[1;33m                 \u001b[1;32mreturn\u001b[0m \u001b[0mself\u001b[0m\u001b[1;33m.\u001b[0m\u001b[0m_convert_tuple\u001b[0m\u001b[1;33m(\u001b[0m\u001b[0mkey\u001b[0m\u001b[1;33m,\u001b[0m \u001b[0mis_setter\u001b[0m\u001b[1;33m=\u001b[0m\u001b[1;32mTrue\u001b[0m\u001b[1;33m)\u001b[0m\u001b[1;33m\u001b[0m\u001b[1;33m\u001b[0m\u001b[0m\n\u001b[0m\u001b[0;32m    631\u001b[0m \u001b[1;33m\u001b[0m\u001b[0m\n\u001b[0;32m    632\u001b[0m         \u001b[1;32mif\u001b[0m \u001b[0misinstance\u001b[0m\u001b[1;33m(\u001b[0m\u001b[0mkey\u001b[0m\u001b[1;33m,\u001b[0m \u001b[0mrange\u001b[0m\u001b[1;33m)\u001b[0m\u001b[1;33m:\u001b[0m\u001b[1;33m\u001b[0m\u001b[1;33m\u001b[0m\u001b[0m\n",
      "\u001b[1;32m~\\anaconda3\\lib\\site-packages\\pandas\\core\\indexing.py\u001b[0m in \u001b[0;36m_convert_tuple\u001b[1;34m(self, key, is_setter)\u001b[0m\n\u001b[0;32m    752\u001b[0m             \u001b[0mself\u001b[0m\u001b[1;33m.\u001b[0m\u001b[0m_validate_key_length\u001b[0m\u001b[1;33m(\u001b[0m\u001b[0mkey\u001b[0m\u001b[1;33m)\u001b[0m\u001b[1;33m\u001b[0m\u001b[1;33m\u001b[0m\u001b[0m\n\u001b[0;32m    753\u001b[0m             \u001b[1;32mfor\u001b[0m \u001b[0mi\u001b[0m\u001b[1;33m,\u001b[0m \u001b[0mk\u001b[0m \u001b[1;32min\u001b[0m \u001b[0menumerate\u001b[0m\u001b[1;33m(\u001b[0m\u001b[0mkey\u001b[0m\u001b[1;33m)\u001b[0m\u001b[1;33m:\u001b[0m\u001b[1;33m\u001b[0m\u001b[1;33m\u001b[0m\u001b[0m\n\u001b[1;32m--> 754\u001b[1;33m                 \u001b[0midx\u001b[0m \u001b[1;33m=\u001b[0m \u001b[0mself\u001b[0m\u001b[1;33m.\u001b[0m\u001b[0m_convert_to_indexer\u001b[0m\u001b[1;33m(\u001b[0m\u001b[0mk\u001b[0m\u001b[1;33m,\u001b[0m \u001b[0maxis\u001b[0m\u001b[1;33m=\u001b[0m\u001b[0mi\u001b[0m\u001b[1;33m,\u001b[0m \u001b[0mis_setter\u001b[0m\u001b[1;33m=\u001b[0m\u001b[0mis_setter\u001b[0m\u001b[1;33m)\u001b[0m\u001b[1;33m\u001b[0m\u001b[1;33m\u001b[0m\u001b[0m\n\u001b[0m\u001b[0;32m    755\u001b[0m                 \u001b[0mkeyidx\u001b[0m\u001b[1;33m.\u001b[0m\u001b[0mappend\u001b[0m\u001b[1;33m(\u001b[0m\u001b[0midx\u001b[0m\u001b[1;33m)\u001b[0m\u001b[1;33m\u001b[0m\u001b[1;33m\u001b[0m\u001b[0m\n\u001b[0;32m    756\u001b[0m \u001b[1;33m\u001b[0m\u001b[0m\n",
      "\u001b[1;32m~\\anaconda3\\lib\\site-packages\\pandas\\core\\indexing.py\u001b[0m in \u001b[0;36m_convert_to_indexer\u001b[1;34m(self, key, axis, is_setter)\u001b[0m\n\u001b[0;32m   1210\u001b[0m             \u001b[1;32melse\u001b[0m\u001b[1;33m:\u001b[0m\u001b[1;33m\u001b[0m\u001b[1;33m\u001b[0m\u001b[0m\n\u001b[0;32m   1211\u001b[0m                 \u001b[1;31m# When setting, missing keys are not allowed, even with .loc:\u001b[0m\u001b[1;33m\u001b[0m\u001b[1;33m\u001b[0m\u001b[1;33m\u001b[0m\u001b[0m\n\u001b[1;32m-> 1212\u001b[1;33m                 \u001b[1;32mreturn\u001b[0m \u001b[0mself\u001b[0m\u001b[1;33m.\u001b[0m\u001b[0m_get_listlike_indexer\u001b[0m\u001b[1;33m(\u001b[0m\u001b[0mkey\u001b[0m\u001b[1;33m,\u001b[0m \u001b[0maxis\u001b[0m\u001b[1;33m,\u001b[0m \u001b[0mraise_missing\u001b[0m\u001b[1;33m=\u001b[0m\u001b[1;32mTrue\u001b[0m\u001b[1;33m)\u001b[0m\u001b[1;33m[\u001b[0m\u001b[1;36m1\u001b[0m\u001b[1;33m]\u001b[0m\u001b[1;33m\u001b[0m\u001b[1;33m\u001b[0m\u001b[0m\n\u001b[0m\u001b[0;32m   1213\u001b[0m         \u001b[1;32melse\u001b[0m\u001b[1;33m:\u001b[0m\u001b[1;33m\u001b[0m\u001b[1;33m\u001b[0m\u001b[0m\n\u001b[0;32m   1214\u001b[0m             \u001b[1;32mtry\u001b[0m\u001b[1;33m:\u001b[0m\u001b[1;33m\u001b[0m\u001b[1;33m\u001b[0m\u001b[0m\n",
      "\u001b[1;32m~\\anaconda3\\lib\\site-packages\\pandas\\core\\indexing.py\u001b[0m in \u001b[0;36m_get_listlike_indexer\u001b[1;34m(self, key, axis, raise_missing)\u001b[0m\n\u001b[0;32m   1264\u001b[0m             \u001b[0mkeyarr\u001b[0m\u001b[1;33m,\u001b[0m \u001b[0mindexer\u001b[0m\u001b[1;33m,\u001b[0m \u001b[0mnew_indexer\u001b[0m \u001b[1;33m=\u001b[0m \u001b[0max\u001b[0m\u001b[1;33m.\u001b[0m\u001b[0m_reindex_non_unique\u001b[0m\u001b[1;33m(\u001b[0m\u001b[0mkeyarr\u001b[0m\u001b[1;33m)\u001b[0m\u001b[1;33m\u001b[0m\u001b[1;33m\u001b[0m\u001b[0m\n\u001b[0;32m   1265\u001b[0m \u001b[1;33m\u001b[0m\u001b[0m\n\u001b[1;32m-> 1266\u001b[1;33m         \u001b[0mself\u001b[0m\u001b[1;33m.\u001b[0m\u001b[0m_validate_read_indexer\u001b[0m\u001b[1;33m(\u001b[0m\u001b[0mkeyarr\u001b[0m\u001b[1;33m,\u001b[0m \u001b[0mindexer\u001b[0m\u001b[1;33m,\u001b[0m \u001b[0maxis\u001b[0m\u001b[1;33m,\u001b[0m \u001b[0mraise_missing\u001b[0m\u001b[1;33m=\u001b[0m\u001b[0mraise_missing\u001b[0m\u001b[1;33m)\u001b[0m\u001b[1;33m\u001b[0m\u001b[1;33m\u001b[0m\u001b[0m\n\u001b[0m\u001b[0;32m   1267\u001b[0m         \u001b[1;32mreturn\u001b[0m \u001b[0mkeyarr\u001b[0m\u001b[1;33m,\u001b[0m \u001b[0mindexer\u001b[0m\u001b[1;33m\u001b[0m\u001b[1;33m\u001b[0m\u001b[0m\n\u001b[0;32m   1268\u001b[0m \u001b[1;33m\u001b[0m\u001b[0m\n",
      "\u001b[1;32m~\\anaconda3\\lib\\site-packages\\pandas\\core\\indexing.py\u001b[0m in \u001b[0;36m_validate_read_indexer\u001b[1;34m(self, key, indexer, axis, raise_missing)\u001b[0m\n\u001b[0;32m   1314\u001b[0m             \u001b[1;32mif\u001b[0m \u001b[0mraise_missing\u001b[0m\u001b[1;33m:\u001b[0m\u001b[1;33m\u001b[0m\u001b[1;33m\u001b[0m\u001b[0m\n\u001b[0;32m   1315\u001b[0m                 \u001b[0mnot_found\u001b[0m \u001b[1;33m=\u001b[0m \u001b[0mlist\u001b[0m\u001b[1;33m(\u001b[0m\u001b[0mset\u001b[0m\u001b[1;33m(\u001b[0m\u001b[0mkey\u001b[0m\u001b[1;33m)\u001b[0m \u001b[1;33m-\u001b[0m \u001b[0mset\u001b[0m\u001b[1;33m(\u001b[0m\u001b[0max\u001b[0m\u001b[1;33m)\u001b[0m\u001b[1;33m)\u001b[0m\u001b[1;33m\u001b[0m\u001b[1;33m\u001b[0m\u001b[0m\n\u001b[1;32m-> 1316\u001b[1;33m                 \u001b[1;32mraise\u001b[0m \u001b[0mKeyError\u001b[0m\u001b[1;33m(\u001b[0m\u001b[1;34mf\"{not_found} not in index\"\u001b[0m\u001b[1;33m)\u001b[0m\u001b[1;33m\u001b[0m\u001b[1;33m\u001b[0m\u001b[0m\n\u001b[0m\u001b[0;32m   1317\u001b[0m \u001b[1;33m\u001b[0m\u001b[0m\n\u001b[0;32m   1318\u001b[0m             \u001b[0mnot_found\u001b[0m \u001b[1;33m=\u001b[0m \u001b[0mkey\u001b[0m\u001b[1;33m[\u001b[0m\u001b[0mmissing_mask\u001b[0m\u001b[1;33m]\u001b[0m\u001b[1;33m\u001b[0m\u001b[1;33m\u001b[0m\u001b[0m\n",
      "\u001b[1;31mKeyError\u001b[0m: '[451, 335] not in index'"
     ]
    }
   ],
   "source": [
    "for n in Ex:\n",
    "    ind = np.where(train['Neighborhood'] == n)[0].tolist()\n",
    "    train.loc[ind,'NeighbQual'] = 'Ex'\n",
    "    \n",
    "for n in Gd:\n",
    "    ind = np.where(train['Neighborhood'] == n)[0].tolist()\n",
    "    train.loc[ind,'NeighbQual'] = 'Gd'\n",
    "    \n",
    "for n in TA:\n",
    "    ind = np.where(train['Neighborhood'] == n)[0].tolist()\n",
    "    train.loc[ind,'NeighbQual'] = 'TA'\n",
    "    \n",
    "for n in Fa:\n",
    "    ind = np.where(train['Neighborhood'] == n)[0].tolist()\n",
    "    train.loc[ind,'NeighbQual'] = 'Fa'\n",
    "    \n",
    "for n in Po:\n",
    "    ind = np.where(train['Neighborhood'] == n)[0].tolist()\n",
    "    train.loc[ind,'NeighbQual'] = 'Po'"
   ]
  },
  {
   "cell_type": "code",
   "execution_count": 329,
   "id": "c14be425",
   "metadata": {},
   "outputs": [
    {
     "data": {
      "text/html": [
       "<div>\n",
       "<style scoped>\n",
       "    .dataframe tbody tr th:only-of-type {\n",
       "        vertical-align: middle;\n",
       "    }\n",
       "\n",
       "    .dataframe tbody tr th {\n",
       "        vertical-align: top;\n",
       "    }\n",
       "\n",
       "    .dataframe thead th {\n",
       "        text-align: right;\n",
       "    }\n",
       "</style>\n",
       "<table border=\"1\" class=\"dataframe\">\n",
       "  <thead>\n",
       "    <tr style=\"text-align: right;\">\n",
       "      <th></th>\n",
       "      <th>Neighborhood</th>\n",
       "      <th>NeighbQual</th>\n",
       "    </tr>\n",
       "  </thead>\n",
       "  <tbody>\n",
       "    <tr>\n",
       "      <th>0</th>\n",
       "      <td>CollgCr</td>\n",
       "      <td>TA</td>\n",
       "    </tr>\n",
       "    <tr>\n",
       "      <th>1</th>\n",
       "      <td>Veenker</td>\n",
       "      <td>Ex</td>\n",
       "    </tr>\n",
       "    <tr>\n",
       "      <th>2</th>\n",
       "      <td>CollgCr</td>\n",
       "      <td>TA</td>\n",
       "    </tr>\n",
       "    <tr>\n",
       "      <th>3</th>\n",
       "      <td>Crawfor</td>\n",
       "      <td>Ex</td>\n",
       "    </tr>\n",
       "    <tr>\n",
       "      <th>4</th>\n",
       "      <td>NoRidge</td>\n",
       "      <td>Ex</td>\n",
       "    </tr>\n",
       "    <tr>\n",
       "      <th>5</th>\n",
       "      <td>Mitchel</td>\n",
       "      <td>Po</td>\n",
       "    </tr>\n",
       "    <tr>\n",
       "      <th>6</th>\n",
       "      <td>Somerst</td>\n",
       "      <td>Gd</td>\n",
       "    </tr>\n",
       "    <tr>\n",
       "      <th>7</th>\n",
       "      <td>NWAmes</td>\n",
       "      <td>Gd</td>\n",
       "    </tr>\n",
       "    <tr>\n",
       "      <th>8</th>\n",
       "      <td>OldTown</td>\n",
       "      <td>TA</td>\n",
       "    </tr>\n",
       "    <tr>\n",
       "      <th>9</th>\n",
       "      <td>BrkSide</td>\n",
       "      <td>Fa</td>\n",
       "    </tr>\n",
       "  </tbody>\n",
       "</table>\n",
       "</div>"
      ],
      "text/plain": [
       "  Neighborhood NeighbQual\n",
       "0      CollgCr         TA\n",
       "1      Veenker         Ex\n",
       "2      CollgCr         TA\n",
       "3      Crawfor         Ex\n",
       "4      NoRidge         Ex\n",
       "5      Mitchel         Po\n",
       "6      Somerst         Gd\n",
       "7       NWAmes         Gd\n",
       "8      OldTown         TA\n",
       "9      BrkSide         Fa"
      ]
     },
     "execution_count": 329,
     "metadata": {},
     "output_type": "execute_result"
    }
   ],
   "source": [
    "train.head()\n",
    "train[['Neighborhood', 'NeighbQual']].head(10)"
   ]
  },
  {
   "cell_type": "code",
   "execution_count": 61,
   "id": "3bd3c0da",
   "metadata": {},
   "outputs": [
    {
     "name": "stdout",
     "output_type": "stream",
     "text": [
      "['PoolQC', 'MiscFeature', 'Alley', 'Utilities', 'GarageArea', 'FullBath', 'HalfBath', 'BsmtFullBath', 'BsmtHalfBath', 'MiscVal', 'YearBuilt', 'YearRemodAdd']\n",
      "[1379, 523, 691, 1182, 1298, 249, 313, 335, 451, 706, 1298]\n"
     ]
    }
   ],
   "source": [
    "#Adding Cols to drop\n",
    "col_to_drop += ['Utilities', 'GarageArea', 'FullBath', 'HalfBath', 'BsmtFullBath', 'BsmtHalfBath', 'MiscVal', 'YearBuilt', 'YearRemodAdd']\n",
    "print(col_to_drop)\n",
    "print(obs_to_drop)"
   ]
  },
  {
   "cell_type": "code",
   "execution_count": 62,
   "id": "bd2ddbbe",
   "metadata": {},
   "outputs": [
    {
     "data": {
      "text/plain": [
       "(1460, 87)"
      ]
     },
     "execution_count": 62,
     "metadata": {},
     "output_type": "execute_result"
    }
   ],
   "source": [
    "train.shape"
   ]
  },
  {
   "cell_type": "code",
   "execution_count": 63,
   "id": "0b279f27",
   "metadata": {},
   "outputs": [],
   "source": [
    "#dropping features\n",
    "train.drop(col_to_drop, axis = 1, inplace = True)"
   ]
  },
  {
   "cell_type": "code",
   "execution_count": 64,
   "id": "f6488262",
   "metadata": {},
   "outputs": [],
   "source": [
    "#dropping obs\n",
    "train.drop(obs_to_drop, axis = 0, inplace = True)"
   ]
  },
  {
   "cell_type": "code",
   "execution_count": 65,
   "id": "71f78bd7",
   "metadata": {},
   "outputs": [
    {
     "data": {
      "text/plain": [
       "(1450, 75)"
      ]
     },
     "execution_count": 65,
     "metadata": {},
     "output_type": "execute_result"
    }
   ],
   "source": [
    "train.shape"
   ]
  },
  {
   "cell_type": "code",
   "execution_count": 86,
   "id": "3271d792",
   "metadata": {},
   "outputs": [],
   "source": [
    "#resetting\n",
    "col_to_drop = []\n",
    "obs_to_drop = []"
   ]
  },
  {
   "cell_type": "markdown",
   "id": "fa891415",
   "metadata": {},
   "source": [
    "<p><a name=\"SP\"></a></p>\n",
    "\n",
    "## Second Pass Looking at Independent Variables\n",
    "\n",
    "### Pearson's correlation for numerical variables\n",
    "\n",
    "Now that we have addressed all missing data, and removed outliers, we can run some bivariate statistical tests to help us glean which features to select."
   ]
  },
  {
   "cell_type": "code",
   "execution_count": 179,
   "id": "6dddb950",
   "metadata": {},
   "outputs": [],
   "source": [
    "#pearson's correlation\n",
    "lose = []\n",
    "def my_pear(numvar_list):\n",
    "    keep = []\n",
    "    for item in numvar_list:\n",
    "        corr = pearsonr(train[item], train['log_SalePrice'])\n",
    "        print('Pearsons correlation for ' + item + ' (r):', round(corr[0],3))\n",
    "        if abs(round(corr[0],3)) > .15:\n",
    "            keep.append(item)\n",
    "    return keep"
   ]
  },
  {
   "cell_type": "code",
   "execution_count": 180,
   "id": "8f780ee4",
   "metadata": {},
   "outputs": [],
   "source": [
    "num_var = train.select_dtypes('number').columns.tolist()"
   ]
  },
  {
   "cell_type": "code",
   "execution_count": 181,
   "id": "2d8a8f2c",
   "metadata": {
    "scrolled": true
   },
   "outputs": [
    {
     "name": "stdout",
     "output_type": "stream",
     "text": [
      "Starting with 32 numerical variables.\n"
     ]
    }
   ],
   "source": [
    "print('Starting with ' + str(len(num_var)) + ' numerical variables.')"
   ]
  },
  {
   "cell_type": "code",
   "execution_count": 182,
   "id": "6c836f24",
   "metadata": {
    "scrolled": true
   },
   "outputs": [
    {
     "name": "stdout",
     "output_type": "stream",
     "text": [
      "Pearsons correlation for Id (r): -0.017\n",
      "Pearsons correlation for LotFrontage (r): 0.33\n",
      "Pearsons correlation for LotArea (r): 0.366\n",
      "Pearsons correlation for OverallQual (r): 0.821\n",
      "Pearsons correlation for OverallCond (r): -0.037\n",
      "Pearsons correlation for MasVnrArea (r): 0.427\n",
      "Pearsons correlation for BsmtFinSF1 (r): 0.379\n",
      "Pearsons correlation for BsmtFinSF2 (r): 0.0\n",
      "Pearsons correlation for BsmtUnfSF (r): 0.226\n",
      "Pearsons correlation for TotalBsmtSF (r): 0.639\n",
      "Pearsons correlation for 1stFlrSF (r): 0.611\n",
      "Pearsons correlation for 2ndFlrSF (r): 0.31\n",
      "Pearsons correlation for LowQualFinSF (r): -0.037\n",
      "Pearsons correlation for GrLivArea (r): 0.719\n",
      "Pearsons correlation for BedroomAbvGr (r): 0.206\n",
      "Pearsons correlation for KitchenAbvGr (r): -0.147\n",
      "Pearsons correlation for TotRmsAbvGrd (r): 0.536\n",
      "Pearsons correlation for Fireplaces (r): 0.483\n",
      "Pearsons correlation for GarageCars (r): 0.682\n",
      "Pearsons correlation for WoodDeckSF (r): 0.331\n",
      "Pearsons correlation for OpenPorchSF (r): 0.329\n",
      "Pearsons correlation for EnclosedPorch (r): -0.147\n",
      "Pearsons correlation for 3SsnPorch (r): 0.057\n",
      "Pearsons correlation for ScreenPorch (r): 0.126\n",
      "Pearsons correlation for PoolArea (r): 0.041\n",
      "Pearsons correlation for YrSold (r): -0.033\n",
      "Pearsons correlation for SalePrice (r): 0.954\n",
      "Pearsons correlation for log_SalePrice (r): 1.0\n",
      "Pearsons correlation for AgeHome (r): -0.593\n",
      "Pearsons correlation for YrsSnRmdl (r): -0.575\n",
      "Pearsons correlation for BthrmAbvGrd (r): 0.637\n",
      "Pearsons correlation for BthrmBsmt (r): 0.217\n"
     ]
    }
   ],
   "source": [
    "num_var = my_pear(num_var)"
   ]
  },
  {
   "cell_type": "code",
   "execution_count": 136,
   "id": "04963b97",
   "metadata": {
    "scrolled": false
   },
   "outputs": [
    {
     "name": "stdout",
     "output_type": "stream",
     "text": [
      "Reducing to 22 numerical variables.\n"
     ]
    }
   ],
   "source": [
    "print('Reducing to ' + str(len(num_var)) + ' numerical variables.')"
   ]
  },
  {
   "cell_type": "code",
   "execution_count": 184,
   "id": "4c62db56",
   "metadata": {},
   "outputs": [
    {
     "data": {
      "text/plain": [
       "['LotFrontage',\n",
       " 'LotArea',\n",
       " 'OverallQual',\n",
       " 'MasVnrArea',\n",
       " 'BsmtFinSF1',\n",
       " 'BsmtUnfSF',\n",
       " 'TotalBsmtSF',\n",
       " '1stFlrSF',\n",
       " '2ndFlrSF',\n",
       " 'GrLivArea',\n",
       " 'BedroomAbvGr',\n",
       " 'TotRmsAbvGrd',\n",
       " 'Fireplaces',\n",
       " 'GarageCars',\n",
       " 'WoodDeckSF',\n",
       " 'OpenPorchSF',\n",
       " 'SalePrice',\n",
       " 'log_SalePrice',\n",
       " 'AgeHome',\n",
       " 'YrsSnRmdl',\n",
       " 'BthrmAbvGrd',\n",
       " 'BthrmBsmt']"
      ]
     },
     "execution_count": 184,
     "metadata": {},
     "output_type": "execute_result"
    }
   ],
   "source": [
    "num_var"
   ]
  },
  {
   "cell_type": "markdown",
   "id": "a4d0fd92",
   "metadata": {},
   "source": [
    "### ANOVA and condensing for categorical variables"
   ]
  },
  {
   "cell_type": "code",
   "execution_count": 226,
   "id": "4c176341",
   "metadata": {},
   "outputs": [],
   "source": [
    "#selecting categorical variables\n",
    "cat_var = train.select_dtypes('O').columns.tolist()"
   ]
  },
  {
   "cell_type": "code",
   "execution_count": 240,
   "id": "d4f0c63c",
   "metadata": {},
   "outputs": [],
   "source": [
    "import statsmodels.api as sm\n",
    "from statsmodels.formula.api import ols\n",
    "\n",
    "def my_anova(catvar_list):\n",
    "    C_list = []\n",
    "    keep = []\n",
    "    for item in catvar_list:\n",
    "        temp_ = 'log_SalePrice ~ C(' + item + ')'\n",
    "        model = ols(temp_, data = train).fit()\n",
    "        anova_tbl = sm.stats.anova_lm(model, typ=2)\n",
    "        effect_size = anova_tbl['sum_sq'][0]/(anova_tbl['sum_sq'][0]+anova_tbl['sum_sq'][1])\n",
    "        \n",
    "        p_val = round(anova_tbl['PR(>F)'][0], 5)\n",
    "        print('ANOVA p-val for classes of ' + item + ' is', p_val, ' and ', round(effect_size, 5))\n",
    "        if p_val <= 0.01:\n",
    "            keep.append(item)\n",
    "    return keep "
   ]
  },
  {
   "cell_type": "code",
   "execution_count": 241,
   "id": "b0d41d6c",
   "metadata": {},
   "outputs": [
    {
     "data": {
      "text/plain": [
       "41"
      ]
     },
     "execution_count": 241,
     "metadata": {},
     "output_type": "execute_result"
    }
   ],
   "source": [
    "len(cat_var)"
   ]
  },
  {
   "cell_type": "code",
   "execution_count": 242,
   "id": "96a6f06f",
   "metadata": {
    "scrolled": true
   },
   "outputs": [
    {
     "name": "stdout",
     "output_type": "stream",
     "text": [
      "ANOVA p-val for classes of MSSubClass is 0.0  and  0.33424\n",
      "ANOVA p-val for classes of MSZoning is 0.0  and  0.17764\n",
      "ANOVA p-val for classes of Street is 0.00573  and  0.00526\n",
      "ANOVA p-val for classes of LotShape is 0.0  and  0.08291\n",
      "ANOVA p-val for classes of LandContour is 0.0  and  0.0251\n",
      "ANOVA p-val for classes of LotConfig is 0.0  and  0.02253\n",
      "ANOVA p-val for classes of Neighborhood is 0.0  and  0.56996\n",
      "ANOVA p-val for classes of Condition1 is 0.0  and  0.04278\n",
      "ANOVA p-val for classes of Condition2 is 0.00673  and  0.01342\n",
      "ANOVA p-val for classes of BldgType is 0.0  and  0.0414\n",
      "ANOVA p-val for classes of HouseStyle is 0.0  and  0.10352\n",
      "ANOVA p-val for classes of RoofStyle is 0.0  and  0.04263\n",
      "ANOVA p-val for classes of RoofMatl is 0.01934  and  0.01041\n",
      "ANOVA p-val for classes of Exterior1st is 0.0  and  0.19076\n",
      "ANOVA p-val for classes of Exterior2nd is 0.0  and  0.17566\n",
      "ANOVA p-val for classes of MasVnrType is 0.0  and  0.19625\n",
      "ANOVA p-val for classes of ExterQual is 0.0  and  0.47081\n",
      "ANOVA p-val for classes of ExterCond is 0.0  and  0.0458\n",
      "ANOVA p-val for classes of Foundation is 0.0  and  0.31102\n",
      "ANOVA p-val for classes of BsmtQual is 0.0  and  0.45259\n",
      "ANOVA p-val for classes of BsmtCond is 0.0  and  0.08807\n",
      "ANOVA p-val for classes of BsmtExposure is 0.0  and  0.13596\n",
      "ANOVA p-val for classes of BsmtFinType1 is 0.0  and  0.22865\n",
      "ANOVA p-val for classes of BsmtFinType2 is 0.0  and  0.04462\n",
      "ANOVA p-val for classes of Heating is 0.0  and  0.03439\n",
      "ANOVA p-val for classes of HeatingQC is 0.0  and  0.2399\n",
      "ANOVA p-val for classes of CentralAir is 0.0  and  0.12515\n",
      "ANOVA p-val for classes of Electrical is 0.0  and  0.09729\n",
      "ANOVA p-val for classes of KitchenQual is 0.0  and  0.45024\n",
      "ANOVA p-val for classes of Functional is 0.0  and  0.02371\n",
      "ANOVA p-val for classes of FireplaceQu is 0.0  and  0.30748\n",
      "ANOVA p-val for classes of GarageType is 0.0  and  0.33833\n",
      "ANOVA p-val for classes of GarageYrBlt is 0.0  and  0.42405\n",
      "ANOVA p-val for classes of GarageFinish is 0.0  and  0.38534\n",
      "ANOVA p-val for classes of GarageQual is 0.0  and  0.14302\n",
      "ANOVA p-val for classes of GarageCond is 0.0  and  0.14683\n",
      "ANOVA p-val for classes of PavedDrive is 0.0  and  0.09399\n",
      "ANOVA p-val for classes of Fence is 0.0  and  0.033\n",
      "ANOVA p-val for classes of SaleType is 0.0  and  0.1266\n",
      "ANOVA p-val for classes of SaleCondition is 0.0  and  0.1381\n",
      "ANOVA p-val for classes of NeighbQual is 0.0  and  0.39857\n"
     ]
    }
   ],
   "source": [
    "cat_var = my_anova(cat_var)"
   ]
  },
  {
   "cell_type": "code",
   "execution_count": 243,
   "id": "86f317ab",
   "metadata": {},
   "outputs": [
    {
     "data": {
      "text/plain": [
       "40"
      ]
     },
     "execution_count": 243,
     "metadata": {},
     "output_type": "execute_result"
    }
   ],
   "source": [
    "len(cat_var)"
   ]
  },
  {
   "cell_type": "markdown",
   "id": "96275159",
   "metadata": {},
   "source": [
    "Based on our first pass, and familiarization with the data, the independent variables in this dataset fall broadly into these 'buckets':\n",
    "- Land and Exterior - neighborhood, lot and land characteristics\n",
    "- House Quality, Construction and Utilities- year built, types of materials used and quality\n",
    "- Indoor Areas\n",
    "- Basement\n",
    "- Semi-Indoor Areas - Garage, Porches, Pool, Fence\n",
    "- Sale Information - month, year, type of sale etc\n",
    "\n",
    "We will look at the categorical variables in each of these buckets individually and adjust features."
   ]
  },
  {
   "cell_type": "code",
   "execution_count": 244,
   "id": "8894f44b",
   "metadata": {},
   "outputs": [
    {
     "data": {
      "text/plain": [
       "'MSSubClass'"
      ]
     },
     "execution_count": 244,
     "metadata": {},
     "output_type": "execute_result"
    }
   ],
   "source": [
    "#initializing an iterator to help bucket variables\n",
    "call_var = iter(cat_var)\n",
    "next(call_var)"
   ]
  },
  {
   "cell_type": "code",
   "execution_count": 287,
   "id": "61defceb",
   "metadata": {},
   "outputs": [
    {
     "ename": "StopIteration",
     "evalue": "",
     "output_type": "error",
     "traceback": [
      "\u001b[1;31m---------------------------------------------------------------------------\u001b[0m",
      "\u001b[1;31mStopIteration\u001b[0m                             Traceback (most recent call last)",
      "\u001b[1;32m<ipython-input-287-422362f4dbf9>\u001b[0m in \u001b[0;36m<module>\u001b[1;34m\u001b[0m\n\u001b[1;32m----> 1\u001b[1;33m \u001b[0mnext\u001b[0m\u001b[1;33m(\u001b[0m\u001b[0mcall_var\u001b[0m\u001b[1;33m)\u001b[0m\u001b[1;33m\u001b[0m\u001b[1;33m\u001b[0m\u001b[0m\n\u001b[0m",
      "\u001b[1;31mStopIteration\u001b[0m: "
     ]
    }
   ],
   "source": [
    "next(call_var)"
   ]
  },
  {
   "cell_type": "code",
   "execution_count": 271,
   "id": "969de399",
   "metadata": {},
   "outputs": [],
   "source": [
    "#Bucketing variables into lists\n",
    "Location = ['MSSubClass','MSZoning', 'Street', 'LotShape', 'LandContour', 'LotConfig', 'Neighborhood', 'Condition1', 'Condition2', 'NeighbQual']\n",
    "HouseQual = ['BldgType', 'HouseStyle', 'RoofStyle', 'Exterior1st', 'Exterior2nd', 'MasVnrType', 'ExterQual', 'ExterCond', 'Foundation', 'Heating', 'HeatingQC', 'CentralAir', 'Electrical']\n",
    "Basement = ['BsmtQual','BsmtCond','BsmtExposure', 'BsmtFinType1','BsmtFinSF1', 'BsmtFinType2', 'BsmtFinSF2']\n",
    "IndoorA = ['KitchenQual', 'Functional', 'FireplaceQu']\n",
    "GaragePlus = ['GarageType', 'GarageFinish', 'GarageQual', 'GarageCond','PavedDrive','Fence']\n",
    "SaleInfo = ['MoSold','SaleType', 'SaleCondition']"
   ]
  },
  {
   "cell_type": "code",
   "execution_count": 202,
   "id": "a384b100",
   "metadata": {},
   "outputs": [
    {
     "name": "stdout",
     "output_type": "stream",
     "text": [
      "46\n",
      "43\n"
     ]
    }
   ],
   "source": [
    "#Sanity Check to make sure I got all the variables, minus our dependent variable - looking for 80\n",
    "bucketlist = [Location, HouseQual, Basement, IndoorA, GaragePlus, SaleInfo]\n",
    "temp_ = 0\n",
    "for L in bucketlist:\n",
    "    temp_ += len(L)\n",
    "print(temp_)\n",
    "print(len(cat_var))"
   ]
  },
  {
   "cell_type": "code",
   "execution_count": 295,
   "id": "89038fd3",
   "metadata": {},
   "outputs": [],
   "source": [
    "#location\n",
    "df_l = train[Location + ['log_SalePrice']]\n",
    "#HouseQual\n",
    "df_h = train[HouseQual + ['log_SalePrice']]\n",
    "#Basement\n",
    "df_b = train[Basement + ['log_SalePrice']]\n",
    "#IndoorA\n",
    "df_i = train[IndoorA + ['log_SalePrice']]\n",
    "#GaragePlus\n",
    "df_g = train[GaragePlus + ['log_SalePrice']]\n",
    "#Sale Info\n",
    "df_s = train[SaleInfo + ['log_SalePrice']]"
   ]
  },
  {
   "cell_type": "markdown",
   "id": "2dbfc1b3",
   "metadata": {},
   "source": [
    "### Location"
   ]
  },
  {
   "cell_type": "code",
   "execution_count": 342,
   "id": "caeb4f39",
   "metadata": {
    "scrolled": true
   },
   "outputs": [
    {
     "name": "stdout",
     "output_type": "stream",
     "text": [
      "ANOVA p-val for classes of MSSubClass is 0.0  and  0.33424\n",
      "ANOVA p-val for classes of MSZoning is 0.0  and  0.17764\n",
      "ANOVA p-val for classes of Street is 0.00573  and  0.00526\n",
      "ANOVA p-val for classes of LotShape is 0.0  and  0.08291\n",
      "ANOVA p-val for classes of LandContour is 0.0  and  0.0251\n",
      "ANOVA p-val for classes of LotConfig is 0.0  and  0.02253\n",
      "ANOVA p-val for classes of Neighborhood is 0.0  and  0.56996\n",
      "ANOVA p-val for classes of Condition1 is 0.0  and  0.04278\n",
      "ANOVA p-val for classes of Condition2 is 0.00673  and  0.01342\n",
      "ANOVA p-val for classes of NeighbQual is 0.0  and  0.2354\n",
      "ANOVA p-val for classes of log_SalePrice is 0.0  and  1.0\n"
     ]
    }
   ],
   "source": [
    "l = my_anova(df_l.columns)"
   ]
  },
  {
   "cell_type": "code",
   "execution_count": 344,
   "id": "8d0947c8",
   "metadata": {},
   "outputs": [
    {
     "data": {
      "text/plain": [
       "['MSSubClass',\n",
       " 'MSZoning',\n",
       " 'Street',\n",
       " 'LotShape',\n",
       " 'LandContour',\n",
       " 'LotConfig',\n",
       " 'Neighborhood',\n",
       " 'Condition1',\n",
       " 'Condition2',\n",
       " 'NeighbQual',\n",
       " 'log_SalePrice']"
      ]
     },
     "execution_count": 344,
     "metadata": {},
     "output_type": "execute_result"
    }
   ],
   "source": [
    "l"
   ]
  },
  {
   "cell_type": "code",
   "execution_count": 343,
   "id": "63a9c907",
   "metadata": {},
   "outputs": [],
   "source": [
    "view_cat = look_cat(l)"
   ]
  },
  {
   "cell_type": "code",
   "execution_count": 330,
   "id": "f02ee006",
   "metadata": {},
   "outputs": [
    {
     "ename": "StopIteration",
     "evalue": "",
     "output_type": "error",
     "traceback": [
      "\u001b[1;31m---------------------------------------------------------------------------\u001b[0m",
      "\u001b[1;31mStopIteration\u001b[0m                             Traceback (most recent call last)",
      "\u001b[1;32m<ipython-input-330-876b331be3f4>\u001b[0m in \u001b[0;36m<module>\u001b[1;34m\u001b[0m\n\u001b[1;32m----> 1\u001b[1;33m \u001b[0mnext\u001b[0m\u001b[1;33m(\u001b[0m\u001b[0mview_cat\u001b[0m\u001b[1;33m)\u001b[0m\u001b[1;33m\u001b[0m\u001b[1;33m\u001b[0m\u001b[0m\n\u001b[0m",
      "\u001b[1;31mStopIteration\u001b[0m: "
     ]
    }
   ],
   "source": [
    "next(view_cat)"
   ]
  },
  {
   "cell_type": "markdown",
   "id": "bbf5e3fb",
   "metadata": {},
   "source": [
    "#Takeaways from second pass on Location\n",
    "- Remove 10 observations that are MSZoning = C (commercial instead of residential)\n",
    "- Drop Street\n",
    "- Binarize Lot Shape into Regular and Irregular after ANOVA\n",
    "- Binarize LandContour into Lvl and NotLvl after ANOVA?\n",
    "- Drop Neighborhood (to reduce multicollinearity with Neighborhood Quality!)\n",
    "- Drop Condition 2\n",
    "- Recheck NeighbQual - make sure its coded categorically and categories make sense"
   ]
  },
  {
   "cell_type": "code",
   "execution_count": 331,
   "id": "670585d9",
   "metadata": {},
   "outputs": [],
   "source": [
    "#Removing MSZoning = C observations\n",
    "obs_to_drop += np.where(train['MSZoning'] == 'C (all)')[0].tolist()"
   ]
  },
  {
   "cell_type": "code",
   "execution_count": 332,
   "id": "066e7cc1",
   "metadata": {},
   "outputs": [],
   "source": [
    "col_to_drop = ['Street', 'Neighborhood', 'Condition 2']"
   ]
  },
  {
   "cell_type": "code",
   "execution_count": 333,
   "id": "73f9202c",
   "metadata": {},
   "outputs": [],
   "source": [
    "#Binarizing LotShape Variable\n",
    "train['LotShape2'] = np.nan\n",
    "train.loc[train.LotShape != 'Reg', 'LotShape2'] = 0\n",
    "train.loc[train.LotShape == 'Reg', 'LotShape2'] = 1\n",
    "\n",
    "#Binarizing LandContour Variable\n",
    "train['LandContour2'] = np.nan\n",
    "train.loc[train.LandContour != 'Lvl', 'LandContour2'] = 0\n",
    "train.loc[train.LandContour == 'Lvl', 'LandContour2'] = 1"
   ]
  },
  {
   "cell_type": "code",
   "execution_count": 334,
   "id": "2d919fb2",
   "metadata": {
    "scrolled": false
   },
   "outputs": [
    {
     "data": {
      "text/html": [
       "<div>\n",
       "<style scoped>\n",
       "    .dataframe tbody tr th:only-of-type {\n",
       "        vertical-align: middle;\n",
       "    }\n",
       "\n",
       "    .dataframe tbody tr th {\n",
       "        vertical-align: top;\n",
       "    }\n",
       "\n",
       "    .dataframe thead th {\n",
       "        text-align: right;\n",
       "    }\n",
       "</style>\n",
       "<table border=\"1\" class=\"dataframe\">\n",
       "  <thead>\n",
       "    <tr style=\"text-align: right;\">\n",
       "      <th></th>\n",
       "      <th>Id</th>\n",
       "      <th>MSSubClass</th>\n",
       "      <th>MSZoning</th>\n",
       "      <th>LotFrontage</th>\n",
       "      <th>LotArea</th>\n",
       "      <th>Street</th>\n",
       "      <th>LotShape</th>\n",
       "      <th>LandContour</th>\n",
       "      <th>LotConfig</th>\n",
       "      <th>LandSlope</th>\n",
       "      <th>Neighborhood</th>\n",
       "      <th>Condition1</th>\n",
       "      <th>Condition2</th>\n",
       "      <th>BldgType</th>\n",
       "      <th>HouseStyle</th>\n",
       "      <th>OverallQual</th>\n",
       "      <th>OverallCond</th>\n",
       "      <th>RoofStyle</th>\n",
       "      <th>RoofMatl</th>\n",
       "      <th>Exterior1st</th>\n",
       "      <th>Exterior2nd</th>\n",
       "      <th>MasVnrType</th>\n",
       "      <th>MasVnrArea</th>\n",
       "      <th>ExterQual</th>\n",
       "      <th>ExterCond</th>\n",
       "      <th>Foundation</th>\n",
       "      <th>BsmtQual</th>\n",
       "      <th>BsmtCond</th>\n",
       "      <th>BsmtExposure</th>\n",
       "      <th>BsmtFinType1</th>\n",
       "      <th>BsmtFinSF1</th>\n",
       "      <th>BsmtFinType2</th>\n",
       "      <th>BsmtFinSF2</th>\n",
       "      <th>BsmtUnfSF</th>\n",
       "      <th>TotalBsmtSF</th>\n",
       "      <th>Heating</th>\n",
       "      <th>HeatingQC</th>\n",
       "      <th>CentralAir</th>\n",
       "      <th>Electrical</th>\n",
       "      <th>1stFlrSF</th>\n",
       "      <th>2ndFlrSF</th>\n",
       "      <th>LowQualFinSF</th>\n",
       "      <th>GrLivArea</th>\n",
       "      <th>BedroomAbvGr</th>\n",
       "      <th>KitchenAbvGr</th>\n",
       "      <th>KitchenQual</th>\n",
       "      <th>TotRmsAbvGrd</th>\n",
       "      <th>Functional</th>\n",
       "      <th>Fireplaces</th>\n",
       "      <th>FireplaceQu</th>\n",
       "      <th>GarageType</th>\n",
       "      <th>GarageYrBlt</th>\n",
       "      <th>GarageFinish</th>\n",
       "      <th>GarageCars</th>\n",
       "      <th>GarageQual</th>\n",
       "      <th>GarageCond</th>\n",
       "      <th>PavedDrive</th>\n",
       "      <th>WoodDeckSF</th>\n",
       "      <th>OpenPorchSF</th>\n",
       "      <th>EnclosedPorch</th>\n",
       "      <th>3SsnPorch</th>\n",
       "      <th>ScreenPorch</th>\n",
       "      <th>PoolArea</th>\n",
       "      <th>Fence</th>\n",
       "      <th>MoSold</th>\n",
       "      <th>YrSold</th>\n",
       "      <th>SaleType</th>\n",
       "      <th>SaleCondition</th>\n",
       "      <th>SalePrice</th>\n",
       "      <th>log_SalePrice</th>\n",
       "      <th>AgeHome</th>\n",
       "      <th>YrsSnRmdl</th>\n",
       "      <th>BthrmAbvGrd</th>\n",
       "      <th>BthrmBsmt</th>\n",
       "      <th>NeighbQual</th>\n",
       "      <th>LotShape2</th>\n",
       "      <th>LandContour2</th>\n",
       "    </tr>\n",
       "  </thead>\n",
       "  <tbody>\n",
       "    <tr>\n",
       "      <th>0</th>\n",
       "      <td>1</td>\n",
       "      <td>60</td>\n",
       "      <td>RL</td>\n",
       "      <td>65.0</td>\n",
       "      <td>8450</td>\n",
       "      <td>Pave</td>\n",
       "      <td>Reg</td>\n",
       "      <td>Lvl</td>\n",
       "      <td>Inside</td>\n",
       "      <td>Gtl</td>\n",
       "      <td>CollgCr</td>\n",
       "      <td>Norm</td>\n",
       "      <td>Norm</td>\n",
       "      <td>1Fam</td>\n",
       "      <td>2Story</td>\n",
       "      <td>7</td>\n",
       "      <td>5</td>\n",
       "      <td>Gable</td>\n",
       "      <td>CompShg</td>\n",
       "      <td>VinylSd</td>\n",
       "      <td>VinylSd</td>\n",
       "      <td>BrkFace</td>\n",
       "      <td>196.0</td>\n",
       "      <td>Gd</td>\n",
       "      <td>TA</td>\n",
       "      <td>PConc</td>\n",
       "      <td>Gd</td>\n",
       "      <td>TA</td>\n",
       "      <td>No</td>\n",
       "      <td>GLQ</td>\n",
       "      <td>706</td>\n",
       "      <td>Unf</td>\n",
       "      <td>0</td>\n",
       "      <td>150</td>\n",
       "      <td>856</td>\n",
       "      <td>GasA</td>\n",
       "      <td>Ex</td>\n",
       "      <td>Y</td>\n",
       "      <td>SBrkr</td>\n",
       "      <td>856</td>\n",
       "      <td>854</td>\n",
       "      <td>0</td>\n",
       "      <td>1710</td>\n",
       "      <td>3</td>\n",
       "      <td>1</td>\n",
       "      <td>Gd</td>\n",
       "      <td>8</td>\n",
       "      <td>Typ</td>\n",
       "      <td>0</td>\n",
       "      <td>None</td>\n",
       "      <td>Attchd</td>\n",
       "      <td>2003.0</td>\n",
       "      <td>RFn</td>\n",
       "      <td>2</td>\n",
       "      <td>TA</td>\n",
       "      <td>TA</td>\n",
       "      <td>Y</td>\n",
       "      <td>0</td>\n",
       "      <td>61</td>\n",
       "      <td>0</td>\n",
       "      <td>0</td>\n",
       "      <td>0</td>\n",
       "      <td>0</td>\n",
       "      <td>0</td>\n",
       "      <td>2</td>\n",
       "      <td>2008</td>\n",
       "      <td>WD</td>\n",
       "      <td>Normal</td>\n",
       "      <td>208500</td>\n",
       "      <td>12.247694</td>\n",
       "      <td>5</td>\n",
       "      <td>5</td>\n",
       "      <td>2.5</td>\n",
       "      <td>1</td>\n",
       "      <td>TA</td>\n",
       "      <td>1.0</td>\n",
       "      <td>1.0</td>\n",
       "    </tr>\n",
       "    <tr>\n",
       "      <th>1</th>\n",
       "      <td>2</td>\n",
       "      <td>20</td>\n",
       "      <td>RL</td>\n",
       "      <td>80.0</td>\n",
       "      <td>9600</td>\n",
       "      <td>Pave</td>\n",
       "      <td>Reg</td>\n",
       "      <td>Lvl</td>\n",
       "      <td>FR2</td>\n",
       "      <td>Gtl</td>\n",
       "      <td>Veenker</td>\n",
       "      <td>Feedr</td>\n",
       "      <td>Norm</td>\n",
       "      <td>1Fam</td>\n",
       "      <td>1Story</td>\n",
       "      <td>6</td>\n",
       "      <td>8</td>\n",
       "      <td>Gable</td>\n",
       "      <td>CompShg</td>\n",
       "      <td>MetalSd</td>\n",
       "      <td>MetalSd</td>\n",
       "      <td>None</td>\n",
       "      <td>0.0</td>\n",
       "      <td>TA</td>\n",
       "      <td>TA</td>\n",
       "      <td>CBlock</td>\n",
       "      <td>Gd</td>\n",
       "      <td>TA</td>\n",
       "      <td>Gd</td>\n",
       "      <td>ALQ</td>\n",
       "      <td>978</td>\n",
       "      <td>Unf</td>\n",
       "      <td>0</td>\n",
       "      <td>284</td>\n",
       "      <td>1262</td>\n",
       "      <td>GasA</td>\n",
       "      <td>Ex</td>\n",
       "      <td>Y</td>\n",
       "      <td>SBrkr</td>\n",
       "      <td>1262</td>\n",
       "      <td>0</td>\n",
       "      <td>0</td>\n",
       "      <td>1262</td>\n",
       "      <td>3</td>\n",
       "      <td>1</td>\n",
       "      <td>TA</td>\n",
       "      <td>6</td>\n",
       "      <td>Typ</td>\n",
       "      <td>1</td>\n",
       "      <td>TA</td>\n",
       "      <td>Attchd</td>\n",
       "      <td>1976.0</td>\n",
       "      <td>RFn</td>\n",
       "      <td>2</td>\n",
       "      <td>TA</td>\n",
       "      <td>TA</td>\n",
       "      <td>Y</td>\n",
       "      <td>298</td>\n",
       "      <td>0</td>\n",
       "      <td>0</td>\n",
       "      <td>0</td>\n",
       "      <td>0</td>\n",
       "      <td>0</td>\n",
       "      <td>0</td>\n",
       "      <td>5</td>\n",
       "      <td>2007</td>\n",
       "      <td>WD</td>\n",
       "      <td>Normal</td>\n",
       "      <td>181500</td>\n",
       "      <td>12.109011</td>\n",
       "      <td>31</td>\n",
       "      <td>31</td>\n",
       "      <td>2.0</td>\n",
       "      <td>1</td>\n",
       "      <td>Ex</td>\n",
       "      <td>1.0</td>\n",
       "      <td>1.0</td>\n",
       "    </tr>\n",
       "    <tr>\n",
       "      <th>2</th>\n",
       "      <td>3</td>\n",
       "      <td>60</td>\n",
       "      <td>RL</td>\n",
       "      <td>68.0</td>\n",
       "      <td>11250</td>\n",
       "      <td>Pave</td>\n",
       "      <td>IR1</td>\n",
       "      <td>Lvl</td>\n",
       "      <td>Inside</td>\n",
       "      <td>Gtl</td>\n",
       "      <td>CollgCr</td>\n",
       "      <td>Norm</td>\n",
       "      <td>Norm</td>\n",
       "      <td>1Fam</td>\n",
       "      <td>2Story</td>\n",
       "      <td>7</td>\n",
       "      <td>5</td>\n",
       "      <td>Gable</td>\n",
       "      <td>CompShg</td>\n",
       "      <td>VinylSd</td>\n",
       "      <td>VinylSd</td>\n",
       "      <td>BrkFace</td>\n",
       "      <td>162.0</td>\n",
       "      <td>Gd</td>\n",
       "      <td>TA</td>\n",
       "      <td>PConc</td>\n",
       "      <td>Gd</td>\n",
       "      <td>TA</td>\n",
       "      <td>Mn</td>\n",
       "      <td>GLQ</td>\n",
       "      <td>486</td>\n",
       "      <td>Unf</td>\n",
       "      <td>0</td>\n",
       "      <td>434</td>\n",
       "      <td>920</td>\n",
       "      <td>GasA</td>\n",
       "      <td>Ex</td>\n",
       "      <td>Y</td>\n",
       "      <td>SBrkr</td>\n",
       "      <td>920</td>\n",
       "      <td>866</td>\n",
       "      <td>0</td>\n",
       "      <td>1786</td>\n",
       "      <td>3</td>\n",
       "      <td>1</td>\n",
       "      <td>Gd</td>\n",
       "      <td>6</td>\n",
       "      <td>Typ</td>\n",
       "      <td>1</td>\n",
       "      <td>TA</td>\n",
       "      <td>Attchd</td>\n",
       "      <td>2001.0</td>\n",
       "      <td>RFn</td>\n",
       "      <td>2</td>\n",
       "      <td>TA</td>\n",
       "      <td>TA</td>\n",
       "      <td>Y</td>\n",
       "      <td>0</td>\n",
       "      <td>42</td>\n",
       "      <td>0</td>\n",
       "      <td>0</td>\n",
       "      <td>0</td>\n",
       "      <td>0</td>\n",
       "      <td>0</td>\n",
       "      <td>9</td>\n",
       "      <td>2008</td>\n",
       "      <td>WD</td>\n",
       "      <td>Normal</td>\n",
       "      <td>223500</td>\n",
       "      <td>12.317167</td>\n",
       "      <td>7</td>\n",
       "      <td>6</td>\n",
       "      <td>2.5</td>\n",
       "      <td>1</td>\n",
       "      <td>TA</td>\n",
       "      <td>0.0</td>\n",
       "      <td>1.0</td>\n",
       "    </tr>\n",
       "    <tr>\n",
       "      <th>3</th>\n",
       "      <td>4</td>\n",
       "      <td>70</td>\n",
       "      <td>RL</td>\n",
       "      <td>60.0</td>\n",
       "      <td>9550</td>\n",
       "      <td>Pave</td>\n",
       "      <td>IR1</td>\n",
       "      <td>Lvl</td>\n",
       "      <td>Corner</td>\n",
       "      <td>Gtl</td>\n",
       "      <td>Crawfor</td>\n",
       "      <td>Norm</td>\n",
       "      <td>Norm</td>\n",
       "      <td>1Fam</td>\n",
       "      <td>2Story</td>\n",
       "      <td>7</td>\n",
       "      <td>5</td>\n",
       "      <td>Gable</td>\n",
       "      <td>CompShg</td>\n",
       "      <td>Wd Sdng</td>\n",
       "      <td>Wd Shng</td>\n",
       "      <td>None</td>\n",
       "      <td>0.0</td>\n",
       "      <td>TA</td>\n",
       "      <td>TA</td>\n",
       "      <td>BrkTil</td>\n",
       "      <td>TA</td>\n",
       "      <td>Gd</td>\n",
       "      <td>No</td>\n",
       "      <td>ALQ</td>\n",
       "      <td>216</td>\n",
       "      <td>Unf</td>\n",
       "      <td>0</td>\n",
       "      <td>540</td>\n",
       "      <td>756</td>\n",
       "      <td>GasA</td>\n",
       "      <td>Gd</td>\n",
       "      <td>Y</td>\n",
       "      <td>SBrkr</td>\n",
       "      <td>961</td>\n",
       "      <td>756</td>\n",
       "      <td>0</td>\n",
       "      <td>1717</td>\n",
       "      <td>3</td>\n",
       "      <td>1</td>\n",
       "      <td>Gd</td>\n",
       "      <td>7</td>\n",
       "      <td>Typ</td>\n",
       "      <td>1</td>\n",
       "      <td>Gd</td>\n",
       "      <td>Detchd</td>\n",
       "      <td>1998.0</td>\n",
       "      <td>Unf</td>\n",
       "      <td>3</td>\n",
       "      <td>TA</td>\n",
       "      <td>TA</td>\n",
       "      <td>Y</td>\n",
       "      <td>0</td>\n",
       "      <td>35</td>\n",
       "      <td>272</td>\n",
       "      <td>0</td>\n",
       "      <td>0</td>\n",
       "      <td>0</td>\n",
       "      <td>0</td>\n",
       "      <td>2</td>\n",
       "      <td>2006</td>\n",
       "      <td>WD</td>\n",
       "      <td>Abnorml</td>\n",
       "      <td>140000</td>\n",
       "      <td>11.849398</td>\n",
       "      <td>91</td>\n",
       "      <td>36</td>\n",
       "      <td>1.0</td>\n",
       "      <td>1</td>\n",
       "      <td>Ex</td>\n",
       "      <td>0.0</td>\n",
       "      <td>1.0</td>\n",
       "    </tr>\n",
       "    <tr>\n",
       "      <th>4</th>\n",
       "      <td>5</td>\n",
       "      <td>60</td>\n",
       "      <td>RL</td>\n",
       "      <td>84.0</td>\n",
       "      <td>14260</td>\n",
       "      <td>Pave</td>\n",
       "      <td>IR1</td>\n",
       "      <td>Lvl</td>\n",
       "      <td>FR2</td>\n",
       "      <td>Gtl</td>\n",
       "      <td>NoRidge</td>\n",
       "      <td>Norm</td>\n",
       "      <td>Norm</td>\n",
       "      <td>1Fam</td>\n",
       "      <td>2Story</td>\n",
       "      <td>8</td>\n",
       "      <td>5</td>\n",
       "      <td>Gable</td>\n",
       "      <td>CompShg</td>\n",
       "      <td>VinylSd</td>\n",
       "      <td>VinylSd</td>\n",
       "      <td>BrkFace</td>\n",
       "      <td>350.0</td>\n",
       "      <td>Gd</td>\n",
       "      <td>TA</td>\n",
       "      <td>PConc</td>\n",
       "      <td>Gd</td>\n",
       "      <td>TA</td>\n",
       "      <td>Av</td>\n",
       "      <td>GLQ</td>\n",
       "      <td>655</td>\n",
       "      <td>Unf</td>\n",
       "      <td>0</td>\n",
       "      <td>490</td>\n",
       "      <td>1145</td>\n",
       "      <td>GasA</td>\n",
       "      <td>Ex</td>\n",
       "      <td>Y</td>\n",
       "      <td>SBrkr</td>\n",
       "      <td>1145</td>\n",
       "      <td>1053</td>\n",
       "      <td>0</td>\n",
       "      <td>2198</td>\n",
       "      <td>4</td>\n",
       "      <td>1</td>\n",
       "      <td>Gd</td>\n",
       "      <td>9</td>\n",
       "      <td>Typ</td>\n",
       "      <td>1</td>\n",
       "      <td>TA</td>\n",
       "      <td>Attchd</td>\n",
       "      <td>2000.0</td>\n",
       "      <td>RFn</td>\n",
       "      <td>3</td>\n",
       "      <td>TA</td>\n",
       "      <td>TA</td>\n",
       "      <td>Y</td>\n",
       "      <td>192</td>\n",
       "      <td>84</td>\n",
       "      <td>0</td>\n",
       "      <td>0</td>\n",
       "      <td>0</td>\n",
       "      <td>0</td>\n",
       "      <td>0</td>\n",
       "      <td>12</td>\n",
       "      <td>2008</td>\n",
       "      <td>WD</td>\n",
       "      <td>Normal</td>\n",
       "      <td>250000</td>\n",
       "      <td>12.429216</td>\n",
       "      <td>8</td>\n",
       "      <td>8</td>\n",
       "      <td>2.5</td>\n",
       "      <td>1</td>\n",
       "      <td>Ex</td>\n",
       "      <td>0.0</td>\n",
       "      <td>1.0</td>\n",
       "    </tr>\n",
       "    <tr>\n",
       "      <th>5</th>\n",
       "      <td>6</td>\n",
       "      <td>50</td>\n",
       "      <td>RL</td>\n",
       "      <td>85.0</td>\n",
       "      <td>14115</td>\n",
       "      <td>Pave</td>\n",
       "      <td>IR1</td>\n",
       "      <td>Lvl</td>\n",
       "      <td>Inside</td>\n",
       "      <td>Gtl</td>\n",
       "      <td>Mitchel</td>\n",
       "      <td>Norm</td>\n",
       "      <td>Norm</td>\n",
       "      <td>1Fam</td>\n",
       "      <td>1.5Fin</td>\n",
       "      <td>5</td>\n",
       "      <td>5</td>\n",
       "      <td>Gable</td>\n",
       "      <td>CompShg</td>\n",
       "      <td>VinylSd</td>\n",
       "      <td>VinylSd</td>\n",
       "      <td>None</td>\n",
       "      <td>0.0</td>\n",
       "      <td>TA</td>\n",
       "      <td>TA</td>\n",
       "      <td>Wood</td>\n",
       "      <td>Gd</td>\n",
       "      <td>TA</td>\n",
       "      <td>No</td>\n",
       "      <td>GLQ</td>\n",
       "      <td>732</td>\n",
       "      <td>Unf</td>\n",
       "      <td>0</td>\n",
       "      <td>64</td>\n",
       "      <td>796</td>\n",
       "      <td>GasA</td>\n",
       "      <td>Ex</td>\n",
       "      <td>Y</td>\n",
       "      <td>SBrkr</td>\n",
       "      <td>796</td>\n",
       "      <td>566</td>\n",
       "      <td>0</td>\n",
       "      <td>1362</td>\n",
       "      <td>1</td>\n",
       "      <td>1</td>\n",
       "      <td>TA</td>\n",
       "      <td>5</td>\n",
       "      <td>Typ</td>\n",
       "      <td>0</td>\n",
       "      <td>None</td>\n",
       "      <td>Attchd</td>\n",
       "      <td>1993.0</td>\n",
       "      <td>Unf</td>\n",
       "      <td>2</td>\n",
       "      <td>TA</td>\n",
       "      <td>TA</td>\n",
       "      <td>Y</td>\n",
       "      <td>40</td>\n",
       "      <td>30</td>\n",
       "      <td>0</td>\n",
       "      <td>320</td>\n",
       "      <td>0</td>\n",
       "      <td>0</td>\n",
       "      <td>1</td>\n",
       "      <td>10</td>\n",
       "      <td>2009</td>\n",
       "      <td>WD</td>\n",
       "      <td>Normal</td>\n",
       "      <td>143000</td>\n",
       "      <td>11.870600</td>\n",
       "      <td>16</td>\n",
       "      <td>14</td>\n",
       "      <td>1.5</td>\n",
       "      <td>1</td>\n",
       "      <td>Po</td>\n",
       "      <td>0.0</td>\n",
       "      <td>1.0</td>\n",
       "    </tr>\n",
       "    <tr>\n",
       "      <th>6</th>\n",
       "      <td>7</td>\n",
       "      <td>20</td>\n",
       "      <td>RL</td>\n",
       "      <td>75.0</td>\n",
       "      <td>10084</td>\n",
       "      <td>Pave</td>\n",
       "      <td>Reg</td>\n",
       "      <td>Lvl</td>\n",
       "      <td>Inside</td>\n",
       "      <td>Gtl</td>\n",
       "      <td>Somerst</td>\n",
       "      <td>Norm</td>\n",
       "      <td>Norm</td>\n",
       "      <td>1Fam</td>\n",
       "      <td>1Story</td>\n",
       "      <td>8</td>\n",
       "      <td>5</td>\n",
       "      <td>Gable</td>\n",
       "      <td>CompShg</td>\n",
       "      <td>VinylSd</td>\n",
       "      <td>VinylSd</td>\n",
       "      <td>Stone</td>\n",
       "      <td>186.0</td>\n",
       "      <td>Gd</td>\n",
       "      <td>TA</td>\n",
       "      <td>PConc</td>\n",
       "      <td>Ex</td>\n",
       "      <td>TA</td>\n",
       "      <td>Av</td>\n",
       "      <td>GLQ</td>\n",
       "      <td>1369</td>\n",
       "      <td>Unf</td>\n",
       "      <td>0</td>\n",
       "      <td>317</td>\n",
       "      <td>1686</td>\n",
       "      <td>GasA</td>\n",
       "      <td>Ex</td>\n",
       "      <td>Y</td>\n",
       "      <td>SBrkr</td>\n",
       "      <td>1694</td>\n",
       "      <td>0</td>\n",
       "      <td>0</td>\n",
       "      <td>1694</td>\n",
       "      <td>3</td>\n",
       "      <td>1</td>\n",
       "      <td>Gd</td>\n",
       "      <td>7</td>\n",
       "      <td>Typ</td>\n",
       "      <td>1</td>\n",
       "      <td>Gd</td>\n",
       "      <td>Attchd</td>\n",
       "      <td>2004.0</td>\n",
       "      <td>RFn</td>\n",
       "      <td>2</td>\n",
       "      <td>TA</td>\n",
       "      <td>TA</td>\n",
       "      <td>Y</td>\n",
       "      <td>255</td>\n",
       "      <td>57</td>\n",
       "      <td>0</td>\n",
       "      <td>0</td>\n",
       "      <td>0</td>\n",
       "      <td>0</td>\n",
       "      <td>0</td>\n",
       "      <td>8</td>\n",
       "      <td>2007</td>\n",
       "      <td>WD</td>\n",
       "      <td>Normal</td>\n",
       "      <td>307000</td>\n",
       "      <td>12.634603</td>\n",
       "      <td>3</td>\n",
       "      <td>2</td>\n",
       "      <td>2.0</td>\n",
       "      <td>1</td>\n",
       "      <td>Gd</td>\n",
       "      <td>1.0</td>\n",
       "      <td>1.0</td>\n",
       "    </tr>\n",
       "    <tr>\n",
       "      <th>7</th>\n",
       "      <td>8</td>\n",
       "      <td>60</td>\n",
       "      <td>RL</td>\n",
       "      <td>80.0</td>\n",
       "      <td>10382</td>\n",
       "      <td>Pave</td>\n",
       "      <td>IR1</td>\n",
       "      <td>Lvl</td>\n",
       "      <td>Corner</td>\n",
       "      <td>Gtl</td>\n",
       "      <td>NWAmes</td>\n",
       "      <td>PosN</td>\n",
       "      <td>Norm</td>\n",
       "      <td>1Fam</td>\n",
       "      <td>2Story</td>\n",
       "      <td>7</td>\n",
       "      <td>6</td>\n",
       "      <td>Gable</td>\n",
       "      <td>CompShg</td>\n",
       "      <td>HdBoard</td>\n",
       "      <td>HdBoard</td>\n",
       "      <td>Stone</td>\n",
       "      <td>240.0</td>\n",
       "      <td>TA</td>\n",
       "      <td>TA</td>\n",
       "      <td>CBlock</td>\n",
       "      <td>Gd</td>\n",
       "      <td>TA</td>\n",
       "      <td>Mn</td>\n",
       "      <td>ALQ</td>\n",
       "      <td>859</td>\n",
       "      <td>BLQ</td>\n",
       "      <td>32</td>\n",
       "      <td>216</td>\n",
       "      <td>1107</td>\n",
       "      <td>GasA</td>\n",
       "      <td>Ex</td>\n",
       "      <td>Y</td>\n",
       "      <td>SBrkr</td>\n",
       "      <td>1107</td>\n",
       "      <td>983</td>\n",
       "      <td>0</td>\n",
       "      <td>2090</td>\n",
       "      <td>3</td>\n",
       "      <td>1</td>\n",
       "      <td>TA</td>\n",
       "      <td>7</td>\n",
       "      <td>Typ</td>\n",
       "      <td>2</td>\n",
       "      <td>TA</td>\n",
       "      <td>Attchd</td>\n",
       "      <td>1973.0</td>\n",
       "      <td>RFn</td>\n",
       "      <td>2</td>\n",
       "      <td>TA</td>\n",
       "      <td>TA</td>\n",
       "      <td>Y</td>\n",
       "      <td>235</td>\n",
       "      <td>204</td>\n",
       "      <td>228</td>\n",
       "      <td>0</td>\n",
       "      <td>0</td>\n",
       "      <td>0</td>\n",
       "      <td>0</td>\n",
       "      <td>11</td>\n",
       "      <td>2009</td>\n",
       "      <td>WD</td>\n",
       "      <td>Normal</td>\n",
       "      <td>200000</td>\n",
       "      <td>12.206073</td>\n",
       "      <td>36</td>\n",
       "      <td>36</td>\n",
       "      <td>2.5</td>\n",
       "      <td>1</td>\n",
       "      <td>Gd</td>\n",
       "      <td>0.0</td>\n",
       "      <td>1.0</td>\n",
       "    </tr>\n",
       "    <tr>\n",
       "      <th>8</th>\n",
       "      <td>9</td>\n",
       "      <td>50</td>\n",
       "      <td>RM</td>\n",
       "      <td>51.0</td>\n",
       "      <td>6120</td>\n",
       "      <td>Pave</td>\n",
       "      <td>Reg</td>\n",
       "      <td>Lvl</td>\n",
       "      <td>Inside</td>\n",
       "      <td>Gtl</td>\n",
       "      <td>OldTown</td>\n",
       "      <td>Artery</td>\n",
       "      <td>Norm</td>\n",
       "      <td>1Fam</td>\n",
       "      <td>1.5Fin</td>\n",
       "      <td>7</td>\n",
       "      <td>5</td>\n",
       "      <td>Gable</td>\n",
       "      <td>CompShg</td>\n",
       "      <td>BrkFace</td>\n",
       "      <td>Wd Shng</td>\n",
       "      <td>None</td>\n",
       "      <td>0.0</td>\n",
       "      <td>TA</td>\n",
       "      <td>TA</td>\n",
       "      <td>BrkTil</td>\n",
       "      <td>TA</td>\n",
       "      <td>TA</td>\n",
       "      <td>No</td>\n",
       "      <td>Unf</td>\n",
       "      <td>0</td>\n",
       "      <td>Unf</td>\n",
       "      <td>0</td>\n",
       "      <td>952</td>\n",
       "      <td>952</td>\n",
       "      <td>GasA</td>\n",
       "      <td>Gd</td>\n",
       "      <td>Y</td>\n",
       "      <td>FuseF</td>\n",
       "      <td>1022</td>\n",
       "      <td>752</td>\n",
       "      <td>0</td>\n",
       "      <td>1774</td>\n",
       "      <td>2</td>\n",
       "      <td>2</td>\n",
       "      <td>TA</td>\n",
       "      <td>8</td>\n",
       "      <td>Min1</td>\n",
       "      <td>2</td>\n",
       "      <td>TA</td>\n",
       "      <td>Detchd</td>\n",
       "      <td>1931.0</td>\n",
       "      <td>Unf</td>\n",
       "      <td>2</td>\n",
       "      <td>Fa</td>\n",
       "      <td>TA</td>\n",
       "      <td>Y</td>\n",
       "      <td>90</td>\n",
       "      <td>0</td>\n",
       "      <td>205</td>\n",
       "      <td>0</td>\n",
       "      <td>0</td>\n",
       "      <td>0</td>\n",
       "      <td>0</td>\n",
       "      <td>4</td>\n",
       "      <td>2008</td>\n",
       "      <td>WD</td>\n",
       "      <td>Abnorml</td>\n",
       "      <td>129900</td>\n",
       "      <td>11.774520</td>\n",
       "      <td>77</td>\n",
       "      <td>58</td>\n",
       "      <td>2.0</td>\n",
       "      <td>0</td>\n",
       "      <td>TA</td>\n",
       "      <td>1.0</td>\n",
       "      <td>1.0</td>\n",
       "    </tr>\n",
       "    <tr>\n",
       "      <th>9</th>\n",
       "      <td>10</td>\n",
       "      <td>190</td>\n",
       "      <td>RL</td>\n",
       "      <td>50.0</td>\n",
       "      <td>7420</td>\n",
       "      <td>Pave</td>\n",
       "      <td>Reg</td>\n",
       "      <td>Lvl</td>\n",
       "      <td>Corner</td>\n",
       "      <td>Gtl</td>\n",
       "      <td>BrkSide</td>\n",
       "      <td>Artery</td>\n",
       "      <td>Artery</td>\n",
       "      <td>2fmCon</td>\n",
       "      <td>1.5Unf</td>\n",
       "      <td>5</td>\n",
       "      <td>6</td>\n",
       "      <td>Gable</td>\n",
       "      <td>CompShg</td>\n",
       "      <td>MetalSd</td>\n",
       "      <td>MetalSd</td>\n",
       "      <td>None</td>\n",
       "      <td>0.0</td>\n",
       "      <td>TA</td>\n",
       "      <td>TA</td>\n",
       "      <td>BrkTil</td>\n",
       "      <td>TA</td>\n",
       "      <td>TA</td>\n",
       "      <td>No</td>\n",
       "      <td>GLQ</td>\n",
       "      <td>851</td>\n",
       "      <td>Unf</td>\n",
       "      <td>0</td>\n",
       "      <td>140</td>\n",
       "      <td>991</td>\n",
       "      <td>GasA</td>\n",
       "      <td>Ex</td>\n",
       "      <td>Y</td>\n",
       "      <td>SBrkr</td>\n",
       "      <td>1077</td>\n",
       "      <td>0</td>\n",
       "      <td>0</td>\n",
       "      <td>1077</td>\n",
       "      <td>2</td>\n",
       "      <td>2</td>\n",
       "      <td>TA</td>\n",
       "      <td>5</td>\n",
       "      <td>Typ</td>\n",
       "      <td>2</td>\n",
       "      <td>TA</td>\n",
       "      <td>Attchd</td>\n",
       "      <td>1939.0</td>\n",
       "      <td>RFn</td>\n",
       "      <td>1</td>\n",
       "      <td>Gd</td>\n",
       "      <td>TA</td>\n",
       "      <td>Y</td>\n",
       "      <td>0</td>\n",
       "      <td>4</td>\n",
       "      <td>0</td>\n",
       "      <td>0</td>\n",
       "      <td>0</td>\n",
       "      <td>0</td>\n",
       "      <td>0</td>\n",
       "      <td>1</td>\n",
       "      <td>2008</td>\n",
       "      <td>WD</td>\n",
       "      <td>Normal</td>\n",
       "      <td>118000</td>\n",
       "      <td>11.678440</td>\n",
       "      <td>69</td>\n",
       "      <td>58</td>\n",
       "      <td>1.0</td>\n",
       "      <td>1</td>\n",
       "      <td>Fa</td>\n",
       "      <td>1.0</td>\n",
       "      <td>1.0</td>\n",
       "    </tr>\n",
       "  </tbody>\n",
       "</table>\n",
       "</div>"
      ],
      "text/plain": [
       "   Id MSSubClass MSZoning  LotFrontage  LotArea Street LotShape LandContour  \\\n",
       "0   1         60       RL         65.0     8450   Pave      Reg         Lvl   \n",
       "1   2         20       RL         80.0     9600   Pave      Reg         Lvl   \n",
       "2   3         60       RL         68.0    11250   Pave      IR1         Lvl   \n",
       "3   4         70       RL         60.0     9550   Pave      IR1         Lvl   \n",
       "4   5         60       RL         84.0    14260   Pave      IR1         Lvl   \n",
       "5   6         50       RL         85.0    14115   Pave      IR1         Lvl   \n",
       "6   7         20       RL         75.0    10084   Pave      Reg         Lvl   \n",
       "7   8         60       RL         80.0    10382   Pave      IR1         Lvl   \n",
       "8   9         50       RM         51.0     6120   Pave      Reg         Lvl   \n",
       "9  10        190       RL         50.0     7420   Pave      Reg         Lvl   \n",
       "\n",
       "  LotConfig LandSlope Neighborhood Condition1 Condition2 BldgType HouseStyle  \\\n",
       "0    Inside       Gtl      CollgCr       Norm       Norm     1Fam     2Story   \n",
       "1       FR2       Gtl      Veenker      Feedr       Norm     1Fam     1Story   \n",
       "2    Inside       Gtl      CollgCr       Norm       Norm     1Fam     2Story   \n",
       "3    Corner       Gtl      Crawfor       Norm       Norm     1Fam     2Story   \n",
       "4       FR2       Gtl      NoRidge       Norm       Norm     1Fam     2Story   \n",
       "5    Inside       Gtl      Mitchel       Norm       Norm     1Fam     1.5Fin   \n",
       "6    Inside       Gtl      Somerst       Norm       Norm     1Fam     1Story   \n",
       "7    Corner       Gtl       NWAmes       PosN       Norm     1Fam     2Story   \n",
       "8    Inside       Gtl      OldTown     Artery       Norm     1Fam     1.5Fin   \n",
       "9    Corner       Gtl      BrkSide     Artery     Artery   2fmCon     1.5Unf   \n",
       "\n",
       "   OverallQual  OverallCond RoofStyle RoofMatl Exterior1st Exterior2nd  \\\n",
       "0            7            5     Gable  CompShg     VinylSd     VinylSd   \n",
       "1            6            8     Gable  CompShg     MetalSd     MetalSd   \n",
       "2            7            5     Gable  CompShg     VinylSd     VinylSd   \n",
       "3            7            5     Gable  CompShg     Wd Sdng     Wd Shng   \n",
       "4            8            5     Gable  CompShg     VinylSd     VinylSd   \n",
       "5            5            5     Gable  CompShg     VinylSd     VinylSd   \n",
       "6            8            5     Gable  CompShg     VinylSd     VinylSd   \n",
       "7            7            6     Gable  CompShg     HdBoard     HdBoard   \n",
       "8            7            5     Gable  CompShg     BrkFace     Wd Shng   \n",
       "9            5            6     Gable  CompShg     MetalSd     MetalSd   \n",
       "\n",
       "  MasVnrType  MasVnrArea ExterQual ExterCond Foundation BsmtQual BsmtCond  \\\n",
       "0    BrkFace       196.0        Gd        TA      PConc       Gd       TA   \n",
       "1       None         0.0        TA        TA     CBlock       Gd       TA   \n",
       "2    BrkFace       162.0        Gd        TA      PConc       Gd       TA   \n",
       "3       None         0.0        TA        TA     BrkTil       TA       Gd   \n",
       "4    BrkFace       350.0        Gd        TA      PConc       Gd       TA   \n",
       "5       None         0.0        TA        TA       Wood       Gd       TA   \n",
       "6      Stone       186.0        Gd        TA      PConc       Ex       TA   \n",
       "7      Stone       240.0        TA        TA     CBlock       Gd       TA   \n",
       "8       None         0.0        TA        TA     BrkTil       TA       TA   \n",
       "9       None         0.0        TA        TA     BrkTil       TA       TA   \n",
       "\n",
       "  BsmtExposure BsmtFinType1  BsmtFinSF1 BsmtFinType2  BsmtFinSF2  BsmtUnfSF  \\\n",
       "0           No          GLQ         706          Unf           0        150   \n",
       "1           Gd          ALQ         978          Unf           0        284   \n",
       "2           Mn          GLQ         486          Unf           0        434   \n",
       "3           No          ALQ         216          Unf           0        540   \n",
       "4           Av          GLQ         655          Unf           0        490   \n",
       "5           No          GLQ         732          Unf           0         64   \n",
       "6           Av          GLQ        1369          Unf           0        317   \n",
       "7           Mn          ALQ         859          BLQ          32        216   \n",
       "8           No          Unf           0          Unf           0        952   \n",
       "9           No          GLQ         851          Unf           0        140   \n",
       "\n",
       "   TotalBsmtSF Heating HeatingQC CentralAir Electrical  1stFlrSF  2ndFlrSF  \\\n",
       "0          856    GasA        Ex          Y      SBrkr       856       854   \n",
       "1         1262    GasA        Ex          Y      SBrkr      1262         0   \n",
       "2          920    GasA        Ex          Y      SBrkr       920       866   \n",
       "3          756    GasA        Gd          Y      SBrkr       961       756   \n",
       "4         1145    GasA        Ex          Y      SBrkr      1145      1053   \n",
       "5          796    GasA        Ex          Y      SBrkr       796       566   \n",
       "6         1686    GasA        Ex          Y      SBrkr      1694         0   \n",
       "7         1107    GasA        Ex          Y      SBrkr      1107       983   \n",
       "8          952    GasA        Gd          Y      FuseF      1022       752   \n",
       "9          991    GasA        Ex          Y      SBrkr      1077         0   \n",
       "\n",
       "   LowQualFinSF  GrLivArea  BedroomAbvGr  KitchenAbvGr KitchenQual  \\\n",
       "0             0       1710             3             1          Gd   \n",
       "1             0       1262             3             1          TA   \n",
       "2             0       1786             3             1          Gd   \n",
       "3             0       1717             3             1          Gd   \n",
       "4             0       2198             4             1          Gd   \n",
       "5             0       1362             1             1          TA   \n",
       "6             0       1694             3             1          Gd   \n",
       "7             0       2090             3             1          TA   \n",
       "8             0       1774             2             2          TA   \n",
       "9             0       1077             2             2          TA   \n",
       "\n",
       "   TotRmsAbvGrd Functional  Fireplaces FireplaceQu GarageType GarageYrBlt  \\\n",
       "0             8        Typ           0        None     Attchd      2003.0   \n",
       "1             6        Typ           1          TA     Attchd      1976.0   \n",
       "2             6        Typ           1          TA     Attchd      2001.0   \n",
       "3             7        Typ           1          Gd     Detchd      1998.0   \n",
       "4             9        Typ           1          TA     Attchd      2000.0   \n",
       "5             5        Typ           0        None     Attchd      1993.0   \n",
       "6             7        Typ           1          Gd     Attchd      2004.0   \n",
       "7             7        Typ           2          TA     Attchd      1973.0   \n",
       "8             8       Min1           2          TA     Detchd      1931.0   \n",
       "9             5        Typ           2          TA     Attchd      1939.0   \n",
       "\n",
       "  GarageFinish  GarageCars GarageQual GarageCond PavedDrive  WoodDeckSF  \\\n",
       "0          RFn           2         TA         TA          Y           0   \n",
       "1          RFn           2         TA         TA          Y         298   \n",
       "2          RFn           2         TA         TA          Y           0   \n",
       "3          Unf           3         TA         TA          Y           0   \n",
       "4          RFn           3         TA         TA          Y         192   \n",
       "5          Unf           2         TA         TA          Y          40   \n",
       "6          RFn           2         TA         TA          Y         255   \n",
       "7          RFn           2         TA         TA          Y         235   \n",
       "8          Unf           2         Fa         TA          Y          90   \n",
       "9          RFn           1         Gd         TA          Y           0   \n",
       "\n",
       "   OpenPorchSF  EnclosedPorch  3SsnPorch  ScreenPorch  PoolArea Fence MoSold  \\\n",
       "0           61              0          0            0         0     0      2   \n",
       "1            0              0          0            0         0     0      5   \n",
       "2           42              0          0            0         0     0      9   \n",
       "3           35            272          0            0         0     0      2   \n",
       "4           84              0          0            0         0     0     12   \n",
       "5           30              0        320            0         0     1     10   \n",
       "6           57              0          0            0         0     0      8   \n",
       "7          204            228          0            0         0     0     11   \n",
       "8            0            205          0            0         0     0      4   \n",
       "9            4              0          0            0         0     0      1   \n",
       "\n",
       "   YrSold SaleType SaleCondition  SalePrice  log_SalePrice  AgeHome  \\\n",
       "0    2008       WD        Normal     208500      12.247694        5   \n",
       "1    2007       WD        Normal     181500      12.109011       31   \n",
       "2    2008       WD        Normal     223500      12.317167        7   \n",
       "3    2006       WD       Abnorml     140000      11.849398       91   \n",
       "4    2008       WD        Normal     250000      12.429216        8   \n",
       "5    2009       WD        Normal     143000      11.870600       16   \n",
       "6    2007       WD        Normal     307000      12.634603        3   \n",
       "7    2009       WD        Normal     200000      12.206073       36   \n",
       "8    2008       WD       Abnorml     129900      11.774520       77   \n",
       "9    2008       WD        Normal     118000      11.678440       69   \n",
       "\n",
       "   YrsSnRmdl  BthrmAbvGrd  BthrmBsmt NeighbQual  LotShape2  LandContour2  \n",
       "0          5          2.5          1         TA        1.0           1.0  \n",
       "1         31          2.0          1         Ex        1.0           1.0  \n",
       "2          6          2.5          1         TA        0.0           1.0  \n",
       "3         36          1.0          1         Ex        0.0           1.0  \n",
       "4          8          2.5          1         Ex        0.0           1.0  \n",
       "5         14          1.5          1         Po        0.0           1.0  \n",
       "6          2          2.0          1         Gd        1.0           1.0  \n",
       "7         36          2.5          1         Gd        0.0           1.0  \n",
       "8         58          2.0          0         TA        1.0           1.0  \n",
       "9         58          1.0          1         Fa        1.0           1.0  "
      ]
     },
     "execution_count": 334,
     "metadata": {},
     "output_type": "execute_result"
    }
   ],
   "source": [
    "pd.set_option('display.max_columns',None)\n",
    "train.head(10)"
   ]
  },
  {
   "cell_type": "code",
   "execution_count": 335,
   "id": "ae3b720c",
   "metadata": {},
   "outputs": [
    {
     "name": "stdout",
     "output_type": "stream",
     "text": [
      "ANOVA p-val for classes of LotShape is 0.0  and  0.08291\n",
      "ANOVA p-val for classes of LotShape2 is 0.0  and  0.07939\n",
      "ANOVA p-val for classes of LandContour is 0.0  and  0.0251\n",
      "ANOVA p-val for classes of LandContour2 is 0.91806  and  1e-05\n"
     ]
    },
    {
     "data": {
      "text/plain": [
       "['LotShape', 'LotShape2', 'LandContour']"
      ]
     },
     "execution_count": 335,
     "metadata": {},
     "output_type": "execute_result"
    }
   ],
   "source": [
    "#Checking with ANOVA\n",
    "my_anova(['LotShape', 'LotShape2', 'LandContour', 'LandContour2'])"
   ]
  },
  {
   "cell_type": "code",
   "execution_count": 336,
   "id": "89335180",
   "metadata": {},
   "outputs": [],
   "source": [
    "col_to_drop += ['LotShape']"
   ]
  },
  {
   "cell_type": "code",
   "execution_count": 341,
   "id": "33317ee7",
   "metadata": {},
   "outputs": [
    {
     "name": "stdout",
     "output_type": "stream",
     "text": [
      "[30, 88, 93, 491, 552, 704, 805, 909, 1054, 1271, 30, 88, 93, 491, 552, 704, 805, 909, 1054, 1271]\n"
     ]
    },
    {
     "data": {
      "text/plain": [
       "['Street', 'Neighborhood', 'Condition 2', 'LotShape']"
      ]
     },
     "execution_count": 341,
     "metadata": {},
     "output_type": "execute_result"
    }
   ],
   "source": [
    "print(obs_to_drop)\n",
    "col_to_drop"
   ]
  },
  {
   "cell_type": "markdown",
   "id": "44e4b978",
   "metadata": {},
   "source": [
    "## House Quality"
   ]
  },
  {
   "cell_type": "code",
   "execution_count": 102,
   "id": "a8a2103e",
   "metadata": {
    "scrolled": true
   },
   "outputs": [
    {
     "data": {
      "text/plain": [
       "Index(['BldgType', 'HouseStyle', 'OverallQual', 'OverallCond', 'AgeHome',\n",
       "       'YrsSnRmdl', 'RoofStyle', 'RoofMatl', 'Exterior1st', 'Exterior2nd',\n",
       "       'MasVnrType', 'MasVnrArea', 'ExterQual', 'ExterCond', 'Foundation',\n",
       "       'Heating', 'HeatingQC', 'CentralAir', 'Electrical', 'log_SalePrice'],\n",
       "      dtype='object')"
      ]
     },
     "execution_count": 102,
     "metadata": {},
     "output_type": "execute_result"
    }
   ],
   "source": [
    "df_h = train[HouseQual + ['log_SalePrice']]\n",
    "df_h.columns"
   ]
  },
  {
   "cell_type": "code",
   "execution_count": 104,
   "id": "f0808ec5",
   "metadata": {},
   "outputs": [],
   "source": [
    "#Double Checking missing Values\n",
    "#df_h.isna().sum()"
   ]
  },
  {
   "cell_type": "code",
   "execution_count": 106,
   "id": "650c75db",
   "metadata": {},
   "outputs": [],
   "source": [
    "cat_var = df_h.select_dtypes('O').columns.tolist()\n",
    "num_var = df_h.select_dtypes('number').columns.tolist()"
   ]
  },
  {
   "cell_type": "code",
   "execution_count": null,
   "id": "2b3d036a",
   "metadata": {},
   "outputs": [],
   "source": [
    "#view_cat = look_cat(cat_var)\n",
    "view_num = look_num2(num_var)"
   ]
  },
  {
   "cell_type": "code",
   "execution_count": 111,
   "id": "0077c35c",
   "metadata": {},
   "outputs": [
    {
     "data": {
      "text/plain": [
       "['OverallQual',\n",
       " 'OverallCond',\n",
       " 'AgeHome',\n",
       " 'YrsSnRmdl',\n",
       " 'MasVnrArea',\n",
       " 'log_SalePrice']"
      ]
     },
     "execution_count": 111,
     "metadata": {},
     "output_type": "execute_result"
    }
   ],
   "source": [
    "num_var"
   ]
  },
  {
   "cell_type": "code",
   "execution_count": 118,
   "id": "5c7f2e2c",
   "metadata": {},
   "outputs": [],
   "source": [
    "def my_pear(numvar_list):\n",
    "    keep = []\n",
    "    for item in numvar_list:\n",
    "        corr = pearsonr(train[item], train['log_SalePrice'])\n",
    "        print('Pearsons correlation for ' + item + ' (r):', round(corr[0],3))\n",
    "        if abs(round(corr[0],3)) > .15:\n",
    "            keep.append(item)\n",
    "    return keep"
   ]
  },
  {
   "cell_type": "code",
   "execution_count": 121,
   "id": "11d09df3",
   "metadata": {},
   "outputs": [
    {
     "name": "stdout",
     "output_type": "stream",
     "text": [
      "Pearsons correlation for OverallQual (r): 0.821\n",
      "Pearsons correlation for OverallCond (r): -0.037\n",
      "Pearsons correlation for AgeHome (r): -0.593\n",
      "Pearsons correlation for YrsSnRmdl (r): -0.575\n",
      "Pearsons correlation for MasVnrArea (r): 0.427\n",
      "Pearsons correlation for log_SalePrice (r): 1.0\n"
     ]
    },
    {
     "data": {
      "text/plain": [
       "['OverallQual', 'AgeHome', 'YrsSnRmdl', 'MasVnrArea', 'log_SalePrice']"
      ]
     },
     "execution_count": 121,
     "metadata": {},
     "output_type": "execute_result"
    }
   ],
   "source": [
    "my_pear(num_var)"
   ]
  },
  {
   "cell_type": "markdown",
   "id": "5137c8a7",
   "metadata": {},
   "source": [
    "## Basement"
   ]
  },
  {
   "cell_type": "markdown",
   "id": "75fa715a",
   "metadata": {},
   "source": [
    "## IndoorA"
   ]
  },
  {
   "cell_type": "markdown",
   "id": "5068bde7",
   "metadata": {},
   "source": [
    "## GaragePlus"
   ]
  },
  {
   "cell_type": "code",
   "execution_count": null,
   "id": "927f75de",
   "metadata": {},
   "outputs": [],
   "source": [
    "df_g = train[Garage]\n",
    "print(df_g.columns)\n",
    "\n",
    "#Missing Values\n",
    "df_g.isna().sum()"
   ]
  },
  {
   "cell_type": "markdown",
   "id": "2a3de934",
   "metadata": {},
   "source": [
    "From Data Description -> Na is No Garage, so we will impute "
   ]
  },
  {
   "cell_type": "markdown",
   "id": "a77c88c8",
   "metadata": {},
   "source": [
    "## PorchPlus\n"
   ]
  },
  {
   "cell_type": "code",
   "execution_count": null,
   "id": "238c4eb6",
   "metadata": {},
   "outputs": [],
   "source": [
    "df_pp = train[PorchPlus]\n",
    "df_pp.columns"
   ]
  },
  {
   "cell_type": "code",
   "execution_count": null,
   "id": "a3ff0ca0",
   "metadata": {},
   "outputs": [],
   "source": [
    "#Missing Values\n",
    "df_sale.isna().sum()"
   ]
  },
  {
   "cell_type": "code",
   "execution_count": null,
   "id": "babdb5d0",
   "metadata": {
    "scrolled": true
   },
   "outputs": [],
   "source": [
    "#correlation matrix\n",
    "corrmat = df_pp.corr()\n",
    "f, ax = plt.subplots(figsize=(6, 8))\n",
    "\n",
    "k = 10 #number of variables for heatmap\n",
    "cols = corrmat.nlargest(k, 'log_SalePrice')['log_SalePrice'].index\n",
    "cm = np.corrcoef(train[cols].values.T)\n",
    "sns.set(font_scale=1.25)\n",
    "hm = sns.heatmap(cm, cbar=True, annot=True, square=True, fmt='.2f', annot_kws={'size': 10}, yticklabels=cols.values, xticklabels=cols.values)\n",
    "plt.show()"
   ]
  },
  {
   "cell_type": "code",
   "execution_count": null,
   "id": "b3da27c6",
   "metadata": {},
   "outputs": [],
   "source": []
  },
  {
   "cell_type": "markdown",
   "id": "4069c181",
   "metadata": {},
   "source": [
    "## Sale Info"
   ]
  },
  {
   "cell_type": "code",
   "execution_count": null,
   "id": "428c5532",
   "metadata": {},
   "outputs": [],
   "source": [
    "df_sale = train[SaleInfo]"
   ]
  },
  {
   "cell_type": "code",
   "execution_count": null,
   "id": "af56f57e",
   "metadata": {},
   "outputs": [],
   "source": [
    "df_sale.head()"
   ]
  },
  {
   "cell_type": "code",
   "execution_count": null,
   "id": "52040862",
   "metadata": {},
   "outputs": [],
   "source": [
    "#Missing Values\n",
    "df_sale.isna().sum()"
   ]
  },
  {
   "cell_type": "code",
   "execution_count": null,
   "id": "03a8033c",
   "metadata": {},
   "outputs": [],
   "source": [
    "#correlation matrix\n",
    "corrmat = df_sale.corr()\n",
    "f, ax = plt.subplots(figsize=(12, 9))\n",
    "sns.heatmap(corrmat, vmax=.8, square=True);"
   ]
  },
  {
   "cell_type": "code",
   "execution_count": null,
   "id": "fcfa8a79",
   "metadata": {},
   "outputs": [],
   "source": [
    "#saleprice correlation matrix\n",
    "k = 10 #number of variables for heatmap\n",
    "cols = corrmat.nlargest(k, 'SalePrice')['SalePrice'].index\n",
    "cm = np.corrcoef(train[cols].values.T)\n",
    "sns.set(font_scale=1.25)\n",
    "hm = sns.heatmap(cm, cbar=True, annot=True, square=True, fmt='.2f', annot_kws={'size': 10}, yticklabels=cols.values, xticklabels=cols.values)\n",
    "plt.show()"
   ]
  },
  {
   "cell_type": "code",
   "execution_count": null,
   "id": "582ee5d1",
   "metadata": {},
   "outputs": [],
   "source": []
  },
  {
   "cell_type": "code",
   "execution_count": null,
   "id": "499e739d",
   "metadata": {},
   "outputs": [],
   "source": []
  },
  {
   "cell_type": "code",
   "execution_count": null,
   "id": "80d34910",
   "metadata": {
    "scrolled": true
   },
   "outputs": [],
   "source": [
    "## Looking into number of missing values\n",
    "total = train.isnull().sum().sort_values(ascending=False)\n",
    "percent = (train.isnull().sum()/train.isnull().count()).sort_values(ascending=False)\n",
    "missing_data = pd.concat([total, percent], axis=1, keys=['Number Missing', 'Percent Missing'])\n",
    "missing_data.head(29)"
   ]
  },
  {
   "cell_type": "code",
   "execution_count": null,
   "id": "1d469423",
   "metadata": {},
   "outputs": [],
   "source": [
    "train['PoolQC'].isnull().sum()"
   ]
  },
  {
   "cell_type": "code",
   "execution_count": null,
   "id": "ceb71ccb",
   "metadata": {},
   "outputs": [],
   "source": [
    "#Making a table with the number and percentages of missing observations\n",
    "num = train.isnull().sum().sort_values(ascending=False)\n",
    "pct = (train.isnull().sum()/train.isnull().count()).sort_values(ascending=False)\n",
    "df_md = pd.concat([num, pct], axis=1, keys=['Number', 'Percent'])\n",
    "\n",
    "#filtering for only the variables where there is 1 or more missing observations\n",
    "df_md.columns\n",
    "df_md.loc[df_md.Number > 0]"
   ]
  },
  {
   "cell_type": "markdown",
   "id": "a1d6e389",
   "metadata": {},
   "source": [
    "### Summary of Data Cleaning\n",
    "\n",
    "#### Data Imputation\n",
    "PoolQC --> 1453 NA imputed to 0 for no pool"
   ]
  },
  {
   "cell_type": "markdown",
   "id": "d4d2252c",
   "metadata": {},
   "source": [
    "#### Handling Outliers and Anomalies"
   ]
  },
  {
   "cell_type": "markdown",
   "id": "b536828d",
   "metadata": {},
   "source": [
    "#### Categorical Features - box plot, bar plot, ANOVA"
   ]
  },
  {
   "cell_type": "markdown",
   "id": "0d7a550f",
   "metadata": {},
   "source": [
    "#### Quantitative Features - correlation matrix, histogram"
   ]
  },
  {
   "cell_type": "markdown",
   "id": "93dc3959",
   "metadata": {},
   "source": [
    "#### Looking into Multicollinearity"
   ]
  },
  {
   "cell_type": "code",
   "execution_count": null,
   "id": "1ea5a709",
   "metadata": {
    "scrolled": false
   },
   "outputs": [],
   "source": [
    "#correlation matrix\n",
    "corrmat = train.corr()\n",
    "f, ax = plt.subplots(figsize=(12, 9))\n",
    "sns.heatmap(corrmat, vmax=.8, square=True);"
   ]
  },
  {
   "cell_type": "code",
   "execution_count": null,
   "id": "3584f245",
   "metadata": {},
   "outputs": [],
   "source": [
    "#saleprice correlation matrix\n",
    "k = 10 #number of variables for heatmap\n",
    "cols = corrmat.nlargest(k, 'SalePrice')['SalePrice'].index\n",
    "cm = np.corrcoef(train[cols].values.T)\n",
    "sns.set(font_scale=1.25)\n",
    "hm = sns.heatmap(cm, cbar=True, annot=True, square=True, fmt='.2f', annot_kws={'size': 10}, yticklabels=cols.values, xticklabels=cols.values)\n",
    "plt.show()"
   ]
  },
  {
   "cell_type": "markdown",
   "id": "9db3ffbb",
   "metadata": {},
   "source": [
    "### Dropped Features"
   ]
  },
  {
   "cell_type": "markdown",
   "id": "4dd2db30",
   "metadata": {},
   "source": [
    "#### Columns with no meaningful difference between categories"
   ]
  },
  {
   "cell_type": "markdown",
   "id": "0a7bf403",
   "metadata": {},
   "source": [
    "#### Low correlation"
   ]
  },
  {
   "cell_type": "markdown",
   "id": "7732d993",
   "metadata": {},
   "source": [
    "#### Multicollinearity"
   ]
  },
  {
   "cell_type": "markdown",
   "id": "95520e05",
   "metadata": {},
   "source": [
    "#### Administrative Columns"
   ]
  },
  {
   "cell_type": "markdown",
   "id": "764ca652",
   "metadata": {},
   "source": [
    "<p><a name=\"PRE\"></a></p>\n",
    "\n",
    "## Preprocessing Data for Models"
   ]
  },
  {
   "cell_type": "code",
   "execution_count": null,
   "id": "45b66b43",
   "metadata": {},
   "outputs": [],
   "source": []
  },
  {
   "cell_type": "markdown",
   "id": "fe8cefc7",
   "metadata": {},
   "source": [
    "### Linear Models\n",
    "#### Dummification of Categorical Variables"
   ]
  },
  {
   "cell_type": "markdown",
   "id": "54157ae6",
   "metadata": {},
   "source": [
    "#### Testing Assumptions for Linear Models"
   ]
  },
  {
   "cell_type": "markdown",
   "id": "639d1b73",
   "metadata": {},
   "source": [
    "### Non Linear Models\n",
    "#### Label Encoding of Categorical Variables"
   ]
  },
  {
   "cell_type": "markdown",
   "id": "d541314e",
   "metadata": {},
   "source": [
    "### All Models\n",
    "#### Standardization of numerical variables\n",
    "#### Split train and validate datasets"
   ]
  },
  {
   "cell_type": "markdown",
   "id": "db61d802",
   "metadata": {},
   "source": [
    "<p><a name=\"EXP\"></a></p>\n",
    "\n",
    "## Exporting Cleaned Datasets"
   ]
  },
  {
   "cell_type": "code",
   "execution_count": null,
   "id": "4af314e1",
   "metadata": {},
   "outputs": [],
   "source": [
    "train.to_csv('./data/cleaned/train_c.csv')"
   ]
  },
  {
   "cell_type": "code",
   "execution_count": null,
   "id": "eae740aa",
   "metadata": {},
   "outputs": [],
   "source": []
  }
 ],
 "metadata": {
  "kernelspec": {
   "display_name": "Python 3",
   "language": "python",
   "name": "python3"
  },
  "language_info": {
   "codemirror_mode": {
    "name": "ipython",
    "version": 3
   },
   "file_extension": ".py",
   "mimetype": "text/x-python",
   "name": "python",
   "nbconvert_exporter": "python",
   "pygments_lexer": "ipython3",
   "version": "3.8.8"
  }
 },
 "nbformat": 4,
 "nbformat_minor": 5
}
