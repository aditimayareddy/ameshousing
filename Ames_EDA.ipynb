{
 "cells": [
  {
   "cell_type": "markdown",
   "id": "9a472aab",
   "metadata": {},
   "source": [
    "# Ames Housing Data EDA"
   ]
  },
  {
   "cell_type": "markdown",
   "id": "a53e3faf",
   "metadata": {},
   "source": [
    "This project aims to predict housing prices in Ames, Iowa based on the famous Ames Iowa Housing Dataset from the Ames City Assessor's Office, made available by Dean De Cock of Truman University in 2011. Professor De Cock's original paper can be found [here.](http://jse.amstat.org/v19n3/decock.pdf)\n",
    "\n",
    "Presentation Slides for this project can be found [here.](https://www.beautiful.ai/player/-N4J5UYshyuRtwl5G4I7)\n",
    "\n",
    "This notebook includes python code for data extraction, cleaning and transformation. Model Fitting and Analysis code can be found in the Ames_Models notebook.\n",
    "\n",
    "# Sections and steps\n",
    "\n",
    "- <a href=\"#IMP\">Reading in Data</a><br>\n",
    "    \n",
    "- <a href=\"#EDA\">Exploratory Data Analysis</a><br>\n",
    "    - <a href=\"#DV\">Sale Price</a><br>\n",
    "    - <a href=\"#FP\">First Pass - Visualization</a><br>\n",
    "    - <a href=\"#MD\">Handling Missing Data</a><br>\n",
    "- <a href=\"#FEN\">Feature Engineering</a><br>\n",
    "    - <a href=\"#SP\">Second Pass - Analysis</a><br>\n",
    "        - Land and Exterior\n",
    "        - House Quality\n",
    "        - Location\n",
    "        - Garage\n",
    "        - Basement\n",
    "        - Sale Info\n",
    "        \n",
    "  - Dropped Features\n",
    "       - columns with no meaningful difference between categories\n",
    "       - low correlation\n",
    "       - Multicollinearity\n",
    "- <a href=\"#PRE\">Preparing Data for Models</a><br>\n",
    "    - Linear Models\n",
    "        -dummify categorical variables\n",
    "    - Non Linear Models\n",
    "        -label encode categorical variables\n",
    "    - All Models\n",
    "        -split train and validate datasets\n",
    "        -standardize the numerical variables\n",
    "- <a href=\"#EXP\">Exporting Cleaned Datasets</a><br>"
   ]
  },
  {
   "cell_type": "markdown",
   "id": "3577f32b",
   "metadata": {},
   "source": [
    "<p><a name=\"IMP\"></a></p>\n",
    "\n",
    "## Importing Packages, Reading in Data"
   ]
  },
  {
   "cell_type": "code",
   "execution_count": 1,
   "id": "9dba07e1",
   "metadata": {},
   "outputs": [],
   "source": [
    "import pandas as pd\n",
    "import numpy as np\n",
    "import numpy.ma as ma\n",
    "import matplotlib.pyplot as plt\n",
    "import seaborn as sns\n",
    "import scipy.stats as stats\n",
    "from scipy.stats import pearsonr\n",
    "from sklearn.preprocessing import StandardScaler\n",
    "import statsmodels.api as sm\n",
    "from statsmodels.formula.api import ols\n",
    "%matplotlib inline\n",
    "plt.style.use('ggplot')\n",
    "plt.rcParams.update({'font.size': 12})"
   ]
  },
  {
   "cell_type": "markdown",
   "id": "1eb53c97",
   "metadata": {},
   "source": [
    "#### Importing helper module"
   ]
  },
  {
   "cell_type": "code",
   "execution_count": 2,
   "id": "05723e4b",
   "metadata": {},
   "outputs": [],
   "source": [
    "#importing helper functions from helper module\n",
    "from helper_module import * #look_cat, look_num"
   ]
  },
  {
   "cell_type": "markdown",
   "id": "3e42da00",
   "metadata": {},
   "source": [
    "#### Reading in train data"
   ]
  },
  {
   "cell_type": "code",
   "execution_count": 3,
   "id": "ce83e096",
   "metadata": {},
   "outputs": [
    {
     "name": "stdout",
     "output_type": "stream",
     "text": [
      "Read in Ames Housing Train Data - Shape: (1460, 81)\n"
     ]
    }
   ],
   "source": [
    "train = pd.read_csv('./data/raw/train.csv')\n",
    "train.head()\n",
    "#train.drop(['Unnamed: 0'], axis=1, inplace=True)\n",
    "print(f\"Read in Ames Housing Train Data - Shape: {train.shape}\")"
   ]
  },
  {
   "cell_type": "markdown",
   "id": "83b492a5",
   "metadata": {},
   "source": [
    "#### Reading in test data"
   ]
  },
  {
   "cell_type": "code",
   "execution_count": 4,
   "id": "ffde3bf3",
   "metadata": {},
   "outputs": [
    {
     "name": "stdout",
     "output_type": "stream",
     "text": [
      "Read in Ames Housing Test Data - Shape: (1459, 80)\n"
     ]
    }
   ],
   "source": [
    "test = pd.read_csv('./data/raw/test.csv')\n",
    "test.head()\n",
    "#test.drop(['Unnamed: 0'], axis=1, inplace=True)\n",
    "print(f\"Read in Ames Housing Test Data - Shape: {test.shape}\")"
   ]
  },
  {
   "cell_type": "markdown",
   "id": "7fa19222",
   "metadata": {},
   "source": [
    "<p><a name=\"EDA\"></a></p>\n",
    "\n",
    "## Exploratory Data Analysis"
   ]
  },
  {
   "cell_type": "markdown",
   "id": "579ed8c4",
   "metadata": {},
   "source": [
    "### Train Dataset Overview"
   ]
  },
  {
   "cell_type": "code",
   "execution_count": 5,
   "id": "960062ff",
   "metadata": {
    "scrolled": true
   },
   "outputs": [
    {
     "name": "stdout",
     "output_type": "stream",
     "text": [
      "The raw number of features is  81\n",
      "The raw number of observations is  1460\n",
      "The datattypes are: [dtype('int64') dtype('O') dtype('float64')]\n"
     ]
    }
   ],
   "source": [
    "print('The raw number of features is ', train.shape[1])\n",
    "print('The raw number of observations is ', train.shape[0])\n",
    "print('The datattypes are:', train.dtypes.unique())"
   ]
  },
  {
   "cell_type": "markdown",
   "id": "43b000b6",
   "metadata": {},
   "source": [
    " Looking at the codebook, there are several ordinal variables that are coded as numeric. These variables correspond to the following column names:\n",
    "- MSSubClass\n",
    "- OverallQual\n",
    "- OverallCond\n",
    "- MoSold\n",
    "- YrSold\n",
    "\n",
    "Let's make sure these are coded as categorical."
   ]
  },
  {
   "cell_type": "code",
   "execution_count": 6,
   "id": "0180a239",
   "metadata": {
    "scrolled": true
   },
   "outputs": [
    {
     "name": "stdout",
     "output_type": "stream",
     "text": [
      "int64\n",
      "int64\n",
      "int64\n",
      "int64\n",
      "int64\n",
      "float64\n"
     ]
    }
   ],
   "source": [
    "#checking to see how these variables are coded\n",
    "L = ['MSSubClass', 'OverallQual', 'OverallCond', 'MoSold', 'YrSold', 'GarageYrBlt']\n",
    "for item in L:\n",
    "    print(train[item].dtype)"
   ]
  },
  {
   "cell_type": "code",
   "execution_count": 7,
   "id": "509097d7",
   "metadata": {},
   "outputs": [],
   "source": [
    "#changing the dtype of these variables to strings\n",
    "for item in L:\n",
    "    train[item] = train[item].astype(str)"
   ]
  },
  {
   "cell_type": "code",
   "execution_count": 8,
   "id": "ecbe0c22",
   "metadata": {
    "scrolled": false
   },
   "outputs": [
    {
     "name": "stdout",
     "output_type": "stream",
     "text": [
      "The number of categorical features is 49\n",
      "The number of numerical features is 31\n",
      "The combined numerical and categorical features are 80\n",
      "Number of Variables left to examine :  80\n"
     ]
    }
   ],
   "source": [
    "#selecting just categorical variables in the dataframe and creating a list\n",
    "cat_var = train.select_dtypes('O').columns.tolist()\n",
    "\n",
    "#selecting just continuous variables in the dataframe and creating a list\n",
    "num_var = train.select_dtypes('number').columns.tolist()\n",
    "num_var.remove('Id')\n",
    "\n",
    "#creating a list of all variables as an EDA checklist\n",
    "all_var = train.columns.tolist()\n",
    "all_var.remove('Id')\n",
    "\n",
    "print('The number of categorical features is' , len(cat_var))\n",
    "print('The number of numerical features is', len(num_var))\n",
    "\n",
    "#Sanity check here\n",
    "print('The combined numerical and categorical features are', len(cat_var) + len(num_var))\n",
    "print('Number of Variables left to examine : ', len(all_var))"
   ]
  },
  {
   "cell_type": "markdown",
   "id": "e773a004",
   "metadata": {},
   "source": [
    "<p><a name=\"DV\"></a></p>\n",
    "\n",
    "## Dependent Variable Analysis - Sale Price"
   ]
  },
  {
   "cell_type": "code",
   "execution_count": 9,
   "id": "e4f0694b",
   "metadata": {
    "scrolled": true
   },
   "outputs": [
    {
     "data": {
      "text/plain": [
       "count      1460.000000\n",
       "mean     180921.195890\n",
       "std       79442.502883\n",
       "min       34900.000000\n",
       "25%      129975.000000\n",
       "50%      163000.000000\n",
       "75%      214000.000000\n",
       "max      755000.000000\n",
       "Name: SalePrice, dtype: float64"
      ]
     },
     "execution_count": 9,
     "metadata": {},
     "output_type": "execute_result"
    }
   ],
   "source": [
    "#descriptive summary of Sale Price\n",
    "train['SalePrice'].describe()"
   ]
  },
  {
   "cell_type": "code",
   "execution_count": 10,
   "id": "99fdadb0",
   "metadata": {},
   "outputs": [
    {
     "data": {
      "image/png": "[encoded data removed]",
      "text/plain": [
       "<Figure size 432x288 with 1 Axes>"
      ]
     },
     "metadata": {},
     "output_type": "display_data"
    },
    {
     "data": {
      "text/plain": [
       "<Figure size 432x288 with 0 Axes>"
      ]
     },
     "metadata": {},
     "output_type": "display_data"
    }
   ],
   "source": [
    "#plotting a histogram using seaborn\n",
    "#histogram\n",
    "sns.histplot(train['SalePrice'], kde = True);\n",
    "fig = plt.figure()\n",
    "#TODO - clean up this diagram"
   ]
  },
  {
   "cell_type": "markdown",
   "id": "6403cabd",
   "metadata": {},
   "source": [
    "Noticing that the dependent variable looks right skewed (aka not normally distributed)"
   ]
  },
  {
   "cell_type": "code",
   "execution_count": 11,
   "id": "6581b8bf",
   "metadata": {},
   "outputs": [
    {
     "name": "stdout",
     "output_type": "stream",
     "text": [
      "Skewness: 1.882876\n",
      "Kurtosis: 6.536282\n"
     ]
    }
   ],
   "source": [
    "#checking skewness and kurtosis\n",
    "print(\"Skewness: %f\" % train['SalePrice'].skew())\n",
    "print(\"Kurtosis: %f\" % train['SalePrice'].kurt())"
   ]
  },
  {
   "cell_type": "markdown",
   "id": "73e85e15",
   "metadata": {},
   "source": [
    "To ensure that the residuals of a linear model taken will be normal, we will take the log of the Sale Price instead of the Sale Price."
   ]
  },
  {
   "cell_type": "code",
   "execution_count": 12,
   "id": "e85ce6f2",
   "metadata": {},
   "outputs": [],
   "source": [
    "#adding a column for log sale price\n",
    "train['log_SalePrice'] = np.log(train['SalePrice'])"
   ]
  },
  {
   "cell_type": "code",
   "execution_count": 13,
   "id": "fece548c",
   "metadata": {},
   "outputs": [
    {
     "data": {
      "image/png": "[encoded data removed]",
      "text/plain": [
       "<Figure size 432x288 with 1 Axes>"
      ]
     },
     "metadata": {},
     "output_type": "display_data"
    }
   ],
   "source": [
    "#plotting a histogram using seaborn\n",
    "#histogram\n",
    "sns.histplot(train['log_SalePrice'], kde = True);\n",
    "#TODO - clean up this diagram"
   ]
  },
  {
   "cell_type": "code",
   "execution_count": 14,
   "id": "ebcb2bab",
   "metadata": {},
   "outputs": [
    {
     "name": "stdout",
     "output_type": "stream",
     "text": [
      "Skewness: 0.121335\n",
      "Kurtosis: 0.809532\n"
     ]
    }
   ],
   "source": [
    "#checking skewness and kurtosis\n",
    "print(\"Skewness: %f\" % train['log_SalePrice'].skew())\n",
    "print(\"Kurtosis: %f\" % train['log_SalePrice'].kurt())"
   ]
  },
  {
   "cell_type": "markdown",
   "id": "01c7af58",
   "metadata": {},
   "source": [
    "<p><a name=\"FP\"></a></p>\n",
    "\n",
    "## Independent Variables Analysis"
   ]
  },
  {
   "cell_type": "markdown",
   "id": "100befeb",
   "metadata": {},
   "source": [
    "### First Pass Categorical Features\n",
    "To get a sense of the independent variables in this dataset, we'll use a helper function to iterate through each categorical variable and look at:\n",
    "- percentage of missing data\n",
    "- value counts of observations\n",
    "- anomalies and outliers\n",
    "- distribution of variables via barplot and boxplot\n",
    "\n",
    "No changes will be made to data - this will be saved for feature engineering and selection."
   ]
  },
  {
   "cell_type": "code",
   "execution_count": 15,
   "id": "852a52b8",
   "metadata": {},
   "outputs": [],
   "source": [
    "view_cat = look_cat(cat_var)"
   ]
  },
  {
   "cell_type": "code",
   "execution_count": 16,
   "id": "04f93a07",
   "metadata": {},
   "outputs": [
    {
     "name": "stdout",
     "output_type": "stream",
     "text": [
      "MSSubClass has 0 missing observations, equal to 0.0%\n",
      "20     536\n",
      "60     299\n",
      "50     144\n",
      "120     87\n",
      "30      69\n",
      "160     63\n",
      "70      60\n",
      "80      58\n",
      "90      52\n",
      "190     30\n",
      "85      20\n",
      "75      16\n",
      "45      12\n",
      "180     10\n",
      "40       4\n",
      "Name: MSSubClass, dtype: int64\n"
     ]
    },
    {
     "data": {
      "text/plain": [
       "<AxesSubplot:xlabel='MSSubClass', ylabel='Log of Sale Price'>"
      ]
     },
     "execution_count": 16,
     "metadata": {},
     "output_type": "execute_result"
    },
    {
     "data": {
      "image/png": "[encoded data removed]",
      "text/plain": [
       "<Figure size 432x288 with 1 Axes>"
      ]
     },
     "metadata": {},
     "output_type": "display_data"
    },
    {
     "data": {
      "image/png": "[encoded data removed]",
      "text/plain": [
       "<Figure size 432x288 with 1 Axes>"
      ]
     },
     "metadata": {},
     "output_type": "display_data"
    }
   ],
   "source": [
    "next(view_cat)"
   ]
  },
  {
   "cell_type": "markdown",
   "id": "19e8b35c",
   "metadata": {},
   "source": [
    "#### First Pass Categorical Findings :\n",
    "1. Variables that are candidates for ANOVA and potential condensing\n",
    "    - MSSubClass\n",
    "    - MSZoning\n",
    "    - LotShape\n",
    "    - LotConfig\n",
    "    - LandSlope\n",
    "    - Neighborhood\n",
    "    - Condition1\n",
    "    - RoofStyle\n",
    "    - Exterior1st\n",
    "    - Exterior2nd\n",
    "    - BsmtFinType1\n",
    "    - Electrical\n",
    "    - Functional\n",
    "2. Variables that are candidates for binarization\n",
    "    - Street --> paved or gravel\n",
    "    - Alley --> NA is No Alley access\n",
    "    - LandContour --> Lvl and not lvl\n",
    "    - Heating --> Mostly Gas A and Other\n",
    "    - RoofMatl --> Standard Shingle or not\n",
    "    - GarageType --> Mostly Attached and Other\n",
    "    - GarageQual --> Mostly TA and Other\n",
    "    - GarageCond --> Mostly TA and Other\n",
    "    - PavedDrive --> Mostly Paved and Other\n",
    "    - Fence --> 80% missing, NA is no fence\n",
    "    - SaleType --> WD and Other\n",
    "3. Variables that are candidates to be dropped\n",
    "    - Utilities --> all obs but one have all Pub Utilities\n",
    "    - Condition2 --> only 15 obs with conditions\n",
    "    - PoolQC --> missing data for 99.52% of obs\n",
    "    - MiscFeature --> missing 96% of obs, NA is no misc feature\n",
    "4. Other\n",
    "    - Bldg Type --> Twnhs should be TwnhsI\n",
    "    - Def want to keep OverallQual\n",
    "    - Keep ExterQual\n",
    "    - BsmtQual --> NA is no basement, 37 missing values\n",
    "    - Same for BsmtCond --> Na is no basement\n",
    "    - BsmtExposure --> 38 missing\n",
    "    - BsmtFintype 1 and 2 have missing vals -\n",
    "    - Electrical has 1 missing val\n",
    "    - Keep Kitchen Qual\n",
    "    - Fireplace Quality has 690 missing obs --> na is no fireplace\n",
    "    - Garage Type --> Na is no garage\n",
    "    - MoSold to potential Season?\n",
    "        \n",
    "        "
   ]
  },
  {
   "cell_type": "markdown",
   "id": "338207c2",
   "metadata": {},
   "source": [
    "### First Pass Continunous Features\n",
    "To get a sense of the idependent variables in this dataset, we'll use a helper function to iterate through each categorical variable and look at:\n",
    "- missing data\n",
    "- anomalies and outliers\n",
    "- pearson's correlation with dependent variable\n",
    "- distribution via histogram and scatterplot\n",
    "\n",
    "No changes will be made to data - this will be saved for feature engineering and selection."
   ]
  },
  {
   "cell_type": "code",
   "execution_count": 17,
   "id": "5ac909ca",
   "metadata": {},
   "outputs": [],
   "source": [
    "view_num = look_num(num_var)"
   ]
  },
  {
   "cell_type": "code",
   "execution_count": 18,
   "id": "132332f2",
   "metadata": {},
   "outputs": [
    {
     "name": "stdout",
     "output_type": "stream",
     "text": [
      "LotFrontage has 259 missing observations, equal to 17.74%\n",
      "count    1201.000000\n",
      "mean       70.049958\n",
      "std        24.284752\n",
      "min        21.000000\n",
      "25%        59.000000\n",
      "50%        69.000000\n",
      "75%        80.000000\n",
      "max       313.000000\n",
      "Name: LotFrontage, dtype: float64\n"
     ]
    },
    {
     "data": {
      "text/plain": [
       "<AxesSubplot:xlabel='LotFrontage', ylabel='Log of Sale Price'>"
      ]
     },
     "execution_count": 18,
     "metadata": {},
     "output_type": "execute_result"
    },
    {
     "data": {
      "image/png": "[encoded data removed]",
      "text/plain": [
       "<Figure size 432x288 with 1 Axes>"
      ]
     },
     "metadata": {},
     "output_type": "display_data"
    },
    {
     "data": {
      "image/png": "[encoded data removed]",
      "text/plain": [
       "<Figure size 432x288 with 1 Axes>"
      ]
     },
     "metadata": {},
     "output_type": "display_data"
    }
   ],
   "source": [
    "next(view_num)"
   ]
  },
  {
   "cell_type": "markdown",
   "id": "6e15169a",
   "metadata": {},
   "source": [
    "### Looking into Multicollinearity among Continuous Features"
   ]
  },
  {
   "cell_type": "code",
   "execution_count": 19,
   "id": "593ce968",
   "metadata": {
    "scrolled": true
   },
   "outputs": [
    {
     "data": {
      "image/png": "[encoded data removed]",
      "text/plain": [
       "<Figure size 864x648 with 2 Axes>"
      ]
     },
     "metadata": {},
     "output_type": "display_data"
    }
   ],
   "source": [
    "#correlation matrix\n",
    "corrmat = train.corr()\n",
    "f, ax = plt.subplots(figsize=(12, 9))\n",
    "sns.heatmap(corrmat, vmax=.8, square=True);"
   ]
  },
  {
   "cell_type": "code",
   "execution_count": 20,
   "id": "a9a9c55c",
   "metadata": {},
   "outputs": [
    {
     "data": {
      "image/png": "[encoded data removed]",
      "text/plain": [
       "<Figure size 432x288 with 2 Axes>"
      ]
     },
     "metadata": {},
     "output_type": "display_data"
    }
   ],
   "source": [
    "#log_saleprice correlation matrix\n",
    "k = 10 #number of variables for heatmap\n",
    "cols = corrmat.nlargest(k, 'log_SalePrice')['log_SalePrice'].index\n",
    "cm = np.corrcoef(train[cols].values.T)\n",
    "sns.set(font_scale=1.25)\n",
    "hm = sns.heatmap(cm, cbar=True, annot=True, square=True, fmt='.2f', annot_kws={'size': 10}, yticklabels=cols.values, xticklabels=cols.values)\n",
    "plt.show()"
   ]
  },
  {
   "cell_type": "markdown",
   "id": "e49c0f41",
   "metadata": {},
   "source": [
    "#### First Pass Continuous Features Findings:\n",
    "1. Missingness\n",
    "    - Lot Frontage : Linear feet of street connected to property\n",
    "        -Check to see if condos? or high density dwelling?\n",
    "    - MasVnrArea has 8 missing\n",
    "2. Outliers\n",
    "    - LotArea has big outliers\n",
    "    - BsmtFinSF1 has one potential outlier\n",
    "    - BedroomAbvGr has one potential outlier of 8\n",
    "3. Possible feature Engineering\n",
    "    - Years Since Remodel/Age of Home\n",
    "    - Number of Bathrooms\n",
    "    - PoolArea to binary?\n",
    "4. Possible Drops\n",
    "    - Garage Area (multicollinearity with GarageCars, but GarageCars has higher correlation with log_SalePrice)\n",
    "    - One of TotalBsmtSF and 1stFlrSF - Multicollinearity\n",
    "5. Other\n",
    "      - Keep GrLivArea"
   ]
  },
  {
   "cell_type": "markdown",
   "id": "4008d3ac",
   "metadata": {},
   "source": [
    "<p><a name=\"MD\"></a></p>\n",
    "\n",
    "\n",
    "## Handling Missing Data\n",
    "\n",
    "First pass look at Independent Variables showed several variables with missing values. We will look at each."
   ]
  },
  {
   "cell_type": "code",
   "execution_count": 21,
   "id": "0285acf1",
   "metadata": {},
   "outputs": [
    {
     "data": {
      "text/html": [
       "<div>\n",
       "<style scoped>\n",
       "    .dataframe tbody tr th:only-of-type {\n",
       "        vertical-align: middle;\n",
       "    }\n",
       "\n",
       "    .dataframe tbody tr th {\n",
       "        vertical-align: top;\n",
       "    }\n",
       "\n",
       "    .dataframe thead th {\n",
       "        text-align: right;\n",
       "    }\n",
       "</style>\n",
       "<table border=\"1\" class=\"dataframe\">\n",
       "  <thead>\n",
       "    <tr style=\"text-align: right;\">\n",
       "      <th></th>\n",
       "      <th>Number</th>\n",
       "      <th>Percent</th>\n",
       "    </tr>\n",
       "  </thead>\n",
       "  <tbody>\n",
       "    <tr>\n",
       "      <th>PoolQC</th>\n",
       "      <td>1453</td>\n",
       "      <td>0.995205</td>\n",
       "    </tr>\n",
       "    <tr>\n",
       "      <th>MiscFeature</th>\n",
       "      <td>1406</td>\n",
       "      <td>0.963014</td>\n",
       "    </tr>\n",
       "    <tr>\n",
       "      <th>Alley</th>\n",
       "      <td>1369</td>\n",
       "      <td>0.937671</td>\n",
       "    </tr>\n",
       "    <tr>\n",
       "      <th>Fence</th>\n",
       "      <td>1179</td>\n",
       "      <td>0.807534</td>\n",
       "    </tr>\n",
       "    <tr>\n",
       "      <th>FireplaceQu</th>\n",
       "      <td>690</td>\n",
       "      <td>0.472603</td>\n",
       "    </tr>\n",
       "    <tr>\n",
       "      <th>LotFrontage</th>\n",
       "      <td>259</td>\n",
       "      <td>0.177397</td>\n",
       "    </tr>\n",
       "    <tr>\n",
       "      <th>GarageCond</th>\n",
       "      <td>81</td>\n",
       "      <td>0.055479</td>\n",
       "    </tr>\n",
       "    <tr>\n",
       "      <th>GarageType</th>\n",
       "      <td>81</td>\n",
       "      <td>0.055479</td>\n",
       "    </tr>\n",
       "    <tr>\n",
       "      <th>GarageFinish</th>\n",
       "      <td>81</td>\n",
       "      <td>0.055479</td>\n",
       "    </tr>\n",
       "    <tr>\n",
       "      <th>GarageQual</th>\n",
       "      <td>81</td>\n",
       "      <td>0.055479</td>\n",
       "    </tr>\n",
       "    <tr>\n",
       "      <th>BsmtFinType2</th>\n",
       "      <td>38</td>\n",
       "      <td>0.026027</td>\n",
       "    </tr>\n",
       "    <tr>\n",
       "      <th>BsmtExposure</th>\n",
       "      <td>38</td>\n",
       "      <td>0.026027</td>\n",
       "    </tr>\n",
       "    <tr>\n",
       "      <th>BsmtFinType1</th>\n",
       "      <td>37</td>\n",
       "      <td>0.025342</td>\n",
       "    </tr>\n",
       "    <tr>\n",
       "      <th>BsmtQual</th>\n",
       "      <td>37</td>\n",
       "      <td>0.025342</td>\n",
       "    </tr>\n",
       "    <tr>\n",
       "      <th>BsmtCond</th>\n",
       "      <td>37</td>\n",
       "      <td>0.025342</td>\n",
       "    </tr>\n",
       "    <tr>\n",
       "      <th>MasVnrType</th>\n",
       "      <td>8</td>\n",
       "      <td>0.005479</td>\n",
       "    </tr>\n",
       "    <tr>\n",
       "      <th>MasVnrArea</th>\n",
       "      <td>8</td>\n",
       "      <td>0.005479</td>\n",
       "    </tr>\n",
       "    <tr>\n",
       "      <th>Electrical</th>\n",
       "      <td>1</td>\n",
       "      <td>0.000685</td>\n",
       "    </tr>\n",
       "  </tbody>\n",
       "</table>\n",
       "</div>"
      ],
      "text/plain": [
       "              Number   Percent\n",
       "PoolQC          1453  0.995205\n",
       "MiscFeature     1406  0.963014\n",
       "Alley           1369  0.937671\n",
       "Fence           1179  0.807534\n",
       "FireplaceQu      690  0.472603\n",
       "LotFrontage      259  0.177397\n",
       "GarageCond        81  0.055479\n",
       "GarageType        81  0.055479\n",
       "GarageFinish      81  0.055479\n",
       "GarageQual        81  0.055479\n",
       "BsmtFinType2      38  0.026027\n",
       "BsmtExposure      38  0.026027\n",
       "BsmtFinType1      37  0.025342\n",
       "BsmtQual          37  0.025342\n",
       "BsmtCond          37  0.025342\n",
       "MasVnrType         8  0.005479\n",
       "MasVnrArea         8  0.005479\n",
       "Electrical         1  0.000685"
      ]
     },
     "execution_count": 21,
     "metadata": {},
     "output_type": "execute_result"
    }
   ],
   "source": [
    "#Making a table with the number and percentages of missing observations\n",
    "num = train.isnull().sum().sort_values(ascending=False)\n",
    "pct = (train.isnull().sum()/train.isnull().count()).sort_values(ascending=False)\n",
    "df_md = pd.concat([num, pct], axis=1, keys=['Number', 'Percent'])\n",
    "\n",
    "#filtering for only the variables where there is 1 or more missing observations\n",
    "df_md.columns\n",
    "df_md.loc[df_md.Number > 0]"
   ]
  },
  {
   "cell_type": "markdown",
   "id": "3f478565",
   "metadata": {},
   "source": [
    "For features with more than 80% of observations missing, we will likely drop them from the analysis."
   ]
  },
  {
   "cell_type": "code",
   "execution_count": 22,
   "id": "10886063",
   "metadata": {},
   "outputs": [],
   "source": [
    "# initializing list of features to drop\n",
    "col_to_drop = ['PoolQC', 'MiscFeature', 'Alley', 'Fence']"
   ]
  },
  {
   "cell_type": "code",
   "execution_count": 23,
   "id": "dfca1117",
   "metadata": {},
   "outputs": [
    {
     "name": "stdout",
     "output_type": "stream",
     "text": [
      "PoolQC\n",
      "Gd    3\n",
      "Ex    2\n",
      "Fa    2\n",
      "Name: PoolQC, dtype: int64\n",
      "MiscFeature\n",
      "Shed    49\n",
      "Gar2     2\n",
      "Othr     2\n",
      "TenC     1\n",
      "Name: MiscFeature, dtype: int64\n",
      "Alley\n",
      "Grvl    50\n",
      "Pave    41\n",
      "Name: Alley, dtype: int64\n",
      "Fence\n",
      "MnPrv    157\n",
      "GdPrv     59\n",
      "GdWo      54\n",
      "MnWw      11\n",
      "Name: Fence, dtype: int64\n"
     ]
    }
   ],
   "source": [
    "# Double checking codebook before we drop\n",
    "for feat in col_to_drop:\n",
    "    print(feat)\n",
    "    print(train[feat].value_counts())"
   ]
  },
  {
   "cell_type": "code",
   "execution_count": 25,
   "id": "6b66d3b9",
   "metadata": {},
   "outputs": [],
   "source": [
    "# choosing not to drop Fence, instead impute NA to 0, and make binary variable\n",
    "col_to_drop.remove('Fence')\n",
    "col_to_binary = ['Fence']\n",
    "\n",
    "#imputing 0 for no fence\n",
    "train['Fence'].fillna(0, inplace=True)\n",
    "#replacing all obs with fences with 1\n",
    "train.loc[train.Fence != 0, 'Fence'] = 1\n",
    "\n",
    "#double checking\n",
    "train['Fence'].value_counts()"
   ]
  },
  {
   "cell_type": "code",
   "execution_count": 30,
   "id": "0d982e2c",
   "metadata": {},
   "outputs": [
    {
     "data": {
      "text/plain": [
       "None    690\n",
       "Gd      380\n",
       "TA      313\n",
       "Fa       33\n",
       "Ex       24\n",
       "Po       20\n",
       "Name: FireplaceQu, dtype: int64"
      ]
     },
     "execution_count": 30,
     "metadata": {},
     "output_type": "execute_result"
    }
   ],
   "source": [
    "#Looking at FireplaceQu\n",
    "#data description says NA fireplace means no fireplace\n",
    "train['FireplaceQu'].fillna('None', inplace=True)"
   ]
  },
  {
   "cell_type": "code",
   "execution_count": 40,
   "id": "66e791b3",
   "metadata": {},
   "outputs": [
    {
     "data": {
      "text/plain": [
       "RL    229\n",
       "RM     19\n",
       "FV      8\n",
       "RH      3\n",
       "Name: MSZoning, dtype: int64"
      ]
     },
     "execution_count": 40,
     "metadata": {},
     "output_type": "execute_result"
    }
   ],
   "source": [
    "#Looking at LotFrontage\n",
    "#trying to see if these homes maybe don't have any street\n",
    "#maybe high density aka condos or apartments?\n",
    "train[train['LotFrontage'].isnull()]['MSZoning'].value_counts()\n"
   ]
  },
  {
   "cell_type": "code",
   "execution_count": 41,
   "id": "8f307772",
   "metadata": {
    "scrolled": false
   },
   "outputs": [
    {
     "data": {
      "text/plain": [
       "20     99\n",
       "60     69\n",
       "80     20\n",
       "120    20\n",
       "50     16\n",
       "160     8\n",
       "85      6\n",
       "30      6\n",
       "90      5\n",
       "70      5\n",
       "190     3\n",
       "75      1\n",
       "40      1\n",
       "Name: MSSubClass, dtype: int64"
      ]
     },
     "execution_count": 41,
     "metadata": {},
     "output_type": "execute_result"
    }
   ],
   "source": [
    "#trying again, with type of dwelling\n",
    "train[train['LotFrontage'].isnull()]['MSSubClass'].value_counts()"
   ]
  },
  {
   "cell_type": "code",
   "execution_count": 50,
   "id": "0f11486e",
   "metadata": {},
   "outputs": [
    {
     "data": {
      "text/plain": [
       "Inside     134\n",
       "Corner      62\n",
       "CulDSac     49\n",
       "FR2         14\n",
       "Name: LotConfig, dtype: int64"
      ]
     },
     "execution_count": 50,
     "metadata": {},
     "output_type": "execute_result"
    }
   ],
   "source": [
    "#trying again with lot configuration\n",
    "train[train['LotFrontage'].isnull()]['LotConfig'].value_counts()"
   ]
  },
  {
   "cell_type": "code",
   "execution_count": 51,
   "id": "636f8369",
   "metadata": {},
   "outputs": [
    {
     "data": {
      "text/plain": [
       "Inside     1052\n",
       "Corner      263\n",
       "CulDSac      94\n",
       "FR2          47\n",
       "FR3           4\n",
       "Name: LotConfig, dtype: int64"
      ]
     },
     "execution_count": 51,
     "metadata": {},
     "output_type": "execute_result"
    }
   ],
   "source": [
    "#comparing this with value counts of lot config across dataset\n",
    "train.LotConfig.value_counts()"
   ]
  },
  {
   "cell_type": "code",
   "execution_count": 57,
   "id": "de72255d",
   "metadata": {
    "scrolled": true
   },
   "outputs": [
    {
     "data": {
      "text/plain": [
       "2117     3\n",
       "4426     3\n",
       "7750     3\n",
       "11250    3\n",
       "12342    2\n",
       "        ..\n",
       "13006    1\n",
       "32463    1\n",
       "10448    1\n",
       "12546    1\n",
       "15870    1\n",
       "Name: LotArea, Length: 235, dtype: int64"
      ]
     },
     "execution_count": 57,
     "metadata": {},
     "output_type": "execute_result"
    }
   ],
   "source": [
    "#trying again with lot area\n",
    "train[train['LotFrontage'].isnull()]['LotArea'].value_counts()"
   ]
  },
  {
   "cell_type": "code",
   "execution_count": 62,
   "id": "725b4902",
   "metadata": {},
   "outputs": [
    {
     "data": {
      "text/plain": [
       "count    1201.000000\n",
       "mean       70.049958\n",
       "std        24.284752\n",
       "min        21.000000\n",
       "25%        59.000000\n",
       "50%        69.000000\n",
       "75%        80.000000\n",
       "max       313.000000\n",
       "Name: LotFrontage, dtype: float64"
      ]
     },
     "execution_count": 62,
     "metadata": {},
     "output_type": "execute_result"
    }
   ],
   "source": [
    "train['LotFrontage'].describe()"
   ]
  },
  {
   "cell_type": "code",
   "execution_count": 49,
   "id": "069c56ed",
   "metadata": {},
   "outputs": [
    {
     "data": {
      "text/html": [
       "<div>\n",
       "<style scoped>\n",
       "    .dataframe tbody tr th:only-of-type {\n",
       "        vertical-align: middle;\n",
       "    }\n",
       "\n",
       "    .dataframe tbody tr th {\n",
       "        vertical-align: top;\n",
       "    }\n",
       "\n",
       "    .dataframe thead th {\n",
       "        text-align: right;\n",
       "    }\n",
       "</style>\n",
       "<table border=\"1\" class=\"dataframe\">\n",
       "  <thead>\n",
       "    <tr style=\"text-align: right;\">\n",
       "      <th></th>\n",
       "      <th>Id</th>\n",
       "      <th>MSSubClass</th>\n",
       "      <th>MSZoning</th>\n",
       "      <th>LotFrontage</th>\n",
       "      <th>LotArea</th>\n",
       "      <th>Street</th>\n",
       "      <th>Alley</th>\n",
       "      <th>LotShape</th>\n",
       "      <th>LandContour</th>\n",
       "      <th>Utilities</th>\n",
       "      <th>...</th>\n",
       "      <th>PoolQC</th>\n",
       "      <th>Fence</th>\n",
       "      <th>MiscFeature</th>\n",
       "      <th>MiscVal</th>\n",
       "      <th>MoSold</th>\n",
       "      <th>YrSold</th>\n",
       "      <th>SaleType</th>\n",
       "      <th>SaleCondition</th>\n",
       "      <th>SalePrice</th>\n",
       "      <th>log_SalePrice</th>\n",
       "    </tr>\n",
       "  </thead>\n",
       "  <tbody>\n",
       "  </tbody>\n",
       "</table>\n",
       "<p>0 rows × 82 columns</p>\n",
       "</div>"
      ],
      "text/plain": [
       "Empty DataFrame\n",
       "Columns: [Id, MSSubClass, MSZoning, LotFrontage, LotArea, Street, Alley, LotShape, LandContour, Utilities, LotConfig, LandSlope, Neighborhood, Condition1, Condition2, BldgType, HouseStyle, OverallQual, OverallCond, YearBuilt, YearRemodAdd, RoofStyle, RoofMatl, Exterior1st, Exterior2nd, MasVnrType, MasVnrArea, ExterQual, ExterCond, Foundation, BsmtQual, BsmtCond, BsmtExposure, BsmtFinType1, BsmtFinSF1, BsmtFinType2, BsmtFinSF2, BsmtUnfSF, TotalBsmtSF, Heating, HeatingQC, CentralAir, Electrical, 1stFlrSF, 2ndFlrSF, LowQualFinSF, GrLivArea, BsmtFullBath, BsmtHalfBath, FullBath, HalfBath, BedroomAbvGr, KitchenAbvGr, KitchenQual, TotRmsAbvGrd, Functional, Fireplaces, FireplaceQu, GarageType, GarageYrBlt, GarageFinish, GarageCars, GarageArea, GarageQual, GarageCond, PavedDrive, WoodDeckSF, OpenPorchSF, EnclosedPorch, 3SsnPorch, ScreenPorch, PoolArea, PoolQC, Fence, MiscFeature, MiscVal, MoSold, YrSold, SaleType, SaleCondition, SalePrice, log_SalePrice]\n",
       "Index: []\n",
       "\n",
       "[0 rows x 82 columns]"
      ]
     },
     "execution_count": 49,
     "metadata": {},
     "output_type": "execute_result"
    }
   ],
   "source": [
    "train.loc[train['MSSubClass'] == 20]"
   ]
  },
  {
   "cell_type": "code",
   "execution_count": null,
   "id": "c92daefb",
   "metadata": {},
   "outputs": [],
   "source": [
    "train.loc[train.Fence != 0, 'Fence'] = 1"
   ]
  },
  {
   "cell_type": "code",
   "execution_count": null,
   "id": "818ba9ac",
   "metadata": {},
   "outputs": [],
   "source": [
    "train['Fence'].replace('GdPrv', 1, inplace = True)"
   ]
  },
  {
   "cell_type": "code",
   "execution_count": null,
   "id": "336d65c5",
   "metadata": {},
   "outputs": [],
   "source": [
    "# Looking into Fireplace Quality"
   ]
  },
  {
   "cell_type": "markdown",
   "id": "f4b4af4a",
   "metadata": {},
   "source": [
    "<p><a name=\"SP\"></a></p>\n",
    "\n",
    "\n",
    "## Second Pass Looking at Independent Variables\n",
    "It seems like the independent variables in this dataset fall broadly into these 'buckets':\n",
    "- Land and Exterior - neighborhood, lot and land characteristics\n",
    "- House Quality, Construction and Utilities- year built, types of materials used and quality\n",
    "- Indoor Areas\n",
    "- Basement\n",
    "- Semi-Indoor Areas - Garage, Porches, Pool, Fence\n",
    "- Sale Information - month, year, type of sale etc\n",
    "\n",
    "Since the patterns of missing data also seem to fall into 'buckets', in our in-depth pass, we will look at variables by these buckets."
   ]
  },
  {
   "cell_type": "code",
   "execution_count": null,
   "id": "85db59b6",
   "metadata": {},
   "outputs": [],
   "source": [
    "#Initializing two lists - for columns to drop and rows to drop\n",
    "row_drop = []\n",
    "col_drop = []"
   ]
  },
  {
   "cell_type": "code",
   "execution_count": null,
   "id": "73d5a2a3",
   "metadata": {},
   "outputs": [],
   "source": [
    "#Bucketing variables into lists\n",
    "Location = ['MSSubClass','MSZoning', 'MSZoning','LotFrontage', 'LotArea', 'Street', 'Alley', 'LotShape', 'LandContour', 'LotConfig', 'LandSlope', 'Neighborhood', 'Condition1', 'Condition2']\n",
    "HouseQual = ['BldgType', 'HouseStyle', 'OverallQual', 'OverallCond', 'YearBuilt','YearRemodAdd', 'RoofStyle','RoofMatl', 'Exterior1st', 'Exterior2nd', 'MasVnrType', 'MasVnrArea', 'ExterQual', 'ExterCond', 'Foundation', 'Utilities', 'Heating', 'HeatingQC', 'CentralAir', 'Electrical']\n",
    "Basement = ['BsmtQual','BsmtCond','BsmtExposure', 'BsmtFinType1','BsmtFinSF1', 'BsmtFinType2', 'BsmtFinSF2', 'BsmtUnfSF', 'TotalBsmtSF']\n",
    "IndoorA = ['1stFlrSF', '2ndFlrSF', 'LowQualFinSF', 'GrLivArea', 'BsmtFullBath', 'BsmtHalfBath', 'FullBath', 'HalfBath', 'BedroomAbvGr', 'KitchenAbvGr', 'KitchenQual', 'TotRmsAbvGrd', 'Functional', 'Fireplaces', 'FireplaceQu']\n",
    "GaragePlus = ['GarageType', 'GarageYrBlt', 'GarageFinish', 'GarageCars', 'GarageArea', 'GarageQual', 'GarageCond','PavedDrive','WoodDeckSF', 'OpenPorchSF', 'EnclosedPorch', '3SsnPorch', 'ScreenPorch', 'PoolArea', 'PoolQC', 'Fence', 'MiscFeature', 'MiscVal', 'log_SalePrice']\n",
    "SaleInfo = ['MoSold','YrSold','SaleType', 'SaleCondition', 'log_SalePrice']"
   ]
  },
  {
   "cell_type": "code",
   "execution_count": null,
   "id": "ca38fe45",
   "metadata": {},
   "outputs": [],
   "source": [
    "#initializing an iterator to help bucket variables\n",
    "#call_var = iter(all_var)\n",
    "#next(call_var)"
   ]
  },
  {
   "cell_type": "code",
   "execution_count": null,
   "id": "7a752f88",
   "metadata": {},
   "outputs": [],
   "source": [
    "#Sanity Check to make sure I got all the variables, minus our dependent variable - looking for 80\n",
    "bucketlist = [Location, HouseQual, Basement, IndoorA, GaragePlus, SaleInfo]\n",
    "temp_ = 0\n",
    "for L in bucketlist:\n",
    "    temp_ += len(L)\n",
    "temp_"
   ]
  },
  {
   "cell_type": "markdown",
   "id": "346298f4",
   "metadata": {},
   "source": [
    "# Garage"
   ]
  },
  {
   "cell_type": "code",
   "execution_count": null,
   "id": "31170659",
   "metadata": {},
   "outputs": [],
   "source": [
    "df_g = train[Garage]\n",
    "print(df_g.columns)\n",
    "\n",
    "#Missing Values\n",
    "df_g.isna().sum()"
   ]
  },
  {
   "cell_type": "markdown",
   "id": "b080faa3",
   "metadata": {},
   "source": [
    "From Data Description -> Na is No Garage, so we will impute "
   ]
  },
  {
   "cell_type": "markdown",
   "id": "765dc987",
   "metadata": {},
   "source": [
    "## PorchPlus\n"
   ]
  },
  {
   "cell_type": "code",
   "execution_count": null,
   "id": "3df263ce",
   "metadata": {},
   "outputs": [],
   "source": [
    "df_pp = train[PorchPlus]\n",
    "df_pp.columns"
   ]
  },
  {
   "cell_type": "code",
   "execution_count": null,
   "id": "ca145747",
   "metadata": {},
   "outputs": [],
   "source": [
    "#Missing Values\n",
    "df_sale.isna().sum()"
   ]
  },
  {
   "cell_type": "code",
   "execution_count": null,
   "id": "75ea8036",
   "metadata": {
    "scrolled": true
   },
   "outputs": [],
   "source": [
    "#correlation matrix\n",
    "corrmat = df_pp.corr()\n",
    "f, ax = plt.subplots(figsize=(6, 8))\n",
    "\n",
    "k = 10 #number of variables for heatmap\n",
    "cols = corrmat.nlargest(k, 'log_SalePrice')['log_SalePrice'].index\n",
    "cm = np.corrcoef(train[cols].values.T)\n",
    "sns.set(font_scale=1.25)\n",
    "hm = sns.heatmap(cm, cbar=True, annot=True, square=True, fmt='.2f', annot_kws={'size': 10}, yticklabels=cols.values, xticklabels=cols.values)\n",
    "plt.show()"
   ]
  },
  {
   "cell_type": "code",
   "execution_count": null,
   "id": "2a60579c",
   "metadata": {},
   "outputs": [],
   "source": []
  },
  {
   "cell_type": "markdown",
   "id": "5729980a",
   "metadata": {},
   "source": [
    "## Sale Info"
   ]
  },
  {
   "cell_type": "code",
   "execution_count": null,
   "id": "ca7f7dd3",
   "metadata": {},
   "outputs": [],
   "source": [
    "df_sale = train[SaleInfo]"
   ]
  },
  {
   "cell_type": "code",
   "execution_count": null,
   "id": "e8493bb0",
   "metadata": {},
   "outputs": [],
   "source": [
    "df_sale.head()"
   ]
  },
  {
   "cell_type": "code",
   "execution_count": null,
   "id": "a7f22d73",
   "metadata": {},
   "outputs": [],
   "source": [
    "#Missing Values\n",
    "df_sale.isna().sum()"
   ]
  },
  {
   "cell_type": "code",
   "execution_count": null,
   "id": "30e16ea7",
   "metadata": {},
   "outputs": [],
   "source": [
    "#correlation matrix\n",
    "corrmat = df_sale.corr()\n",
    "f, ax = plt.subplots(figsize=(12, 9))\n",
    "sns.heatmap(corrmat, vmax=.8, square=True);"
   ]
  },
  {
   "cell_type": "code",
   "execution_count": null,
   "id": "3a15215e",
   "metadata": {},
   "outputs": [],
   "source": [
    "#saleprice correlation matrix\n",
    "k = 10 #number of variables for heatmap\n",
    "cols = corrmat.nlargest(k, 'SalePrice')['SalePrice'].index\n",
    "cm = np.corrcoef(train[cols].values.T)\n",
    "sns.set(font_scale=1.25)\n",
    "hm = sns.heatmap(cm, cbar=True, annot=True, square=True, fmt='.2f', annot_kws={'size': 10}, yticklabels=cols.values, xticklabels=cols.values)\n",
    "plt.show()"
   ]
  },
  {
   "cell_type": "code",
   "execution_count": null,
   "id": "71b0d552",
   "metadata": {},
   "outputs": [],
   "source": []
  },
  {
   "cell_type": "code",
   "execution_count": null,
   "id": "b4f3d44d",
   "metadata": {},
   "outputs": [],
   "source": []
  },
  {
   "cell_type": "code",
   "execution_count": null,
   "id": "80d34910",
   "metadata": {
    "scrolled": true
   },
   "outputs": [],
   "source": [
    "## Looking into number of missing values\n",
    "total = train.isnull().sum().sort_values(ascending=False)\n",
    "percent = (train.isnull().sum()/train.isnull().count()).sort_values(ascending=False)\n",
    "missing_data = pd.concat([total, percent], axis=1, keys=['Number Missing', 'Percent Missing'])\n",
    "missing_data.head(29)"
   ]
  },
  {
   "cell_type": "code",
   "execution_count": null,
   "id": "8f1be4f4",
   "metadata": {},
   "outputs": [],
   "source": [
    "train['PoolQC'].isnull().sum()"
   ]
  },
  {
   "cell_type": "markdown",
   "id": "ba0c15e3",
   "metadata": {},
   "source": [
    "### Summary of Data Cleaning\n",
    "\n",
    "#### Data Imputation\n",
    "PoolQC --> 1453 NA imputed to 0 for no pool"
   ]
  },
  {
   "cell_type": "markdown",
   "id": "d4d2252c",
   "metadata": {},
   "source": [
    "#### Handling Outliers and Anomalies"
   ]
  },
  {
   "cell_type": "markdown",
   "id": "b536828d",
   "metadata": {},
   "source": [
    "#### Categorical Features - box plot, bar plot, ANOVA"
   ]
  },
  {
   "cell_type": "markdown",
   "id": "0d7a550f",
   "metadata": {},
   "source": [
    "#### Quantitative Features - correlation matrix, histogram"
   ]
  },
  {
   "cell_type": "markdown",
   "id": "1d0ccdbc",
   "metadata": {},
   "source": [
    "### Summary of obs dropped, and vars flagged for feature engineering\n",
    "- 4 observations dropped - outliers in gr liv area\n",
    "\n",
    "#### Variables flagged for feature engineering"
   ]
  },
  {
   "cell_type": "markdown",
   "id": "93dc3959",
   "metadata": {},
   "source": [
    "#### Looking into Multicollinearity"
   ]
  },
  {
   "cell_type": "code",
   "execution_count": null,
   "id": "1ea5a709",
   "metadata": {
    "scrolled": false
   },
   "outputs": [],
   "source": [
    "#correlation matrix\n",
    "corrmat = train.corr()\n",
    "f, ax = plt.subplots(figsize=(12, 9))\n",
    "sns.heatmap(corrmat, vmax=.8, square=True);"
   ]
  },
  {
   "cell_type": "code",
   "execution_count": null,
   "id": "3584f245",
   "metadata": {},
   "outputs": [],
   "source": [
    "#saleprice correlation matrix\n",
    "k = 10 #number of variables for heatmap\n",
    "cols = corrmat.nlargest(k, 'SalePrice')['SalePrice'].index\n",
    "cm = np.corrcoef(train[cols].values.T)\n",
    "sns.set(font_scale=1.25)\n",
    "hm = sns.heatmap(cm, cbar=True, annot=True, square=True, fmt='.2f', annot_kws={'size': 10}, yticklabels=cols.values, xticklabels=cols.values)\n",
    "plt.show()"
   ]
  },
  {
   "cell_type": "markdown",
   "id": "bc06abd8",
   "metadata": {},
   "source": [
    "<p><a name=\"FEN\"></a></p>\n",
    "\n",
    "## Feature Engineering"
   ]
  },
  {
   "cell_type": "markdown",
   "id": "2bb284fe",
   "metadata": {},
   "source": [
    "### Feature Engineering\n",
    "\n",
    "Previously modified features:-\n",
    "\n",
    "Sale Price -> Log of Sale Price"
   ]
  },
  {
   "cell_type": "markdown",
   "id": "8d3b66a8",
   "metadata": {},
   "source": [
    "#### Land and Exterior"
   ]
  },
  {
   "cell_type": "markdown",
   "id": "bd558944",
   "metadata": {},
   "source": [
    "#### House Quality"
   ]
  },
  {
   "cell_type": "markdown",
   "id": "6f41bad7",
   "metadata": {},
   "source": [
    "#### Location"
   ]
  },
  {
   "cell_type": "markdown",
   "id": "9e3bb6f8",
   "metadata": {},
   "source": [
    "#### Garage"
   ]
  },
  {
   "cell_type": "markdown",
   "id": "1a895e31",
   "metadata": {},
   "source": [
    "#### Basement"
   ]
  },
  {
   "cell_type": "markdown",
   "id": "ae4a3606",
   "metadata": {},
   "source": [
    "#### Sale Info"
   ]
  },
  {
   "cell_type": "markdown",
   "id": "9db3ffbb",
   "metadata": {},
   "source": [
    "### Dropped Features"
   ]
  },
  {
   "cell_type": "markdown",
   "id": "4dd2db30",
   "metadata": {},
   "source": [
    "#### Columns with no meaningful difference between categories"
   ]
  },
  {
   "cell_type": "markdown",
   "id": "0a7bf403",
   "metadata": {},
   "source": [
    "#### Low correlation"
   ]
  },
  {
   "cell_type": "markdown",
   "id": "7732d993",
   "metadata": {},
   "source": [
    "#### Multicollinearity"
   ]
  },
  {
   "cell_type": "markdown",
   "id": "95520e05",
   "metadata": {},
   "source": [
    "#### Administrative Columns"
   ]
  },
  {
   "cell_type": "markdown",
   "id": "764ca652",
   "metadata": {},
   "source": [
    "<p><a name=\"PRE\"></a></p>\n",
    "\n",
    "## Preprocessing Data for Models"
   ]
  },
  {
   "cell_type": "code",
   "execution_count": null,
   "id": "45b66b43",
   "metadata": {},
   "outputs": [],
   "source": []
  },
  {
   "cell_type": "markdown",
   "id": "fe8cefc7",
   "metadata": {},
   "source": [
    "### Linear Models\n",
    "#### Dummification of Categorical Variables"
   ]
  },
  {
   "cell_type": "markdown",
   "id": "54157ae6",
   "metadata": {},
   "source": [
    "#### Testing Assumptions for Linear Models"
   ]
  },
  {
   "cell_type": "markdown",
   "id": "639d1b73",
   "metadata": {},
   "source": [
    "### Non Linear Models\n",
    "#### Label Encoding of Categorical Variables"
   ]
  },
  {
   "cell_type": "markdown",
   "id": "d541314e",
   "metadata": {},
   "source": [
    "### All Models\n",
    "#### Standardization of numerical variables\n",
    "#### Split train and validate datasets"
   ]
  },
  {
   "cell_type": "markdown",
   "id": "db61d802",
   "metadata": {},
   "source": [
    "<p><a name=\"EXP\"></a></p>\n",
    "\n",
    "## Exporting Cleaned Datasets"
   ]
  },
  {
   "cell_type": "code",
   "execution_count": null,
   "id": "4af314e1",
   "metadata": {},
   "outputs": [],
   "source": [
    "train.to_csv('./data/cleaned/train_c.csv')"
   ]
  },
  {
   "cell_type": "markdown",
   "id": "cc937f0b",
   "metadata": {},
   "source": [
    "# LE TESTING AREA! DO NOT ENTER"
   ]
  },
  {
   "cell_type": "code",
   "execution_count": null,
   "id": "5ff6bc60",
   "metadata": {},
   "outputs": [],
   "source": [
    "total = train.isnull().sum().sort_values(ascending=False)\n",
    "percent = (train.isnull().sum()/train.isnull().count()).sort_values(ascending=False)\n",
    "missing_data = pd.concat([total, percent], axis=1, keys=['Total', 'Percent Missing'])\n",
    "missing_data.head(25)"
   ]
  },
  {
   "cell_type": "code",
   "execution_count": null,
   "id": "c689b329",
   "metadata": {
    "scrolled": true
   },
   "outputs": [],
   "source": [
    "train.isnull().sum().sort_values(ascending=False)"
   ]
  },
  {
   "cell_type": "code",
   "execution_count": null,
   "id": "977aa3d3",
   "metadata": {},
   "outputs": [],
   "source": [
    "print(covariance)"
   ]
  },
  {
   "cell_type": "code",
   "execution_count": null,
   "id": "de79e9c1",
   "metadata": {},
   "outputs": [],
   "source": [
    "from scipy.stats import pearsonr\n",
    "corr = pearsonr(train['LotArea'],train['SalePrice'])"
   ]
  },
  {
   "cell_type": "code",
   "execution_count": null,
   "id": "8a8acd1b",
   "metadata": {},
   "outputs": [],
   "source": [
    "print('Pearsons correlation:', corr[0])"
   ]
  },
  {
   "cell_type": "code",
   "execution_count": null,
   "id": "936059db",
   "metadata": {},
   "outputs": [],
   "source": [
    "round(corr[0],3)"
   ]
  },
  {
   "cell_type": "code",
   "execution_count": null,
   "id": "a6380573",
   "metadata": {},
   "outputs": [],
   "source": [
    "round(corr[1],5)"
   ]
  }
 ],
 "metadata": {
  "kernelspec": {
   "display_name": "Python 3",
   "language": "python",
   "name": "python3"
  },
  "language_info": {
   "codemirror_mode": {
    "name": "ipython",
    "version": 3
   },
   "file_extension": ".py",
   "mimetype": "text/x-python",
   "name": "python",
   "nbconvert_exporter": "python",
   "pygments_lexer": "ipython3",
   "version": "3.8.8"
  }
 },
 "nbformat": 4,
 "nbformat_minor": 5
}
