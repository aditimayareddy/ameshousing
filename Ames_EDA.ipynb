{
 "cells": [
  {
   "cell_type": "markdown",
   "id": "9a472aab",
   "metadata": {},
   "source": [
    "# Ames Housing Data EDA"
   ]
  },
  {
   "cell_type": "markdown",
   "id": "a53e3faf",
   "metadata": {},
   "source": [
    "This project aims to predict housing prices in Ames, Iowa based on the famous Ames Iowa Housing Dataset from the Ames City Assessor's Office, made available by Dean De Cock of Truman University in 2011. Professor De Cock's original paper can be found [here.](http://jse.amstat.org/v19n3/decock.pdf)\n",
    "\n",
    "Presentation Slides for this project can be found [here.](https://www.beautiful.ai/player/-N4J5UYshyuRtwl5G4I7)\n",
    "\n",
    "This notebook includes python code for data extraction, cleaning and transformation. Model Fitting and Analysis code can be found in the Ames_Models notebook.\n",
    "\n",
    "# Sections and steps\n",
    "\n",
    "- <a href=\"#IMP\">Reading in Data</a><br>\n",
    "    - Import Packages needed\n",
    "    - Import helper module\n",
    "    - Read in training data\n",
    "    - Read in test data\n",
    "- <a href=\"#EDA\">Exploratory Data Analysis</a><br>\n",
    "    - Dependent Variable Analysis\n",
    "    - Independent Variable Analysis\n",
    "        - Missing Values\n",
    "        - Handling Outliers and Anomalies\n",
    "        - Categorical Features\n",
    "            - box plot, bar plot to see distributions\n",
    "            - ANOVA tests for select features\n",
    "            - Flag for feature engineering\n",
    "        - Quantitative Features\n",
    "            - correlation matrix, and histogram\n",
    "- <a href=\"#FEN\">Feature Engineering</a><br>\n",
    "    - Dropped Features\n",
    "        - columns with no meaningful difference between categories\n",
    "        - low correlation\n",
    "        - Multicollinearity\n",
    "    - Feature Engineering\n",
    "        - Land and Exterior\n",
    "        - House Quality\n",
    "        - Location\n",
    "        - Garage\n",
    "        - Basement\n",
    "        - Sale Info\n",
    "- <a href=\"#PRE\">Preparing Data for Models</a><br>\n",
    "    - Linear Models\n",
    "        -dummify categorical variables\n",
    "    - Non Linear Models\n",
    "        -label encode categorical variables\n",
    "    - All Models\n",
    "        -split train and validate datasets\n",
    "        -standardize the numerical variables\n",
    "- <a href=\"#EXP\">Exporting Cleaned Datasets</a><br>"
   ]
  },
  {
   "cell_type": "markdown",
   "id": "3577f32b",
   "metadata": {},
   "source": [
    "<p><a name=\"IMP\"></a></p>\n",
    "\n",
    "## Importing Packages, Reading in Data"
   ]
  },
  {
   "cell_type": "code",
   "execution_count": 67,
   "id": "9dba07e1",
   "metadata": {},
   "outputs": [],
   "source": [
    "import pandas as pd\n",
    "import numpy as np\n",
    "import numpy.ma as ma\n",
    "import matplotlib.pyplot as plt\n",
    "import seaborn as sns\n",
    "import scipy.stats as stats\n",
    "from scipy.stats import pearsonr\n",
    "from sklearn.preprocessing import StandardScaler\n",
    "import statsmodels.api as sm\n",
    "from statsmodels.formula.api import ols\n",
    "%matplotlib inline\n",
    "plt.style.use('ggplot')\n",
    "plt.rcParams.update({'font.size': 12})"
   ]
  },
  {
   "cell_type": "markdown",
   "id": "1eb53c97",
   "metadata": {},
   "source": [
    "### Importing helper module"
   ]
  },
  {
   "cell_type": "code",
   "execution_count": 54,
   "id": "05723e4b",
   "metadata": {},
   "outputs": [],
   "source": [
    "#importing helper functions from helper module\n",
    "from helper_module import *"
   ]
  },
  {
   "cell_type": "markdown",
   "id": "3e42da00",
   "metadata": {},
   "source": [
    "### Reading in train data"
   ]
  },
  {
   "cell_type": "code",
   "execution_count": 43,
   "id": "ce83e096",
   "metadata": {},
   "outputs": [
    {
     "name": "stdout",
     "output_type": "stream",
     "text": [
      "Read in Ames Housing Train Data - Shape: (1460, 81)\n"
     ]
    }
   ],
   "source": [
    "train = pd.read_csv('./data/raw/train.csv')\n",
    "train.head()\n",
    "#train.drop(['Unnamed: 0'], axis=1, inplace=True)\n",
    "print(f\"Read in Ames Housing Train Data - Shape: {train.shape}\")"
   ]
  },
  {
   "cell_type": "markdown",
   "id": "83b492a5",
   "metadata": {},
   "source": [
    "### Reading in test data"
   ]
  },
  {
   "cell_type": "code",
   "execution_count": 44,
   "id": "ffde3bf3",
   "metadata": {},
   "outputs": [
    {
     "name": "stdout",
     "output_type": "stream",
     "text": [
      "Read in Ames Housing Test Data - Shape: (1459, 80)\n"
     ]
    }
   ],
   "source": [
    "test = pd.read_csv('./data/raw/test.csv')\n",
    "test.head()\n",
    "#test.drop(['Unnamed: 0'], axis=1, inplace=True)\n",
    "print(f\"Read in Ames Housing Test Data - Shape: {test.shape}\")"
   ]
  },
  {
   "cell_type": "markdown",
   "id": "7fa19222",
   "metadata": {},
   "source": [
    "<p><a name=\"EDA\"></a></p>\n",
    "\n",
    "## Exploratory Data Analysis"
   ]
  },
  {
   "cell_type": "markdown",
   "id": "579ed8c4",
   "metadata": {},
   "source": [
    "### Train Dataset Overview"
   ]
  },
  {
   "cell_type": "code",
   "execution_count": 45,
   "id": "960062ff",
   "metadata": {
    "scrolled": true
   },
   "outputs": [
    {
     "name": "stdout",
     "output_type": "stream",
     "text": [
      "The raw number of features is  81\n",
      "The raw number of observations is  1460\n",
      "The datattypes are: [dtype('int64') dtype('O') dtype('float64')]\n"
     ]
    }
   ],
   "source": [
    "print('The raw number of features is ', train.shape[1])\n",
    "print('The raw number of observations is ', train.shape[0])\n",
    "print('The datattypes are:', train.dtypes.unique())"
   ]
  },
  {
   "cell_type": "markdown",
   "id": "43b000b6",
   "metadata": {},
   "source": [
    "Looking at the data description, there are several ordinal variables that are coded as numeric. These variables correspond to the following column names:\n",
    "- MSSubClass\n",
    "- OverallQual\n",
    "- OverallCond\n",
    "- MoSold\n",
    "- YrSold\n",
    "\n",
    "Let's make sure these are coded as categorical."
   ]
  },
  {
   "cell_type": "code",
   "execution_count": 46,
   "id": "0180a239",
   "metadata": {
    "scrolled": true
   },
   "outputs": [
    {
     "name": "stdout",
     "output_type": "stream",
     "text": [
      "int64\n",
      "int64\n",
      "int64\n",
      "int64\n",
      "int64\n"
     ]
    }
   ],
   "source": [
    "#checking to see how these variables are coded\n",
    "L = ['MSSubClass', 'OverallQual', 'OverallCond', 'MoSold', 'YrSold']\n",
    "for item in L:\n",
    "    print(train[item].dtype)"
   ]
  },
  {
   "cell_type": "code",
   "execution_count": 47,
   "id": "509097d7",
   "metadata": {},
   "outputs": [],
   "source": [
    "#changing the dtype of these variables to strings\n",
    "for item in L:\n",
    "    train[item] = train[item].astype(str)"
   ]
  },
  {
   "cell_type": "code",
   "execution_count": 72,
   "id": "ecbe0c22",
   "metadata": {
    "scrolled": true
   },
   "outputs": [
    {
     "name": "stdout",
     "output_type": "stream",
     "text": [
      "The number of categorical features is 48\n",
      "The number of numerical features is 33\n",
      "The combined numerical and categorical features are 81\n",
      "Number of Variables left to examine :  81\n"
     ]
    }
   ],
   "source": [
    "#selecting just categorical variables in the dataframe and creating a list\n",
    "cat_var = train.select_dtypes('O').columns.tolist()\n",
    "\n",
    "#selecting just continuous variables in the dataframe and creating a list\n",
    "num_var = train.select_dtypes('number').columns.tolist()\n",
    "num_var.remove('Id')\n",
    "\n",
    "#creating a list of all variables as an EDA checklist\n",
    "all_var = train.columns.tolist()\n",
    "all_var.remove('Id')\n",
    "\n",
    "print('The number of categorical features is' , len(cat_var))\n",
    "print('The number of numerical features is', len(num_var))\n",
    "\n",
    "#Sanity check here\n",
    "print('The combined numerical and categorical features are', len(cat_var) + len(num_var))\n",
    "print('Number of Variables left to examine : ', len(all_var))"
   ]
  },
  {
   "cell_type": "code",
   "execution_count": 65,
   "id": "b25bfa38",
   "metadata": {},
   "outputs": [],
   "source": [
    "# Naming iterators to quickly examine categorical and numerical variables sequentially\n",
    "view_cat = look_cat(cat_var)\n",
    "view_num = look_num(num_var)"
   ]
  },
  {
   "cell_type": "code",
   "execution_count": 68,
   "id": "4fa78d91",
   "metadata": {},
   "outputs": [],
   "source": [
    "def look_num(varlist):\n",
    "    for var in varlist:\n",
    "        \n",
    "        #info about missingness\n",
    "        num_miss = train[var].isnull().sum()\n",
    "        pct_miss = round(num_miss/train.shape[0]*100, 2)\n",
    "        print(var + ' has ' + str(num_miss) + ' missing observations, equal to ' + str(pct_miss) + '%')\n",
    "        \n",
    "        #info about pearson's correlation\n",
    "        corr = pearsonr(train[var], train['log_SalePrice'])\n",
    "        print('Pearsons correlation (r):', round(corr[0],3))\n",
    "        print('P-value:', round(corr[1],3))\n",
    "        \n",
    "        #Figures\n",
    "        sns.set_theme(style=\"whitegrid\")\n",
    "\n",
    "        #seaborn Histogram\n",
    "        f, ax = plt.subplots(figsize = (6,4))\n",
    "        fig1 = sns.histplot(x=var,\n",
    "                      data=train)\n",
    "        fig1.set(xlabel = var, ylabel = 'Count')\n",
    "        \n",
    "        #seaborn Scatterplot\n",
    "        f, ax = plt.subplots(figsize = (6,4))\n",
    "        fig = sns.scatterplot(x=var,\n",
    "                          y = 'log_SalePrice',\n",
    "                          data=train);\n",
    "        plt.xticks(rotation=45)\n",
    "        fig.set(xlabel=var, ylabel='Log of Sale Price')\n",
    "        \n",
    "        yield fig"
   ]
  },
  {
   "cell_type": "code",
   "execution_count": 66,
   "id": "a4c397db",
   "metadata": {},
   "outputs": [
    {
     "name": "stdout",
     "output_type": "stream",
     "text": [
      "LotFrontage has 259 missing observations, equal to 17.74%\n"
     ]
    },
    {
     "ename": "ValueError",
     "evalue": "array must not contain infs or NaNs",
     "output_type": "error",
     "traceback": [
      "\u001b[1;31m---------------------------------------------------------------------------\u001b[0m",
      "\u001b[1;31mValueError\u001b[0m                                Traceback (most recent call last)",
      "\u001b[1;32m<ipython-input-66-297770fc1411>\u001b[0m in \u001b[0;36m<module>\u001b[1;34m\u001b[0m\n\u001b[1;32m----> 1\u001b[1;33m \u001b[0mnext\u001b[0m\u001b[1;33m(\u001b[0m\u001b[0mview_num\u001b[0m\u001b[1;33m)\u001b[0m\u001b[1;33m\u001b[0m\u001b[1;33m\u001b[0m\u001b[0m\n\u001b[0m",
      "\u001b[1;32m<ipython-input-64-9b424cb4cf9d>\u001b[0m in \u001b[0;36mlook_num\u001b[1;34m(varlist)\u001b[0m\n\u001b[0;32m      8\u001b[0m \u001b[1;33m\u001b[0m\u001b[0m\n\u001b[0;32m      9\u001b[0m         \u001b[1;31m#info about pearson's correlation\u001b[0m\u001b[1;33m\u001b[0m\u001b[1;33m\u001b[0m\u001b[1;33m\u001b[0m\u001b[0m\n\u001b[1;32m---> 10\u001b[1;33m         \u001b[0mcorr\u001b[0m \u001b[1;33m=\u001b[0m \u001b[0mpearsonr\u001b[0m\u001b[1;33m(\u001b[0m\u001b[0mtrain\u001b[0m\u001b[1;33m[\u001b[0m\u001b[0mvar\u001b[0m\u001b[1;33m]\u001b[0m\u001b[1;33m,\u001b[0m \u001b[0mtrain\u001b[0m\u001b[1;33m[\u001b[0m\u001b[1;34m'log_SalePrice'\u001b[0m\u001b[1;33m]\u001b[0m\u001b[1;33m)\u001b[0m\u001b[1;33m\u001b[0m\u001b[1;33m\u001b[0m\u001b[0m\n\u001b[0m\u001b[0;32m     11\u001b[0m         \u001b[0mprint\u001b[0m\u001b[1;33m(\u001b[0m\u001b[1;34m'Pearsons correlation (r):'\u001b[0m\u001b[1;33m,\u001b[0m \u001b[0mround\u001b[0m\u001b[1;33m(\u001b[0m\u001b[0mcorr\u001b[0m\u001b[1;33m[\u001b[0m\u001b[1;36m0\u001b[0m\u001b[1;33m]\u001b[0m\u001b[1;33m,\u001b[0m\u001b[1;36m3\u001b[0m\u001b[1;33m)\u001b[0m\u001b[1;33m)\u001b[0m\u001b[1;33m\u001b[0m\u001b[1;33m\u001b[0m\u001b[0m\n\u001b[0;32m     12\u001b[0m         \u001b[0mprint\u001b[0m\u001b[1;33m(\u001b[0m\u001b[1;34m'P-value:'\u001b[0m\u001b[1;33m,\u001b[0m \u001b[0mround\u001b[0m\u001b[1;33m(\u001b[0m\u001b[0mcorr\u001b[0m\u001b[1;33m[\u001b[0m\u001b[1;36m1\u001b[0m\u001b[1;33m]\u001b[0m\u001b[1;33m,\u001b[0m\u001b[1;36m3\u001b[0m\u001b[1;33m)\u001b[0m\u001b[1;33m)\u001b[0m\u001b[1;33m\u001b[0m\u001b[1;33m\u001b[0m\u001b[0m\n",
      "\u001b[1;32m~\\anaconda3\\lib\\site-packages\\scipy\\stats\\stats.py\u001b[0m in \u001b[0;36mpearsonr\u001b[1;34m(x, y)\u001b[0m\n\u001b[0;32m   3933\u001b[0m     \u001b[1;31m# scipy.linalg.norm(xm) does not overflow if xm is, for example,\u001b[0m\u001b[1;33m\u001b[0m\u001b[1;33m\u001b[0m\u001b[1;33m\u001b[0m\u001b[0m\n\u001b[0;32m   3934\u001b[0m     \u001b[1;31m# [-5e210, 5e210, 3e200, -3e200]\u001b[0m\u001b[1;33m\u001b[0m\u001b[1;33m\u001b[0m\u001b[1;33m\u001b[0m\u001b[0m\n\u001b[1;32m-> 3935\u001b[1;33m     \u001b[0mnormxm\u001b[0m \u001b[1;33m=\u001b[0m \u001b[0mlinalg\u001b[0m\u001b[1;33m.\u001b[0m\u001b[0mnorm\u001b[0m\u001b[1;33m(\u001b[0m\u001b[0mxm\u001b[0m\u001b[1;33m)\u001b[0m\u001b[1;33m\u001b[0m\u001b[1;33m\u001b[0m\u001b[0m\n\u001b[0m\u001b[0;32m   3936\u001b[0m     \u001b[0mnormym\u001b[0m \u001b[1;33m=\u001b[0m \u001b[0mlinalg\u001b[0m\u001b[1;33m.\u001b[0m\u001b[0mnorm\u001b[0m\u001b[1;33m(\u001b[0m\u001b[0mym\u001b[0m\u001b[1;33m)\u001b[0m\u001b[1;33m\u001b[0m\u001b[1;33m\u001b[0m\u001b[0m\n\u001b[0;32m   3937\u001b[0m \u001b[1;33m\u001b[0m\u001b[0m\n",
      "\u001b[1;32m~\\anaconda3\\lib\\site-packages\\scipy\\linalg\\misc.py\u001b[0m in \u001b[0;36mnorm\u001b[1;34m(a, ord, axis, keepdims, check_finite)\u001b[0m\n\u001b[0;32m    138\u001b[0m     \u001b[1;31m# Differs from numpy only in non-finite handling and the use of blas.\u001b[0m\u001b[1;33m\u001b[0m\u001b[1;33m\u001b[0m\u001b[1;33m\u001b[0m\u001b[0m\n\u001b[0;32m    139\u001b[0m     \u001b[1;32mif\u001b[0m \u001b[0mcheck_finite\u001b[0m\u001b[1;33m:\u001b[0m\u001b[1;33m\u001b[0m\u001b[1;33m\u001b[0m\u001b[0m\n\u001b[1;32m--> 140\u001b[1;33m         \u001b[0ma\u001b[0m \u001b[1;33m=\u001b[0m \u001b[0mnp\u001b[0m\u001b[1;33m.\u001b[0m\u001b[0masarray_chkfinite\u001b[0m\u001b[1;33m(\u001b[0m\u001b[0ma\u001b[0m\u001b[1;33m)\u001b[0m\u001b[1;33m\u001b[0m\u001b[1;33m\u001b[0m\u001b[0m\n\u001b[0m\u001b[0;32m    141\u001b[0m     \u001b[1;32melse\u001b[0m\u001b[1;33m:\u001b[0m\u001b[1;33m\u001b[0m\u001b[1;33m\u001b[0m\u001b[0m\n\u001b[0;32m    142\u001b[0m         \u001b[0ma\u001b[0m \u001b[1;33m=\u001b[0m \u001b[0mnp\u001b[0m\u001b[1;33m.\u001b[0m\u001b[0masarray\u001b[0m\u001b[1;33m(\u001b[0m\u001b[0ma\u001b[0m\u001b[1;33m)\u001b[0m\u001b[1;33m\u001b[0m\u001b[1;33m\u001b[0m\u001b[0m\n",
      "\u001b[1;32m~\\anaconda3\\lib\\site-packages\\numpy\\lib\\function_base.py\u001b[0m in \u001b[0;36masarray_chkfinite\u001b[1;34m(a, dtype, order)\u001b[0m\n\u001b[0;32m    486\u001b[0m     \u001b[0ma\u001b[0m \u001b[1;33m=\u001b[0m \u001b[0masarray\u001b[0m\u001b[1;33m(\u001b[0m\u001b[0ma\u001b[0m\u001b[1;33m,\u001b[0m \u001b[0mdtype\u001b[0m\u001b[1;33m=\u001b[0m\u001b[0mdtype\u001b[0m\u001b[1;33m,\u001b[0m \u001b[0morder\u001b[0m\u001b[1;33m=\u001b[0m\u001b[0morder\u001b[0m\u001b[1;33m)\u001b[0m\u001b[1;33m\u001b[0m\u001b[1;33m\u001b[0m\u001b[0m\n\u001b[0;32m    487\u001b[0m     \u001b[1;32mif\u001b[0m \u001b[0ma\u001b[0m\u001b[1;33m.\u001b[0m\u001b[0mdtype\u001b[0m\u001b[1;33m.\u001b[0m\u001b[0mchar\u001b[0m \u001b[1;32min\u001b[0m \u001b[0mtypecodes\u001b[0m\u001b[1;33m[\u001b[0m\u001b[1;34m'AllFloat'\u001b[0m\u001b[1;33m]\u001b[0m \u001b[1;32mand\u001b[0m \u001b[1;32mnot\u001b[0m \u001b[0mnp\u001b[0m\u001b[1;33m.\u001b[0m\u001b[0misfinite\u001b[0m\u001b[1;33m(\u001b[0m\u001b[0ma\u001b[0m\u001b[1;33m)\u001b[0m\u001b[1;33m.\u001b[0m\u001b[0mall\u001b[0m\u001b[1;33m(\u001b[0m\u001b[1;33m)\u001b[0m\u001b[1;33m:\u001b[0m\u001b[1;33m\u001b[0m\u001b[1;33m\u001b[0m\u001b[0m\n\u001b[1;32m--> 488\u001b[1;33m         raise ValueError(\n\u001b[0m\u001b[0;32m    489\u001b[0m             \"array must not contain infs or NaNs\")\n\u001b[0;32m    490\u001b[0m     \u001b[1;32mreturn\u001b[0m \u001b[0ma\u001b[0m\u001b[1;33m\u001b[0m\u001b[1;33m\u001b[0m\u001b[0m\n",
      "\u001b[1;31mValueError\u001b[0m: array must not contain infs or NaNs"
     ]
    }
   ],
   "source": [
    "next(view_num)"
   ]
  },
  {
   "cell_type": "markdown",
   "id": "96fa686d",
   "metadata": {},
   "source": [
    "Looking at our independent variables and data description, we will group our variables into four 'buckets' -\n",
    "1. Building Features and Quality\n",
    "2. Lot Features and Quality\n",
    "3. Location\n",
    "4. Sale Information"
   ]
  },
  {
   "cell_type": "markdown",
   "id": "e773a004",
   "metadata": {},
   "source": [
    "### Dependent Variable Analysis - Sale Price"
   ]
  },
  {
   "cell_type": "code",
   "execution_count": 20,
   "id": "e4f0694b",
   "metadata": {
    "scrolled": true
   },
   "outputs": [
    {
     "data": {
      "text/plain": [
       "count      1460.000000\n",
       "mean     180921.195890\n",
       "std       79442.502883\n",
       "min       34900.000000\n",
       "25%      129975.000000\n",
       "50%      163000.000000\n",
       "75%      214000.000000\n",
       "max      755000.000000\n",
       "Name: SalePrice, dtype: float64"
      ]
     },
     "execution_count": 20,
     "metadata": {},
     "output_type": "execute_result"
    }
   ],
   "source": [
    "#descriptive summary of Sale Price\n",
    "train['SalePrice'].describe()"
   ]
  },
  {
   "cell_type": "code",
   "execution_count": null,
   "id": "99fdadb0",
   "metadata": {},
   "outputs": [],
   "source": [
    "#plotting a histogram using seaborn\n",
    "#histogram\n",
    "sns.histplot(train['SalePrice'], kde = True);\n",
    "fig = plt.figure()\n",
    "res = stats.probplot(train['SalePrice'], plot=plt)\n",
    "#TODO - clean up this diagram"
   ]
  },
  {
   "cell_type": "markdown",
   "id": "6403cabd",
   "metadata": {},
   "source": [
    "Noticing that the dependent variable looks right skewed (aka not normally distributed)"
   ]
  },
  {
   "cell_type": "code",
   "execution_count": null,
   "id": "6581b8bf",
   "metadata": {},
   "outputs": [],
   "source": [
    "#checking skewness and kurtosis\n",
    "print(\"Skewness: %f\" % train['SalePrice'].skew())\n",
    "print(\"Kurtosis: %f\" % train['SalePrice'].kurt())"
   ]
  },
  {
   "cell_type": "markdown",
   "id": "73e85e15",
   "metadata": {},
   "source": [
    "To ensure that the residuals of a linear model taken will be normal, we will take the log of the Sale Price instead of the Sale Price."
   ]
  },
  {
   "cell_type": "code",
   "execution_count": 50,
   "id": "e85ce6f2",
   "metadata": {},
   "outputs": [],
   "source": [
    "#adding a column for log sale price\n",
    "train['log_SalePrice'] = np.log(train['SalePrice'])"
   ]
  },
  {
   "cell_type": "code",
   "execution_count": null,
   "id": "fece548c",
   "metadata": {},
   "outputs": [],
   "source": [
    "#plotting a histogram using seaborn\n",
    "#histogram\n",
    "sns.histplot(train['log_SalePrice'], kde = True);\n",
    "#TODO - clean up this diagram"
   ]
  },
  {
   "cell_type": "code",
   "execution_count": null,
   "id": "d73ab661",
   "metadata": {},
   "outputs": [],
   "source": [
    "#histogram and normal probability plot\n",
    "sns.histplot(train['GrLivArea'], kde = True);\n",
    "fig = plt.figure()\n",
    "res = stats.probplot(train['GrLivArea'], plot=plt)"
   ]
  },
  {
   "cell_type": "markdown",
   "id": "01c7af58",
   "metadata": {},
   "source": [
    "### Independent Variables Analysis"
   ]
  },
  {
   "cell_type": "markdown",
   "id": "100befeb",
   "metadata": {},
   "source": [
    "#### Missing Values"
   ]
  },
  {
   "cell_type": "code",
   "execution_count": null,
   "id": "2f713827",
   "metadata": {},
   "outputs": [],
   "source": [
    "#missing data\n"
   ]
  },
  {
   "cell_type": "markdown",
   "id": "d4d2252c",
   "metadata": {},
   "source": [
    "#### Handling Outliers and Anomalies"
   ]
  },
  {
   "cell_type": "markdown",
   "id": "b536828d",
   "metadata": {},
   "source": [
    "#### Categorical Features - box plot, bar plot, ANOVA"
   ]
  },
  {
   "cell_type": "markdown",
   "id": "0d7a550f",
   "metadata": {},
   "source": [
    "#### Quantitative Features - correlation matrix, histogram"
   ]
  },
  {
   "cell_type": "markdown",
   "id": "1d0ccdbc",
   "metadata": {},
   "source": [
    "### Summary of obs dropped, and vars flagged for feature engineering\n",
    "- 4 observations dropped - outliers in gr liv area\n",
    "\n",
    "#### Variables flagged for feature engineering"
   ]
  },
  {
   "cell_type": "markdown",
   "id": "93dc3959",
   "metadata": {},
   "source": [
    "#### Looking into Multicollinearity"
   ]
  },
  {
   "cell_type": "code",
   "execution_count": null,
   "id": "1ea5a709",
   "metadata": {
    "scrolled": false
   },
   "outputs": [],
   "source": [
    "#correlation matrix\n",
    "corrmat = train.corr()\n",
    "f, ax = plt.subplots(figsize=(12, 9))\n",
    "sns.heatmap(corrmat, vmax=.8, square=True);"
   ]
  },
  {
   "cell_type": "code",
   "execution_count": null,
   "id": "3584f245",
   "metadata": {},
   "outputs": [],
   "source": [
    "#saleprice correlation matrix\n",
    "k = 10 #number of variables for heatmap\n",
    "cols = corrmat.nlargest(k, 'SalePrice')['SalePrice'].index\n",
    "cm = np.corrcoef(train[cols].values.T)\n",
    "sns.set(font_scale=1.25)\n",
    "hm = sns.heatmap(cm, cbar=True, annot=True, square=True, fmt='.2f', annot_kws={'size': 10}, yticklabels=cols.values, xticklabels=cols.values)\n",
    "plt.show()"
   ]
  },
  {
   "cell_type": "markdown",
   "id": "bc06abd8",
   "metadata": {},
   "source": [
    "<p><a name=\"FEN\"></a></p>\n",
    "\n",
    "## Feature Engineering"
   ]
  },
  {
   "cell_type": "markdown",
   "id": "2bb284fe",
   "metadata": {},
   "source": [
    "### Feature Engineering\n",
    "\n",
    "Previously modified features:-\n",
    "\n",
    "Sale Price -> Log of Sale Price"
   ]
  },
  {
   "cell_type": "markdown",
   "id": "8d3b66a8",
   "metadata": {},
   "source": [
    "#### Land and Exterior"
   ]
  },
  {
   "cell_type": "markdown",
   "id": "bd558944",
   "metadata": {},
   "source": [
    "#### House Quality"
   ]
  },
  {
   "cell_type": "markdown",
   "id": "6f41bad7",
   "metadata": {},
   "source": [
    "#### Location"
   ]
  },
  {
   "cell_type": "markdown",
   "id": "9e3bb6f8",
   "metadata": {},
   "source": [
    "#### Garage"
   ]
  },
  {
   "cell_type": "markdown",
   "id": "1a895e31",
   "metadata": {},
   "source": [
    "#### Basement"
   ]
  },
  {
   "cell_type": "markdown",
   "id": "ae4a3606",
   "metadata": {},
   "source": [
    "#### Sale Info"
   ]
  },
  {
   "cell_type": "markdown",
   "id": "9db3ffbb",
   "metadata": {},
   "source": [
    "### Dropped Features"
   ]
  },
  {
   "cell_type": "markdown",
   "id": "4dd2db30",
   "metadata": {},
   "source": [
    "#### Columns with no meaningful difference between categories"
   ]
  },
  {
   "cell_type": "markdown",
   "id": "0a7bf403",
   "metadata": {},
   "source": [
    "#### Low correlation"
   ]
  },
  {
   "cell_type": "markdown",
   "id": "7732d993",
   "metadata": {},
   "source": [
    "#### Multicollinearity"
   ]
  },
  {
   "cell_type": "markdown",
   "id": "95520e05",
   "metadata": {},
   "source": [
    "#### Administrative Columns"
   ]
  },
  {
   "cell_type": "markdown",
   "id": "764ca652",
   "metadata": {},
   "source": [
    "<p><a name=\"PRE\"></a></p>\n",
    "\n",
    "## Preprocessing Data for Models"
   ]
  },
  {
   "cell_type": "code",
   "execution_count": null,
   "id": "45b66b43",
   "metadata": {},
   "outputs": [],
   "source": []
  },
  {
   "cell_type": "markdown",
   "id": "fe8cefc7",
   "metadata": {},
   "source": [
    "### Linear Models\n",
    "#### Dummification of Categorical Variables"
   ]
  },
  {
   "cell_type": "markdown",
   "id": "54157ae6",
   "metadata": {},
   "source": [
    "#### Testing Assumptions for Linear Models"
   ]
  },
  {
   "cell_type": "markdown",
   "id": "639d1b73",
   "metadata": {},
   "source": [
    "### Non Linear Models\n",
    "#### Label Encoding of Categorical Variables"
   ]
  },
  {
   "cell_type": "markdown",
   "id": "d541314e",
   "metadata": {},
   "source": [
    "### All Models\n",
    "#### Standardization of numerical variables\n",
    "#### Split train and validate datasets"
   ]
  },
  {
   "cell_type": "markdown",
   "id": "db61d802",
   "metadata": {},
   "source": [
    "<p><a name=\"EXP\"></a></p>\n",
    "\n",
    "## Exporting Cleaned Datasets"
   ]
  },
  {
   "cell_type": "code",
   "execution_count": null,
   "id": "4af314e1",
   "metadata": {},
   "outputs": [],
   "source": []
  },
  {
   "cell_type": "markdown",
   "id": "cc937f0b",
   "metadata": {},
   "source": [
    "# LE TESTING AREA! DO NOT ENTER"
   ]
  },
  {
   "cell_type": "code",
   "execution_count": null,
   "id": "5ff6bc60",
   "metadata": {},
   "outputs": [],
   "source": [
    "total = train.isnull().sum().sort_values(ascending=False)\n",
    "percent = (train.isnull().sum()/train.isnull().count()).sort_values(ascending=False)\n",
    "missing_data = pd.concat([total, percent], axis=1, keys=['Total', 'Percent Missing'])\n",
    "missing_data.head(25)"
   ]
  },
  {
   "cell_type": "code",
   "execution_count": null,
   "id": "c689b329",
   "metadata": {
    "scrolled": true
   },
   "outputs": [],
   "source": [
    "train.isnull().sum().sort_values(ascending=False)"
   ]
  },
  {
   "cell_type": "code",
   "execution_count": null,
   "id": "c67a3ab3",
   "metadata": {},
   "outputs": [],
   "source": [
    "#train['PoolQC'].isnull().sum()\n",
    "var = 'LotArea'\n",
    "data = pd.concat([train['log_SalePrice'], train[var]], axis = 1)\n",
    "\n",
    "\n",
    "num_miss = train[var].isnull().sum()\n",
    "pct_miss = round(num_miss/train.shape[0]*100, 2)\n",
    "print(var + ' has ' + str(num_miss) + ' missing observations, equal to ' + str(pct_miss) + '%')"
   ]
  },
  {
   "cell_type": "code",
   "execution_count": null,
   "id": "3e77e9b1",
   "metadata": {},
   "outputs": [],
   "source": [
    "var = 'LotArea'\n",
    "#Figures\n",
    "sns.set_theme(style=\"whitegrid\")\n",
    "\n",
    "#seaborn Histogram\n",
    "#f, ax = plt.subplots(figsize = (6,4))\n",
    "fig1 = sns.lmplot(x = var, y = 'SalePrice', data = train)\n",
    "#fig1.set(xlabel = var, ylabel = 'Count')\n",
    "'''       \n",
    "        #seaborn scatterplot\n",
    "        f, ax = plt.subplots(figsize = (6,4))\n",
    "        fig = sns.lmplot(x=var,\n",
    "                          y = 'log_SalePrice',\n",
    "                          \n",
    "                          data=data);\n",
    "        plt.xticks(rotation=45)\n",
    "        fig.set(xlabel=var, ylabel='Log of Sale Price')\n",
    "        \n",
    "        sns.histplot(train['SalePrice'], kde = True);\n",
    "fig = plt.figure()\n",
    "res = stats.probplot(train['SalePrice'], plot=plt)'''"
   ]
  },
  {
   "cell_type": "code",
   "execution_count": null,
   "id": "d5adf4a3",
   "metadata": {},
   "outputs": [],
   "source": [
    "sns.scatterplot(x = 'YearBuilt', y = 'SalePrice', data = train)"
   ]
  },
  {
   "cell_type": "code",
   "execution_count": null,
   "id": "7310dba5",
   "metadata": {},
   "outputs": [],
   "source": [
    "sns.histplot(train[var], kde = True)"
   ]
  },
  {
   "cell_type": "code",
   "execution_count": 29,
   "id": "e913e37c",
   "metadata": {},
   "outputs": [],
   "source": [
    "from numpy import cov\n",
    "\n",
    "covariance = cov(train['LotArea'],train['SalePrice'])"
   ]
  },
  {
   "cell_type": "code",
   "execution_count": 30,
   "id": "8806a350",
   "metadata": {},
   "outputs": [
    {
     "name": "stdout",
     "output_type": "stream",
     "text": [
      "[[9.96256497e+07 2.09211070e+08]\n",
      " [2.09211070e+08 6.31111126e+09]]\n"
     ]
    }
   ],
   "source": [
    "print(covariance)"
   ]
  },
  {
   "cell_type": "code",
   "execution_count": 31,
   "id": "489d8870",
   "metadata": {},
   "outputs": [],
   "source": [
    "from scipy.stats import pearsonr\n",
    "corr = pearsonr(train['LotArea'],train['SalePrice'])"
   ]
  },
  {
   "cell_type": "code",
   "execution_count": 35,
   "id": "51d71496",
   "metadata": {},
   "outputs": [
    {
     "name": "stdout",
     "output_type": "stream",
     "text": [
      "Pearsons correlation: 0.26384335387140556\n"
     ]
    }
   ],
   "source": [
    "print('Pearsons correlation:', corr[0])"
   ]
  },
  {
   "cell_type": "code",
   "execution_count": 37,
   "id": "b6290d97",
   "metadata": {},
   "outputs": [
    {
     "data": {
      "text/plain": [
       "0.264"
      ]
     },
     "execution_count": 37,
     "metadata": {},
     "output_type": "execute_result"
    }
   ],
   "source": [
    "round(corr[0],3)"
   ]
  },
  {
   "cell_type": "code",
   "execution_count": 40,
   "id": "1bc13377",
   "metadata": {},
   "outputs": [
    {
     "data": {
      "text/plain": [
       "0.0"
      ]
     },
     "execution_count": 40,
     "metadata": {},
     "output_type": "execute_result"
    }
   ],
   "source": [
    "round(corr[1],5)"
   ]
  },
  {
   "cell_type": "code",
   "execution_count": null,
   "id": "e1450888",
   "metadata": {},
   "outputs": [],
   "source": []
  }
 ],
 "metadata": {
  "kernelspec": {
   "display_name": "Python 3",
   "language": "python",
   "name": "python3"
  },
  "language_info": {
   "codemirror_mode": {
    "name": "ipython",
    "version": 3
   },
   "file_extension": ".py",
   "mimetype": "text/x-python",
   "name": "python",
   "nbconvert_exporter": "python",
   "pygments_lexer": "ipython3",
   "version": "3.8.8"
  }
 },
 "nbformat": 4,
 "nbformat_minor": 5
}
