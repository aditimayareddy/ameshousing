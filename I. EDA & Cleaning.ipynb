{
 "cells": [
  {
   "cell_type": "markdown",
   "id": "e9fc8009",
   "metadata": {},
   "source": [
    "# Ames Housing Data EDA"
   ]
  },
  {
   "cell_type": "markdown",
   "id": "c160f29b",
   "metadata": {},
   "source": [
    "This project aims to predict housing prices in Ames, Iowa based on the Ames Iowa Housing Dataset from the Ames City Assessor's Office, made available by Dean De Cock of Truman University in 2011. Professor De Cock's original paper can be found [here.](http://jse.amstat.org/v19n3/decock.pdf)\n",
    "\n",
    "Presentation Slides for this project can be found [here.](https://www.beautiful.ai/player/-N4J5UYshyuRtwl5G4I7)\n",
    "\n",
    "This notebook includes python code for data extraction and cleaning Preprocessing and feature engineering code as well as Model Fitting and Analysis code can be found in the Feature Engineering and Modeling notebooks, respectively\n",
    "\n",
    "### Sections and steps\n",
    "\n",
    "- <a href=\"#IMP\">1. Reading in Data</a><br>\n",
    "- <a href=\"#DQ\">2. Data Quality</a><br>\n",
    "    - <a href=\"#RD\">2.1 Removing Duplicates</a><br>\n",
    "    - <a href=\"#MD\">2.2 Handling Missing Data</a><br>\n",
    "    - <a href=\"#OT\">2.3 Handling Outliers</a><br>\n",
    "    - <a href=\"#SP\">2.4 Summary of Data Cleaning </a>\n",
    "- <a href=\"#EDA\">3. Exploratory Data Analysis</a><br>\n",
    "    - <a href=\"#FP\">3.1 First Pass - Visualization</a><br>\n",
    "    - <a href=\"#SEDA\">3.2 Summary of EDA Findings </a>\n",
    "- <a href=\"#EXP\">4. Exporting Cleaned Dataset</a><br>"
   ]
  },
  {
   "cell_type": "markdown",
   "id": "bc4224b0",
   "metadata": {},
   "source": [
    "<p><a name=\"IMP\"></a></p>\n",
    "\n",
    "## 1. Importing Packages, Reading in Data"
   ]
  },
  {
   "cell_type": "code",
   "execution_count": 23,
   "id": "608c723d",
   "metadata": {},
   "outputs": [],
   "source": [
    "#packages\n",
    "import pandas as pd\n",
    "import numpy as np\n",
    "import matplotlib.pyplot as plt\n",
    "import seaborn as sns\n",
    "import scipy.stats as stats\n",
    "from scipy.stats import pearsonr\n",
    "from sklearn.linear_model import LinearRegression\n",
    "\n",
    "#helper module\n",
    "from helper_module import *\n",
    "\n",
    "#setting options to view dataframe\n",
    "pd.set_option('display.max_rows', 500)\n",
    "pd.set_option('display.max_columns', 500)\n",
    "\n",
    "#warnings\n",
    "import warnings\n",
    "warnings.filterwarnings(\"ignore\")\n",
    "\n",
    "#helper module functionality\n",
    "%load_ext autoreload\n",
    "%autoreload 2"
   ]
  },
  {
   "cell_type": "markdown",
   "id": "e0e15002",
   "metadata": {},
   "source": [
    "### Helper Functions"
   ]
  },
  {
   "cell_type": "code",
   "execution_count": 24,
   "id": "cb0db34d",
   "metadata": {},
   "outputs": [],
   "source": [
    "#Function to help visualize missing values\n",
    "def help_missing(title = 'Features with missing values'):\n",
    "    num_missing = train.isnull().sum().sort_values(ascending = False)\n",
    "    pct = (train.isnull().sum()/train.isnull().count()).sort_values(ascending=False)\n",
    "    df_md = pd.concat([num_missing, pct], axis=1, keys=['Number', 'Percent'])\n",
    "    \n",
    "    #filtering for only the variables where there is 1 or more missing observations\n",
    "    df_md.columns\n",
    "    df_md = df_md.loc[df_md.Number > 0]\n",
    "    has_missing = df_md['Number']\n",
    "    \n",
    "    #Making a chart\n",
    "    fig, ax = plt.subplots()\n",
    "    has_missing.plot.bar()\n",
    "    p = ax.bar(x = has_missing.index, height = has_missing.values) \n",
    "    bottom, top = ax.get_ylim()\n",
    "    ax.set_ylim(top = top*1.05)\n",
    "    plt.title(title)\n",
    "    fig = plt.gcf()\n",
    "    fig.set_size_inches(len(has_missing)/2, 4)\n",
    "    plt.show()\n",
    "    return df_md"
   ]
  },
  {
   "cell_type": "code",
   "execution_count": 25,
   "id": "5f7b300d",
   "metadata": {},
   "outputs": [
    {
     "name": "stdout",
     "output_type": "stream",
     "text": [
      "Read in Ames Housing Train Data - Shape: (1460, 81)\n"
     ]
    }
   ],
   "source": [
    "#reading in train data\n",
    "train = pd.read_csv('./data/raw/train.csv')\n",
    "print(f\"Read in Ames Housing Train Data - Shape: {train.shape}\")"
   ]
  },
  {
   "cell_type": "code",
   "execution_count": 26,
   "id": "63c32bb4",
   "metadata": {},
   "outputs": [
    {
     "data": {
      "text/html": [
       "<div>\n",
       "<style scoped>\n",
       "    .dataframe tbody tr th:only-of-type {\n",
       "        vertical-align: middle;\n",
       "    }\n",
       "\n",
       "    .dataframe tbody tr th {\n",
       "        vertical-align: top;\n",
       "    }\n",
       "\n",
       "    .dataframe thead th {\n",
       "        text-align: right;\n",
       "    }\n",
       "</style>\n",
       "<table border=\"1\" class=\"dataframe\">\n",
       "  <thead>\n",
       "    <tr style=\"text-align: right;\">\n",
       "      <th></th>\n",
       "      <th>Id</th>\n",
       "      <th>MSSubClass</th>\n",
       "      <th>MSZoning</th>\n",
       "      <th>LotFrontage</th>\n",
       "      <th>LotArea</th>\n",
       "      <th>Street</th>\n",
       "      <th>Alley</th>\n",
       "      <th>LotShape</th>\n",
       "      <th>LandContour</th>\n",
       "      <th>Utilities</th>\n",
       "      <th>LotConfig</th>\n",
       "      <th>LandSlope</th>\n",
       "      <th>Neighborhood</th>\n",
       "      <th>Condition1</th>\n",
       "      <th>Condition2</th>\n",
       "      <th>BldgType</th>\n",
       "      <th>HouseStyle</th>\n",
       "      <th>OverallQual</th>\n",
       "      <th>OverallCond</th>\n",
       "      <th>YearBuilt</th>\n",
       "      <th>YearRemodAdd</th>\n",
       "      <th>RoofStyle</th>\n",
       "      <th>RoofMatl</th>\n",
       "      <th>Exterior1st</th>\n",
       "      <th>Exterior2nd</th>\n",
       "      <th>MasVnrType</th>\n",
       "      <th>MasVnrArea</th>\n",
       "      <th>ExterQual</th>\n",
       "      <th>ExterCond</th>\n",
       "      <th>Foundation</th>\n",
       "      <th>BsmtQual</th>\n",
       "      <th>BsmtCond</th>\n",
       "      <th>BsmtExposure</th>\n",
       "      <th>BsmtFinType1</th>\n",
       "      <th>BsmtFinSF1</th>\n",
       "      <th>BsmtFinType2</th>\n",
       "      <th>BsmtFinSF2</th>\n",
       "      <th>BsmtUnfSF</th>\n",
       "      <th>TotalBsmtSF</th>\n",
       "      <th>Heating</th>\n",
       "      <th>HeatingQC</th>\n",
       "      <th>CentralAir</th>\n",
       "      <th>Electrical</th>\n",
       "      <th>1stFlrSF</th>\n",
       "      <th>2ndFlrSF</th>\n",
       "      <th>LowQualFinSF</th>\n",
       "      <th>GrLivArea</th>\n",
       "      <th>BsmtFullBath</th>\n",
       "      <th>BsmtHalfBath</th>\n",
       "      <th>FullBath</th>\n",
       "      <th>HalfBath</th>\n",
       "      <th>BedroomAbvGr</th>\n",
       "      <th>KitchenAbvGr</th>\n",
       "      <th>KitchenQual</th>\n",
       "      <th>TotRmsAbvGrd</th>\n",
       "      <th>Functional</th>\n",
       "      <th>Fireplaces</th>\n",
       "      <th>FireplaceQu</th>\n",
       "      <th>GarageType</th>\n",
       "      <th>GarageYrBlt</th>\n",
       "      <th>GarageFinish</th>\n",
       "      <th>GarageCars</th>\n",
       "      <th>GarageArea</th>\n",
       "      <th>GarageQual</th>\n",
       "      <th>GarageCond</th>\n",
       "      <th>PavedDrive</th>\n",
       "      <th>WoodDeckSF</th>\n",
       "      <th>OpenPorchSF</th>\n",
       "      <th>EnclosedPorch</th>\n",
       "      <th>3SsnPorch</th>\n",
       "      <th>ScreenPorch</th>\n",
       "      <th>PoolArea</th>\n",
       "      <th>PoolQC</th>\n",
       "      <th>Fence</th>\n",
       "      <th>MiscFeature</th>\n",
       "      <th>MiscVal</th>\n",
       "      <th>MoSold</th>\n",
       "      <th>YrSold</th>\n",
       "      <th>SaleType</th>\n",
       "      <th>SaleCondition</th>\n",
       "      <th>SalePrice</th>\n",
       "    </tr>\n",
       "  </thead>\n",
       "  <tbody>\n",
       "    <tr>\n",
       "      <th>0</th>\n",
       "      <td>1</td>\n",
       "      <td>60</td>\n",
       "      <td>RL</td>\n",
       "      <td>65.0</td>\n",
       "      <td>8450</td>\n",
       "      <td>Pave</td>\n",
       "      <td>NaN</td>\n",
       "      <td>Reg</td>\n",
       "      <td>Lvl</td>\n",
       "      <td>AllPub</td>\n",
       "      <td>Inside</td>\n",
       "      <td>Gtl</td>\n",
       "      <td>CollgCr</td>\n",
       "      <td>Norm</td>\n",
       "      <td>Norm</td>\n",
       "      <td>1Fam</td>\n",
       "      <td>2Story</td>\n",
       "      <td>7</td>\n",
       "      <td>5</td>\n",
       "      <td>2003</td>\n",
       "      <td>2003</td>\n",
       "      <td>Gable</td>\n",
       "      <td>CompShg</td>\n",
       "      <td>VinylSd</td>\n",
       "      <td>VinylSd</td>\n",
       "      <td>BrkFace</td>\n",
       "      <td>196.0</td>\n",
       "      <td>Gd</td>\n",
       "      <td>TA</td>\n",
       "      <td>PConc</td>\n",
       "      <td>Gd</td>\n",
       "      <td>TA</td>\n",
       "      <td>No</td>\n",
       "      <td>GLQ</td>\n",
       "      <td>706</td>\n",
       "      <td>Unf</td>\n",
       "      <td>0</td>\n",
       "      <td>150</td>\n",
       "      <td>856</td>\n",
       "      <td>GasA</td>\n",
       "      <td>Ex</td>\n",
       "      <td>Y</td>\n",
       "      <td>SBrkr</td>\n",
       "      <td>856</td>\n",
       "      <td>854</td>\n",
       "      <td>0</td>\n",
       "      <td>1710</td>\n",
       "      <td>1</td>\n",
       "      <td>0</td>\n",
       "      <td>2</td>\n",
       "      <td>1</td>\n",
       "      <td>3</td>\n",
       "      <td>1</td>\n",
       "      <td>Gd</td>\n",
       "      <td>8</td>\n",
       "      <td>Typ</td>\n",
       "      <td>0</td>\n",
       "      <td>NaN</td>\n",
       "      <td>Attchd</td>\n",
       "      <td>2003.0</td>\n",
       "      <td>RFn</td>\n",
       "      <td>2</td>\n",
       "      <td>548</td>\n",
       "      <td>TA</td>\n",
       "      <td>TA</td>\n",
       "      <td>Y</td>\n",
       "      <td>0</td>\n",
       "      <td>61</td>\n",
       "      <td>0</td>\n",
       "      <td>0</td>\n",
       "      <td>0</td>\n",
       "      <td>0</td>\n",
       "      <td>NaN</td>\n",
       "      <td>NaN</td>\n",
       "      <td>NaN</td>\n",
       "      <td>0</td>\n",
       "      <td>2</td>\n",
       "      <td>2008</td>\n",
       "      <td>WD</td>\n",
       "      <td>Normal</td>\n",
       "      <td>208500</td>\n",
       "    </tr>\n",
       "    <tr>\n",
       "      <th>1</th>\n",
       "      <td>2</td>\n",
       "      <td>20</td>\n",
       "      <td>RL</td>\n",
       "      <td>80.0</td>\n",
       "      <td>9600</td>\n",
       "      <td>Pave</td>\n",
       "      <td>NaN</td>\n",
       "      <td>Reg</td>\n",
       "      <td>Lvl</td>\n",
       "      <td>AllPub</td>\n",
       "      <td>FR2</td>\n",
       "      <td>Gtl</td>\n",
       "      <td>Veenker</td>\n",
       "      <td>Feedr</td>\n",
       "      <td>Norm</td>\n",
       "      <td>1Fam</td>\n",
       "      <td>1Story</td>\n",
       "      <td>6</td>\n",
       "      <td>8</td>\n",
       "      <td>1976</td>\n",
       "      <td>1976</td>\n",
       "      <td>Gable</td>\n",
       "      <td>CompShg</td>\n",
       "      <td>MetalSd</td>\n",
       "      <td>MetalSd</td>\n",
       "      <td>None</td>\n",
       "      <td>0.0</td>\n",
       "      <td>TA</td>\n",
       "      <td>TA</td>\n",
       "      <td>CBlock</td>\n",
       "      <td>Gd</td>\n",
       "      <td>TA</td>\n",
       "      <td>Gd</td>\n",
       "      <td>ALQ</td>\n",
       "      <td>978</td>\n",
       "      <td>Unf</td>\n",
       "      <td>0</td>\n",
       "      <td>284</td>\n",
       "      <td>1262</td>\n",
       "      <td>GasA</td>\n",
       "      <td>Ex</td>\n",
       "      <td>Y</td>\n",
       "      <td>SBrkr</td>\n",
       "      <td>1262</td>\n",
       "      <td>0</td>\n",
       "      <td>0</td>\n",
       "      <td>1262</td>\n",
       "      <td>0</td>\n",
       "      <td>1</td>\n",
       "      <td>2</td>\n",
       "      <td>0</td>\n",
       "      <td>3</td>\n",
       "      <td>1</td>\n",
       "      <td>TA</td>\n",
       "      <td>6</td>\n",
       "      <td>Typ</td>\n",
       "      <td>1</td>\n",
       "      <td>TA</td>\n",
       "      <td>Attchd</td>\n",
       "      <td>1976.0</td>\n",
       "      <td>RFn</td>\n",
       "      <td>2</td>\n",
       "      <td>460</td>\n",
       "      <td>TA</td>\n",
       "      <td>TA</td>\n",
       "      <td>Y</td>\n",
       "      <td>298</td>\n",
       "      <td>0</td>\n",
       "      <td>0</td>\n",
       "      <td>0</td>\n",
       "      <td>0</td>\n",
       "      <td>0</td>\n",
       "      <td>NaN</td>\n",
       "      <td>NaN</td>\n",
       "      <td>NaN</td>\n",
       "      <td>0</td>\n",
       "      <td>5</td>\n",
       "      <td>2007</td>\n",
       "      <td>WD</td>\n",
       "      <td>Normal</td>\n",
       "      <td>181500</td>\n",
       "    </tr>\n",
       "  </tbody>\n",
       "</table>\n",
       "</div>"
      ],
      "text/plain": [
       "   Id  MSSubClass MSZoning  LotFrontage  LotArea Street Alley LotShape  \\\n",
       "0   1          60       RL         65.0     8450   Pave   NaN      Reg   \n",
       "1   2          20       RL         80.0     9600   Pave   NaN      Reg   \n",
       "\n",
       "  LandContour Utilities LotConfig LandSlope Neighborhood Condition1  \\\n",
       "0         Lvl    AllPub    Inside       Gtl      CollgCr       Norm   \n",
       "1         Lvl    AllPub       FR2       Gtl      Veenker      Feedr   \n",
       "\n",
       "  Condition2 BldgType HouseStyle  OverallQual  OverallCond  YearBuilt  \\\n",
       "0       Norm     1Fam     2Story            7            5       2003   \n",
       "1       Norm     1Fam     1Story            6            8       1976   \n",
       "\n",
       "   YearRemodAdd RoofStyle RoofMatl Exterior1st Exterior2nd MasVnrType  \\\n",
       "0          2003     Gable  CompShg     VinylSd     VinylSd    BrkFace   \n",
       "1          1976     Gable  CompShg     MetalSd     MetalSd       None   \n",
       "\n",
       "   MasVnrArea ExterQual ExterCond Foundation BsmtQual BsmtCond BsmtExposure  \\\n",
       "0       196.0        Gd        TA      PConc       Gd       TA           No   \n",
       "1         0.0        TA        TA     CBlock       Gd       TA           Gd   \n",
       "\n",
       "  BsmtFinType1  BsmtFinSF1 BsmtFinType2  BsmtFinSF2  BsmtUnfSF  TotalBsmtSF  \\\n",
       "0          GLQ         706          Unf           0        150          856   \n",
       "1          ALQ         978          Unf           0        284         1262   \n",
       "\n",
       "  Heating HeatingQC CentralAir Electrical  1stFlrSF  2ndFlrSF  LowQualFinSF  \\\n",
       "0    GasA        Ex          Y      SBrkr       856       854             0   \n",
       "1    GasA        Ex          Y      SBrkr      1262         0             0   \n",
       "\n",
       "   GrLivArea  BsmtFullBath  BsmtHalfBath  FullBath  HalfBath  BedroomAbvGr  \\\n",
       "0       1710             1             0         2         1             3   \n",
       "1       1262             0             1         2         0             3   \n",
       "\n",
       "   KitchenAbvGr KitchenQual  TotRmsAbvGrd Functional  Fireplaces FireplaceQu  \\\n",
       "0             1          Gd             8        Typ           0         NaN   \n",
       "1             1          TA             6        Typ           1          TA   \n",
       "\n",
       "  GarageType  GarageYrBlt GarageFinish  GarageCars  GarageArea GarageQual  \\\n",
       "0     Attchd       2003.0          RFn           2         548         TA   \n",
       "1     Attchd       1976.0          RFn           2         460         TA   \n",
       "\n",
       "  GarageCond PavedDrive  WoodDeckSF  OpenPorchSF  EnclosedPorch  3SsnPorch  \\\n",
       "0         TA          Y           0           61              0          0   \n",
       "1         TA          Y         298            0              0          0   \n",
       "\n",
       "   ScreenPorch  PoolArea PoolQC Fence MiscFeature  MiscVal  MoSold  YrSold  \\\n",
       "0            0         0    NaN   NaN         NaN        0       2    2008   \n",
       "1            0         0    NaN   NaN         NaN        0       5    2007   \n",
       "\n",
       "  SaleType SaleCondition  SalePrice  \n",
       "0       WD        Normal     208500  \n",
       "1       WD        Normal     181500  "
      ]
     },
     "execution_count": 26,
     "metadata": {},
     "output_type": "execute_result"
    }
   ],
   "source": [
    "train.head(2)"
   ]
  },
  {
   "cell_type": "markdown",
   "id": "74b4cdb1",
   "metadata": {},
   "source": [
    "<p><a name=\"DQ\"></a></p>\n",
    "\n",
    "## 2. Data Quality"
   ]
  },
  {
   "cell_type": "code",
   "execution_count": 27,
   "id": "61e3e66e",
   "metadata": {},
   "outputs": [
    {
     "name": "stdout",
     "output_type": "stream",
     "text": [
      "The raw number of features is  81\n",
      "The raw number of observations is  1460\n",
      "The datattypes are: [dtype('int64') dtype('O') dtype('float64')]\n"
     ]
    }
   ],
   "source": [
    "print('The raw number of features is ', train.shape[1])\n",
    "print('The raw number of observations is ', train.shape[0])\n",
    "print('The datattypes are:', train.dtypes.unique())"
   ]
  },
  {
   "cell_type": "code",
   "execution_count": 28,
   "id": "5b0450f4",
   "metadata": {
    "scrolled": true
   },
   "outputs": [
    {
     "name": "stdout",
     "output_type": "stream",
     "text": [
      "<class 'pandas.core.frame.DataFrame'>\n",
      "RangeIndex: 1460 entries, 0 to 1459\n",
      "Data columns (total 81 columns):\n",
      " #   Column         Non-Null Count  Dtype  \n",
      "---  ------         --------------  -----  \n",
      " 0   Id             1460 non-null   int64  \n",
      " 1   MSSubClass     1460 non-null   int64  \n",
      " 2   MSZoning       1460 non-null   object \n",
      " 3   LotFrontage    1201 non-null   float64\n",
      " 4   LotArea        1460 non-null   int64  \n",
      " 5   Street         1460 non-null   object \n",
      " 6   Alley          91 non-null     object \n",
      " 7   LotShape       1460 non-null   object \n",
      " 8   LandContour    1460 non-null   object \n",
      " 9   Utilities      1460 non-null   object \n",
      " 10  LotConfig      1460 non-null   object \n",
      " 11  LandSlope      1460 non-null   object \n",
      " 12  Neighborhood   1460 non-null   object \n",
      " 13  Condition1     1460 non-null   object \n",
      " 14  Condition2     1460 non-null   object \n",
      " 15  BldgType       1460 non-null   object \n",
      " 16  HouseStyle     1460 non-null   object \n",
      " 17  OverallQual    1460 non-null   int64  \n",
      " 18  OverallCond    1460 non-null   int64  \n",
      " 19  YearBuilt      1460 non-null   int64  \n",
      " 20  YearRemodAdd   1460 non-null   int64  \n",
      " 21  RoofStyle      1460 non-null   object \n",
      " 22  RoofMatl       1460 non-null   object \n",
      " 23  Exterior1st    1460 non-null   object \n",
      " 24  Exterior2nd    1460 non-null   object \n",
      " 25  MasVnrType     1452 non-null   object \n",
      " 26  MasVnrArea     1452 non-null   float64\n",
      " 27  ExterQual      1460 non-null   object \n",
      " 28  ExterCond      1460 non-null   object \n",
      " 29  Foundation     1460 non-null   object \n",
      " 30  BsmtQual       1423 non-null   object \n",
      " 31  BsmtCond       1423 non-null   object \n",
      " 32  BsmtExposure   1422 non-null   object \n",
      " 33  BsmtFinType1   1423 non-null   object \n",
      " 34  BsmtFinSF1     1460 non-null   int64  \n",
      " 35  BsmtFinType2   1422 non-null   object \n",
      " 36  BsmtFinSF2     1460 non-null   int64  \n",
      " 37  BsmtUnfSF      1460 non-null   int64  \n",
      " 38  TotalBsmtSF    1460 non-null   int64  \n",
      " 39  Heating        1460 non-null   object \n",
      " 40  HeatingQC      1460 non-null   object \n",
      " 41  CentralAir     1460 non-null   object \n",
      " 42  Electrical     1459 non-null   object \n",
      " 43  1stFlrSF       1460 non-null   int64  \n",
      " 44  2ndFlrSF       1460 non-null   int64  \n",
      " 45  LowQualFinSF   1460 non-null   int64  \n",
      " 46  GrLivArea      1460 non-null   int64  \n",
      " 47  BsmtFullBath   1460 non-null   int64  \n",
      " 48  BsmtHalfBath   1460 non-null   int64  \n",
      " 49  FullBath       1460 non-null   int64  \n",
      " 50  HalfBath       1460 non-null   int64  \n",
      " 51  BedroomAbvGr   1460 non-null   int64  \n",
      " 52  KitchenAbvGr   1460 non-null   int64  \n",
      " 53  KitchenQual    1460 non-null   object \n",
      " 54  TotRmsAbvGrd   1460 non-null   int64  \n",
      " 55  Functional     1460 non-null   object \n",
      " 56  Fireplaces     1460 non-null   int64  \n",
      " 57  FireplaceQu    770 non-null    object \n",
      " 58  GarageType     1379 non-null   object \n",
      " 59  GarageYrBlt    1379 non-null   float64\n",
      " 60  GarageFinish   1379 non-null   object \n",
      " 61  GarageCars     1460 non-null   int64  \n",
      " 62  GarageArea     1460 non-null   int64  \n",
      " 63  GarageQual     1379 non-null   object \n",
      " 64  GarageCond     1379 non-null   object \n",
      " 65  PavedDrive     1460 non-null   object \n",
      " 66  WoodDeckSF     1460 non-null   int64  \n",
      " 67  OpenPorchSF    1460 non-null   int64  \n",
      " 68  EnclosedPorch  1460 non-null   int64  \n",
      " 69  3SsnPorch      1460 non-null   int64  \n",
      " 70  ScreenPorch    1460 non-null   int64  \n",
      " 71  PoolArea       1460 non-null   int64  \n",
      " 72  PoolQC         7 non-null      object \n",
      " 73  Fence          281 non-null    object \n",
      " 74  MiscFeature    54 non-null     object \n",
      " 75  MiscVal        1460 non-null   int64  \n",
      " 76  MoSold         1460 non-null   int64  \n",
      " 77  YrSold         1460 non-null   int64  \n",
      " 78  SaleType       1460 non-null   object \n",
      " 79  SaleCondition  1460 non-null   object \n",
      " 80  SalePrice      1460 non-null   int64  \n",
      "dtypes: float64(3), int64(35), object(43)\n",
      "memory usage: 924.0+ KB\n"
     ]
    }
   ],
   "source": [
    "#getting a look at column data types\n",
    "train.info()"
   ]
  },
  {
   "cell_type": "markdown",
   "id": "92321d42",
   "metadata": {},
   "source": [
    "Noticing here categorical values that have numerical dtypes:\n",
    "\n",
    "        - MSSubClass\n",
    "        - MoSold"
   ]
  },
  {
   "cell_type": "code",
   "execution_count": 29,
   "id": "537150e9",
   "metadata": {},
   "outputs": [
    {
     "name": "stdout",
     "output_type": "stream",
     "text": [
      "object\n",
      "object\n"
     ]
    }
   ],
   "source": [
    "#changing the dtype of these variables to strings\n",
    "for item in ['MSSubClass', 'MoSold']:\n",
    "    train[item] = train[item].astype(str)\n",
    "    print(train[item].dtype)"
   ]
  },
  {
   "cell_type": "markdown",
   "id": "c2b5f3be",
   "metadata": {},
   "source": [
    "Looking at the number of categorical and numerical features in this dataset"
   ]
  },
  {
   "cell_type": "code",
   "execution_count": 30,
   "id": "62eb4a39",
   "metadata": {},
   "outputs": [
    {
     "name": "stdout",
     "output_type": "stream",
     "text": [
      "The number of categorical features is 45\n",
      "The number of numerical features is 35\n",
      "The combined numerical and categorical features are 80\n"
     ]
    }
   ],
   "source": [
    "#selecting just categorical variables in the dataframe and creating a list\n",
    "cat_var = train.select_dtypes('O').columns.tolist()\n",
    "\n",
    "#selecting just continuous variables in the dataframe and creating a list\n",
    "num_var = train.select_dtypes('number').columns.tolist()\n",
    "num_var.remove('Id')\n",
    "\n",
    "print('The number of categorical features is' , len(cat_var))\n",
    "print('The number of numerical features is', len(num_var))\n",
    "print('The combined numerical and categorical features are', train.shape[1]-1)"
   ]
  },
  {
   "cell_type": "markdown",
   "id": "66de18b8",
   "metadata": {},
   "source": [
    "<p><a name=\"RD\"></a></p>\n",
    "\n",
    "### 2.1 Removing Duplicates"
   ]
  },
  {
   "cell_type": "markdown",
   "id": "fa211936",
   "metadata": {},
   "source": [
    "Reading the original paper that Professor De Cock released with the dataset, he notes that properties sold multiple times in this time frame were only included once (the most recent sale).\n",
    "\n",
    "There were no duplicates in the original dataset, but since this dataset is a subset, and has been preprocessed, we will still check for duplicates to be thorough."
   ]
  },
  {
   "cell_type": "code",
   "execution_count": 9,
   "id": "24dc7e74",
   "metadata": {},
   "outputs": [
    {
     "data": {
      "text/html": [
       "<div>\n",
       "<style scoped>\n",
       "    .dataframe tbody tr th:only-of-type {\n",
       "        vertical-align: middle;\n",
       "    }\n",
       "\n",
       "    .dataframe tbody tr th {\n",
       "        vertical-align: top;\n",
       "    }\n",
       "\n",
       "    .dataframe thead th {\n",
       "        text-align: right;\n",
       "    }\n",
       "</style>\n",
       "<table border=\"1\" class=\"dataframe\">\n",
       "  <thead>\n",
       "    <tr style=\"text-align: right;\">\n",
       "      <th></th>\n",
       "      <th>Id</th>\n",
       "      <th>MSSubClass</th>\n",
       "      <th>MSZoning</th>\n",
       "      <th>LotFrontage</th>\n",
       "      <th>LotArea</th>\n",
       "      <th>Street</th>\n",
       "      <th>Alley</th>\n",
       "      <th>LotShape</th>\n",
       "      <th>LandContour</th>\n",
       "      <th>Utilities</th>\n",
       "      <th>LotConfig</th>\n",
       "      <th>LandSlope</th>\n",
       "      <th>Neighborhood</th>\n",
       "      <th>Condition1</th>\n",
       "      <th>Condition2</th>\n",
       "      <th>BldgType</th>\n",
       "      <th>HouseStyle</th>\n",
       "      <th>OverallQual</th>\n",
       "      <th>OverallCond</th>\n",
       "      <th>YearBuilt</th>\n",
       "      <th>YearRemodAdd</th>\n",
       "      <th>RoofStyle</th>\n",
       "      <th>RoofMatl</th>\n",
       "      <th>Exterior1st</th>\n",
       "      <th>Exterior2nd</th>\n",
       "      <th>MasVnrType</th>\n",
       "      <th>MasVnrArea</th>\n",
       "      <th>ExterQual</th>\n",
       "      <th>ExterCond</th>\n",
       "      <th>Foundation</th>\n",
       "      <th>BsmtQual</th>\n",
       "      <th>BsmtCond</th>\n",
       "      <th>BsmtExposure</th>\n",
       "      <th>BsmtFinType1</th>\n",
       "      <th>BsmtFinSF1</th>\n",
       "      <th>BsmtFinType2</th>\n",
       "      <th>BsmtFinSF2</th>\n",
       "      <th>BsmtUnfSF</th>\n",
       "      <th>TotalBsmtSF</th>\n",
       "      <th>Heating</th>\n",
       "      <th>HeatingQC</th>\n",
       "      <th>CentralAir</th>\n",
       "      <th>Electrical</th>\n",
       "      <th>1stFlrSF</th>\n",
       "      <th>2ndFlrSF</th>\n",
       "      <th>LowQualFinSF</th>\n",
       "      <th>GrLivArea</th>\n",
       "      <th>BsmtFullBath</th>\n",
       "      <th>BsmtHalfBath</th>\n",
       "      <th>FullBath</th>\n",
       "      <th>HalfBath</th>\n",
       "      <th>BedroomAbvGr</th>\n",
       "      <th>KitchenAbvGr</th>\n",
       "      <th>KitchenQual</th>\n",
       "      <th>TotRmsAbvGrd</th>\n",
       "      <th>Functional</th>\n",
       "      <th>Fireplaces</th>\n",
       "      <th>FireplaceQu</th>\n",
       "      <th>GarageType</th>\n",
       "      <th>GarageYrBlt</th>\n",
       "      <th>GarageFinish</th>\n",
       "      <th>GarageCars</th>\n",
       "      <th>GarageArea</th>\n",
       "      <th>GarageQual</th>\n",
       "      <th>GarageCond</th>\n",
       "      <th>PavedDrive</th>\n",
       "      <th>WoodDeckSF</th>\n",
       "      <th>OpenPorchSF</th>\n",
       "      <th>EnclosedPorch</th>\n",
       "      <th>3SsnPorch</th>\n",
       "      <th>ScreenPorch</th>\n",
       "      <th>PoolArea</th>\n",
       "      <th>PoolQC</th>\n",
       "      <th>Fence</th>\n",
       "      <th>MiscFeature</th>\n",
       "      <th>MiscVal</th>\n",
       "      <th>MoSold</th>\n",
       "      <th>YrSold</th>\n",
       "      <th>SaleType</th>\n",
       "      <th>SaleCondition</th>\n",
       "      <th>SalePrice</th>\n",
       "    </tr>\n",
       "  </thead>\n",
       "  <tbody>\n",
       "  </tbody>\n",
       "</table>\n",
       "</div>"
      ],
      "text/plain": [
       "Empty DataFrame\n",
       "Columns: [Id, MSSubClass, MSZoning, LotFrontage, LotArea, Street, Alley, LotShape, LandContour, Utilities, LotConfig, LandSlope, Neighborhood, Condition1, Condition2, BldgType, HouseStyle, OverallQual, OverallCond, YearBuilt, YearRemodAdd, RoofStyle, RoofMatl, Exterior1st, Exterior2nd, MasVnrType, MasVnrArea, ExterQual, ExterCond, Foundation, BsmtQual, BsmtCond, BsmtExposure, BsmtFinType1, BsmtFinSF1, BsmtFinType2, BsmtFinSF2, BsmtUnfSF, TotalBsmtSF, Heating, HeatingQC, CentralAir, Electrical, 1stFlrSF, 2ndFlrSF, LowQualFinSF, GrLivArea, BsmtFullBath, BsmtHalfBath, FullBath, HalfBath, BedroomAbvGr, KitchenAbvGr, KitchenQual, TotRmsAbvGrd, Functional, Fireplaces, FireplaceQu, GarageType, GarageYrBlt, GarageFinish, GarageCars, GarageArea, GarageQual, GarageCond, PavedDrive, WoodDeckSF, OpenPorchSF, EnclosedPorch, 3SsnPorch, ScreenPorch, PoolArea, PoolQC, Fence, MiscFeature, MiscVal, MoSold, YrSold, SaleType, SaleCondition, SalePrice]\n",
       "Index: []"
      ]
     },
     "execution_count": 9,
     "metadata": {},
     "output_type": "execute_result"
    }
   ],
   "source": [
    "train[train.Id.duplicated()] #no duplicates found"
   ]
  },
  {
   "cell_type": "markdown",
   "id": "f1b68a12",
   "metadata": {},
   "source": [
    "<p><a name=\"MD\"></a></p>\n",
    "\n",
    "### 2.2 Handling Missing Data"
   ]
  },
  {
   "cell_type": "markdown",
   "id": "3a74d508",
   "metadata": {},
   "source": [
    "We can see that there are several variables missing data.\n",
    "\n",
    "As per the data description, we will replace empty values that have meanings with the appropriate meaning. Eg. For PoolQC, NA actually means there is no pool on the property"
   ]
  },
  {
   "cell_type": "code",
   "execution_count": 10,
   "id": "c03bf23f",
   "metadata": {
    "scrolled": true
   },
   "outputs": [
    {
     "data": {
      "image/png": "[encoded data removed]",
      "text/plain": [
       "<Figure size 684x288 with 1 Axes>"
      ]
     },
     "metadata": {
      "needs_background": "light"
     },
     "output_type": "display_data"
    },
    {
     "data": {
      "text/html": [
       "<div>\n",
       "<style scoped>\n",
       "    .dataframe tbody tr th:only-of-type {\n",
       "        vertical-align: middle;\n",
       "    }\n",
       "\n",
       "    .dataframe tbody tr th {\n",
       "        vertical-align: top;\n",
       "    }\n",
       "\n",
       "    .dataframe thead th {\n",
       "        text-align: right;\n",
       "    }\n",
       "</style>\n",
       "<table border=\"1\" class=\"dataframe\">\n",
       "  <thead>\n",
       "    <tr style=\"text-align: right;\">\n",
       "      <th></th>\n",
       "      <th>Number</th>\n",
       "      <th>Percent</th>\n",
       "    </tr>\n",
       "  </thead>\n",
       "  <tbody>\n",
       "    <tr>\n",
       "      <th>PoolQC</th>\n",
       "      <td>1453</td>\n",
       "      <td>0.995205</td>\n",
       "    </tr>\n",
       "    <tr>\n",
       "      <th>MiscFeature</th>\n",
       "      <td>1406</td>\n",
       "      <td>0.963014</td>\n",
       "    </tr>\n",
       "    <tr>\n",
       "      <th>Alley</th>\n",
       "      <td>1369</td>\n",
       "      <td>0.937671</td>\n",
       "    </tr>\n",
       "    <tr>\n",
       "      <th>Fence</th>\n",
       "      <td>1179</td>\n",
       "      <td>0.807534</td>\n",
       "    </tr>\n",
       "    <tr>\n",
       "      <th>FireplaceQu</th>\n",
       "      <td>690</td>\n",
       "      <td>0.472603</td>\n",
       "    </tr>\n",
       "    <tr>\n",
       "      <th>LotFrontage</th>\n",
       "      <td>259</td>\n",
       "      <td>0.177397</td>\n",
       "    </tr>\n",
       "    <tr>\n",
       "      <th>GarageYrBlt</th>\n",
       "      <td>81</td>\n",
       "      <td>0.055479</td>\n",
       "    </tr>\n",
       "    <tr>\n",
       "      <th>GarageCond</th>\n",
       "      <td>81</td>\n",
       "      <td>0.055479</td>\n",
       "    </tr>\n",
       "    <tr>\n",
       "      <th>GarageType</th>\n",
       "      <td>81</td>\n",
       "      <td>0.055479</td>\n",
       "    </tr>\n",
       "    <tr>\n",
       "      <th>GarageFinish</th>\n",
       "      <td>81</td>\n",
       "      <td>0.055479</td>\n",
       "    </tr>\n",
       "    <tr>\n",
       "      <th>GarageQual</th>\n",
       "      <td>81</td>\n",
       "      <td>0.055479</td>\n",
       "    </tr>\n",
       "    <tr>\n",
       "      <th>BsmtFinType2</th>\n",
       "      <td>38</td>\n",
       "      <td>0.026027</td>\n",
       "    </tr>\n",
       "    <tr>\n",
       "      <th>BsmtExposure</th>\n",
       "      <td>38</td>\n",
       "      <td>0.026027</td>\n",
       "    </tr>\n",
       "    <tr>\n",
       "      <th>BsmtQual</th>\n",
       "      <td>37</td>\n",
       "      <td>0.025342</td>\n",
       "    </tr>\n",
       "    <tr>\n",
       "      <th>BsmtCond</th>\n",
       "      <td>37</td>\n",
       "      <td>0.025342</td>\n",
       "    </tr>\n",
       "    <tr>\n",
       "      <th>BsmtFinType1</th>\n",
       "      <td>37</td>\n",
       "      <td>0.025342</td>\n",
       "    </tr>\n",
       "    <tr>\n",
       "      <th>MasVnrArea</th>\n",
       "      <td>8</td>\n",
       "      <td>0.005479</td>\n",
       "    </tr>\n",
       "    <tr>\n",
       "      <th>MasVnrType</th>\n",
       "      <td>8</td>\n",
       "      <td>0.005479</td>\n",
       "    </tr>\n",
       "    <tr>\n",
       "      <th>Electrical</th>\n",
       "      <td>1</td>\n",
       "      <td>0.000685</td>\n",
       "    </tr>\n",
       "  </tbody>\n",
       "</table>\n",
       "</div>"
      ],
      "text/plain": [
       "              Number   Percent\n",
       "PoolQC          1453  0.995205\n",
       "MiscFeature     1406  0.963014\n",
       "Alley           1369  0.937671\n",
       "Fence           1179  0.807534\n",
       "FireplaceQu      690  0.472603\n",
       "LotFrontage      259  0.177397\n",
       "GarageYrBlt       81  0.055479\n",
       "GarageCond        81  0.055479\n",
       "GarageType        81  0.055479\n",
       "GarageFinish      81  0.055479\n",
       "GarageQual        81  0.055479\n",
       "BsmtFinType2      38  0.026027\n",
       "BsmtExposure      38  0.026027\n",
       "BsmtQual          37  0.025342\n",
       "BsmtCond          37  0.025342\n",
       "BsmtFinType1      37  0.025342\n",
       "MasVnrArea         8  0.005479\n",
       "MasVnrType         8  0.005479\n",
       "Electrical         1  0.000685"
      ]
     },
     "execution_count": 10,
     "metadata": {},
     "output_type": "execute_result"
    }
   ],
   "source": [
    "#using helper function to show us the columns with missing data\n",
    "help_missing()"
   ]
  },
  {
   "cell_type": "code",
   "execution_count": 11,
   "id": "9203b5ce",
   "metadata": {},
   "outputs": [],
   "source": [
    "# Replacing missing values with appropriate meaning based on data description\n",
    "train.fillna(value={'Alley' : 'NoAlley',\n",
    "                   'BsmtQual': 'NoBasement',\n",
    "                   'BsmtCond': 'NoBasement',\n",
    "                   'BsmtExposure': 'NoBasement',\n",
    "                   'BsmtFinType1': 'NoBasement',\n",
    "                   'BsmtFinType2': 'NoBasement',\n",
    "                   'FireplaceQu' : 'NoFireplace',\n",
    "                   'GarageType': 'NoGarage',\n",
    "                   'GarageFinish': 'NoGarage',\n",
    "                   'GarageQual': 'NoGarage',\n",
    "                    'GarageCond' : 'NoGarage',\n",
    "                   'PoolQC': 'NoPool',\n",
    "                   'Fence': 'NoFence',\n",
    "                   'MiscFeature': 'NoMisc'},\n",
    "            inplace = True)"
   ]
  },
  {
   "cell_type": "code",
   "execution_count": 12,
   "id": "f8e07955",
   "metadata": {
    "scrolled": true
   },
   "outputs": [
    {
     "data": {
      "image/png": "[encoded data removed]",
      "text/plain": [
       "<Figure size 180x288 with 1 Axes>"
      ]
     },
     "metadata": {
      "needs_background": "light"
     },
     "output_type": "display_data"
    },
    {
     "data": {
      "text/html": [
       "<div>\n",
       "<style scoped>\n",
       "    .dataframe tbody tr th:only-of-type {\n",
       "        vertical-align: middle;\n",
       "    }\n",
       "\n",
       "    .dataframe tbody tr th {\n",
       "        vertical-align: top;\n",
       "    }\n",
       "\n",
       "    .dataframe thead th {\n",
       "        text-align: right;\n",
       "    }\n",
       "</style>\n",
       "<table border=\"1\" class=\"dataframe\">\n",
       "  <thead>\n",
       "    <tr style=\"text-align: right;\">\n",
       "      <th></th>\n",
       "      <th>Number</th>\n",
       "      <th>Percent</th>\n",
       "    </tr>\n",
       "  </thead>\n",
       "  <tbody>\n",
       "    <tr>\n",
       "      <th>LotFrontage</th>\n",
       "      <td>259</td>\n",
       "      <td>0.177397</td>\n",
       "    </tr>\n",
       "    <tr>\n",
       "      <th>GarageYrBlt</th>\n",
       "      <td>81</td>\n",
       "      <td>0.055479</td>\n",
       "    </tr>\n",
       "    <tr>\n",
       "      <th>MasVnrType</th>\n",
       "      <td>8</td>\n",
       "      <td>0.005479</td>\n",
       "    </tr>\n",
       "    <tr>\n",
       "      <th>MasVnrArea</th>\n",
       "      <td>8</td>\n",
       "      <td>0.005479</td>\n",
       "    </tr>\n",
       "    <tr>\n",
       "      <th>Electrical</th>\n",
       "      <td>1</td>\n",
       "      <td>0.000685</td>\n",
       "    </tr>\n",
       "  </tbody>\n",
       "</table>\n",
       "</div>"
      ],
      "text/plain": [
       "             Number   Percent\n",
       "LotFrontage     259  0.177397\n",
       "GarageYrBlt      81  0.055479\n",
       "MasVnrType        8  0.005479\n",
       "MasVnrArea        8  0.005479\n",
       "Electrical        1  0.000685"
      ]
     },
     "execution_count": 12,
     "metadata": {},
     "output_type": "execute_result"
    }
   ],
   "source": [
    "help_missing('Round Two : Features with Missing Values')"
   ]
  },
  {
   "cell_type": "code",
   "execution_count": 13,
   "id": "bba5807c",
   "metadata": {},
   "outputs": [],
   "source": [
    "#Looking at MasVnrType, MasVnrArea\n",
    "#Data description says NA is no MasVnrType\n",
    "train['MasVnrType'].fillna('None', inplace=True)\n",
    "#imputing 0 for MasVnrArea\n",
    "train['MasVnrArea'].fillna(0, inplace=True)"
   ]
  },
  {
   "cell_type": "code",
   "execution_count": 14,
   "id": "489823f7",
   "metadata": {},
   "outputs": [
    {
     "data": {
      "text/plain": [
       "array(['SBrkr', 'FuseF', 'FuseA', 'FuseP', 'Mix', nan], dtype=object)"
      ]
     },
     "execution_count": 14,
     "metadata": {},
     "output_type": "execute_result"
    }
   ],
   "source": [
    "#Looking at Electrical, there is one missing value\n",
    "#looking at the options\n",
    "train['Electrical'].unique()"
   ]
  },
  {
   "cell_type": "code",
   "execution_count": 15,
   "id": "1b47a41a",
   "metadata": {},
   "outputs": [
    {
     "data": {
      "text/plain": [
       "SBrkr    1334\n",
       "FuseA      94\n",
       "FuseF      27\n",
       "FuseP       3\n",
       "Mix         1\n",
       "Name: Electrical, dtype: int64"
      ]
     },
     "execution_count": 15,
     "metadata": {},
     "output_type": "execute_result"
    }
   ],
   "source": [
    "#Looking at Electrical value counts\n",
    "train['Electrical'].value_counts()"
   ]
  },
  {
   "cell_type": "code",
   "execution_count": 16,
   "id": "3c67923e",
   "metadata": {},
   "outputs": [
    {
     "name": "stdout",
     "output_type": "stream",
     "text": [
      "(1460, 81)\n"
     ]
    },
    {
     "data": {
      "text/plain": [
       "(1459, 81)"
      ]
     },
     "execution_count": 16,
     "metadata": {},
     "output_type": "execute_result"
    }
   ],
   "source": [
    "#going to drop the Electrical observation that is missing data\n",
    "print(train.shape)\n",
    "train.drop(np.where(train['Electrical'].isna())[0], axis = 0, inplace = True)\n",
    "train.shape"
   ]
  },
  {
   "cell_type": "code",
   "execution_count": 17,
   "id": "88ff5f47",
   "metadata": {
    "scrolled": true
   },
   "outputs": [
    {
     "data": {
      "image/png": "[encoded data removed]",
      "text/plain": [
       "<Figure size 72x288 with 1 Axes>"
      ]
     },
     "metadata": {
      "needs_background": "light"
     },
     "output_type": "display_data"
    },
    {
     "data": {
      "text/html": [
       "<div>\n",
       "<style scoped>\n",
       "    .dataframe tbody tr th:only-of-type {\n",
       "        vertical-align: middle;\n",
       "    }\n",
       "\n",
       "    .dataframe tbody tr th {\n",
       "        vertical-align: top;\n",
       "    }\n",
       "\n",
       "    .dataframe thead th {\n",
       "        text-align: right;\n",
       "    }\n",
       "</style>\n",
       "<table border=\"1\" class=\"dataframe\">\n",
       "  <thead>\n",
       "    <tr style=\"text-align: right;\">\n",
       "      <th></th>\n",
       "      <th>Number</th>\n",
       "      <th>Percent</th>\n",
       "    </tr>\n",
       "  </thead>\n",
       "  <tbody>\n",
       "    <tr>\n",
       "      <th>LotFrontage</th>\n",
       "      <td>259</td>\n",
       "      <td>0.177519</td>\n",
       "    </tr>\n",
       "    <tr>\n",
       "      <th>GarageYrBlt</th>\n",
       "      <td>81</td>\n",
       "      <td>0.055517</td>\n",
       "    </tr>\n",
       "  </tbody>\n",
       "</table>\n",
       "</div>"
      ],
      "text/plain": [
       "             Number   Percent\n",
       "LotFrontage     259  0.177519\n",
       "GarageYrBlt      81  0.055517"
      ]
     },
     "execution_count": 17,
     "metadata": {},
     "output_type": "execute_result"
    }
   ],
   "source": [
    "help_missing('Round Three: Final Features with Missing Data')"
   ]
  },
  {
   "cell_type": "code",
   "execution_count": 18,
   "id": "cd18a40e",
   "metadata": {},
   "outputs": [
    {
     "name": "stdout",
     "output_type": "stream",
     "text": [
      "count    1378.000000\n",
      "mean     1978.485486\n",
      "std        24.686740\n",
      "min      1900.000000\n",
      "25%      1961.000000\n",
      "50%      1980.000000\n",
      "75%      2002.000000\n",
      "max      2010.000000\n",
      "Name: GarageYrBlt, dtype: float64\n",
      "Earliest Garage built was in :  1900.0\n"
     ]
    }
   ],
   "source": [
    "#Looking at Garage Year Built\n",
    "print(train['GarageYrBlt'].describe())\n",
    "print('Earliest Garage built was in : ', train['GarageYrBlt'].min())"
   ]
  },
  {
   "cell_type": "code",
   "execution_count": 19,
   "id": "9dd12f47",
   "metadata": {
    "scrolled": true
   },
   "outputs": [
    {
     "data": {
      "text/html": [
       "<div>\n",
       "<style scoped>\n",
       "    .dataframe tbody tr th:only-of-type {\n",
       "        vertical-align: middle;\n",
       "    }\n",
       "\n",
       "    .dataframe tbody tr th {\n",
       "        vertical-align: top;\n",
       "    }\n",
       "\n",
       "    .dataframe thead th {\n",
       "        text-align: right;\n",
       "    }\n",
       "</style>\n",
       "<table border=\"1\" class=\"dataframe\">\n",
       "  <thead>\n",
       "    <tr style=\"text-align: right;\">\n",
       "      <th></th>\n",
       "      <th>GarageYrBlt</th>\n",
       "      <th>YearBuilt</th>\n",
       "    </tr>\n",
       "  </thead>\n",
       "  <tbody>\n",
       "    <tr>\n",
       "      <th>0</th>\n",
       "      <td>2003.0</td>\n",
       "      <td>2003.0</td>\n",
       "    </tr>\n",
       "    <tr>\n",
       "      <th>1</th>\n",
       "      <td>1976.0</td>\n",
       "      <td>1976.0</td>\n",
       "    </tr>\n",
       "    <tr>\n",
       "      <th>2</th>\n",
       "      <td>2001.0</td>\n",
       "      <td>2001.0</td>\n",
       "    </tr>\n",
       "    <tr>\n",
       "      <th>3</th>\n",
       "      <td>1998.0</td>\n",
       "      <td>1915.0</td>\n",
       "    </tr>\n",
       "    <tr>\n",
       "      <th>4</th>\n",
       "      <td>2000.0</td>\n",
       "      <td>2000.0</td>\n",
       "    </tr>\n",
       "    <tr>\n",
       "      <th>5</th>\n",
       "      <td>1993.0</td>\n",
       "      <td>1993.0</td>\n",
       "    </tr>\n",
       "    <tr>\n",
       "      <th>6</th>\n",
       "      <td>2004.0</td>\n",
       "      <td>2004.0</td>\n",
       "    </tr>\n",
       "    <tr>\n",
       "      <th>7</th>\n",
       "      <td>1973.0</td>\n",
       "      <td>1973.0</td>\n",
       "    </tr>\n",
       "    <tr>\n",
       "      <th>8</th>\n",
       "      <td>1931.0</td>\n",
       "      <td>1931.0</td>\n",
       "    </tr>\n",
       "    <tr>\n",
       "      <th>9</th>\n",
       "      <td>1939.0</td>\n",
       "      <td>1939.0</td>\n",
       "    </tr>\n",
       "    <tr>\n",
       "      <th>10</th>\n",
       "      <td>1965.0</td>\n",
       "      <td>1965.0</td>\n",
       "    </tr>\n",
       "    <tr>\n",
       "      <th>11</th>\n",
       "      <td>2005.0</td>\n",
       "      <td>2005.0</td>\n",
       "    </tr>\n",
       "    <tr>\n",
       "      <th>12</th>\n",
       "      <td>1962.0</td>\n",
       "      <td>1962.0</td>\n",
       "    </tr>\n",
       "    <tr>\n",
       "      <th>13</th>\n",
       "      <td>2006.0</td>\n",
       "      <td>2006.0</td>\n",
       "    </tr>\n",
       "    <tr>\n",
       "      <th>14</th>\n",
       "      <td>1960.0</td>\n",
       "      <td>1960.0</td>\n",
       "    </tr>\n",
       "    <tr>\n",
       "      <th>15</th>\n",
       "      <td>1991.0</td>\n",
       "      <td>1929.0</td>\n",
       "    </tr>\n",
       "    <tr>\n",
       "      <th>16</th>\n",
       "      <td>1970.0</td>\n",
       "      <td>1970.0</td>\n",
       "    </tr>\n",
       "    <tr>\n",
       "      <th>17</th>\n",
       "      <td>1967.0</td>\n",
       "      <td>1967.0</td>\n",
       "    </tr>\n",
       "    <tr>\n",
       "      <th>18</th>\n",
       "      <td>2004.0</td>\n",
       "      <td>2004.0</td>\n",
       "    </tr>\n",
       "    <tr>\n",
       "      <th>19</th>\n",
       "      <td>1958.0</td>\n",
       "      <td>1958.0</td>\n",
       "    </tr>\n",
       "  </tbody>\n",
       "</table>\n",
       "</div>"
      ],
      "text/plain": [
       "    GarageYrBlt  YearBuilt\n",
       "0        2003.0     2003.0\n",
       "1        1976.0     1976.0\n",
       "2        2001.0     2001.0\n",
       "3        1998.0     1915.0\n",
       "4        2000.0     2000.0\n",
       "5        1993.0     1993.0\n",
       "6        2004.0     2004.0\n",
       "7        1973.0     1973.0\n",
       "8        1931.0     1931.0\n",
       "9        1939.0     1939.0\n",
       "10       1965.0     1965.0\n",
       "11       2005.0     2005.0\n",
       "12       1962.0     1962.0\n",
       "13       2006.0     2006.0\n",
       "14       1960.0     1960.0\n",
       "15       1991.0     1929.0\n",
       "16       1970.0     1970.0\n",
       "17       1967.0     1967.0\n",
       "18       2004.0     2004.0\n",
       "19       1958.0     1958.0"
      ]
     },
     "execution_count": 19,
     "metadata": {},
     "output_type": "execute_result"
    }
   ],
   "source": [
    "#Looking at Garage Year Built side by side with Year House was Built\n",
    "# converting both years to numerical\n",
    "train['GarageYrBlt'] = train['GarageYrBlt'].astype(float)\n",
    "train['YearBuilt'] = train['YearBuilt'].astype(float)\n",
    "train[['GarageYrBlt', 'YearBuilt']].head(20)"
   ]
  },
  {
   "cell_type": "code",
   "execution_count": 20,
   "id": "f590f514",
   "metadata": {},
   "outputs": [],
   "source": [
    "#imputing Garage year as year house was built for missing values\n",
    "train['GarageYrBlt'].fillna(train.YearBuilt, inplace=True)"
   ]
  },
  {
   "cell_type": "code",
   "execution_count": 21,
   "id": "6a3199d9",
   "metadata": {
    "scrolled": true
   },
   "outputs": [
    {
     "data": {
      "image/png": "[encoded data removed]",
      "text/plain": [
       "<Figure size 36x288 with 1 Axes>"
      ]
     },
     "metadata": {
      "needs_background": "light"
     },
     "output_type": "display_data"
    },
    {
     "data": {
      "text/html": [
       "<div>\n",
       "<style scoped>\n",
       "    .dataframe tbody tr th:only-of-type {\n",
       "        vertical-align: middle;\n",
       "    }\n",
       "\n",
       "    .dataframe tbody tr th {\n",
       "        vertical-align: top;\n",
       "    }\n",
       "\n",
       "    .dataframe thead th {\n",
       "        text-align: right;\n",
       "    }\n",
       "</style>\n",
       "<table border=\"1\" class=\"dataframe\">\n",
       "  <thead>\n",
       "    <tr style=\"text-align: right;\">\n",
       "      <th></th>\n",
       "      <th>Number</th>\n",
       "      <th>Percent</th>\n",
       "    </tr>\n",
       "  </thead>\n",
       "  <tbody>\n",
       "    <tr>\n",
       "      <th>LotFrontage</th>\n",
       "      <td>259</td>\n",
       "      <td>0.177519</td>\n",
       "    </tr>\n",
       "  </tbody>\n",
       "</table>\n",
       "</div>"
      ],
      "text/plain": [
       "             Number   Percent\n",
       "LotFrontage     259  0.177519"
      ]
     },
     "execution_count": 21,
     "metadata": {},
     "output_type": "execute_result"
    }
   ],
   "source": [
    "help_missing('Final Features with Missing Data')"
   ]
  },
  {
   "cell_type": "code",
   "execution_count": 22,
   "id": "bab422c2",
   "metadata": {
    "scrolled": true
   },
   "outputs": [
    {
     "data": {
      "text/plain": [
       "RL    229\n",
       "RM     19\n",
       "FV      8\n",
       "RH      3\n",
       "Name: MSZoning, dtype: int64"
      ]
     },
     "execution_count": 22,
     "metadata": {},
     "output_type": "execute_result"
    }
   ],
   "source": [
    "#Looking at LotFrontage\n",
    "#trying to see if these homes maybe don't have any street\n",
    "#maybe high density aka condos or apartments?\n",
    "train[train['LotFrontage'].isnull()]['MSZoning'].value_counts()"
   ]
  },
  {
   "cell_type": "code",
   "execution_count": null,
   "id": "ec4eb799",
   "metadata": {
    "scrolled": true
   },
   "outputs": [],
   "source": [
    "#trying again, with type of dwelling\n",
    "train[train['LotFrontage'].isnull()]['MSSubClass'].value_counts()"
   ]
  },
  {
   "cell_type": "code",
   "execution_count": null,
   "id": "3781e703",
   "metadata": {},
   "outputs": [],
   "source": [
    "#trying again with lot configuration\n",
    "train[train['LotFrontage'].isnull()]['LotConfig'].value_counts()"
   ]
  },
  {
   "cell_type": "code",
   "execution_count": null,
   "id": "e1d16064",
   "metadata": {},
   "outputs": [],
   "source": [
    "#visualizing with a count plot\n",
    "sns.countplot(x=train[train['LotFrontage'].isnull()]['LotConfig'],\n",
    "              data = train[train['LotFrontage'].isnull()],\n",
    "             order = ['Inside', 'Corner', 'CulDSac', 'FR2', 'FR3'])"
   ]
  },
  {
   "cell_type": "code",
   "execution_count": null,
   "id": "24d196b2",
   "metadata": {
    "scrolled": true
   },
   "outputs": [],
   "source": [
    "#comparing this with value counts of lot config across dataset\n",
    "print(train.LotConfig.value_counts())\n",
    "#visualizing with a count plot\n",
    "sns.countplot(x=train['LotConfig'],\n",
    "              data = train,\n",
    "             order = ['Inside', 'Corner', 'CulDSac', 'FR2', 'FR3'])"
   ]
  },
  {
   "cell_type": "markdown",
   "id": "e7b9cb42",
   "metadata": {},
   "source": [
    "We could impute the missing values of Lot Frontage as the mean or median of the Lot Configuration. It would make sense that different types of Lot configuration might have more or less lot frontage.\n",
    "\n",
    "Let's take a look at the distributions of Lot Frontage based on Lot Configuration"
   ]
  },
  {
   "cell_type": "code",
   "execution_count": null,
   "id": "70dd7ba7",
   "metadata": {
    "scrolled": true
   },
   "outputs": [],
   "source": [
    "#boxplot of Lot Frontage based on Lot Configuration\n",
    "sns.boxplot(x='LotConfig',\n",
    "            y = 'LotFrontage',\n",
    "            order = ['Inside', 'Corner', 'CulDSac', 'FR2', 'FR3'],\n",
    "            data = train);"
   ]
  },
  {
   "cell_type": "markdown",
   "id": "79b62cab",
   "metadata": {},
   "source": [
    "Immediately noticing some outliers in Lot Frontage, we will deal with those next.\n",
    "\n",
    "The box plot shows that the amount of Lot Frontage of each property does change based on Lot Configuration. To be sure, let's run an ANOVA."
   ]
  },
  {
   "cell_type": "code",
   "execution_count": null,
   "id": "2caf7e68",
   "metadata": {},
   "outputs": [],
   "source": [
    "#Running an ANOVA to make sure the group means are different\n",
    "model = ols('LotFrontage ~ C(LotConfig)', data = train).fit()\n",
    "anova_tbl = sm.stats.anova_lm(model, typ=2)\n",
    "effect_size = anova_tbl['sum_sq'][0]/(anova_tbl['sum_sq'][0]+anova_tbl['sum_sq'][1])\n",
    "        \n",
    "p_val = round(anova_tbl['PR(>F)'][0], 5)\n",
    "print('ANOVA p-val and effect size for classes of Lot Config is :', p_val, ' and ', round(effect_size, 5))"
   ]
  },
  {
   "cell_type": "code",
   "execution_count": null,
   "id": "778ea54c",
   "metadata": {},
   "outputs": [],
   "source": [
    "#imputing median values for missing Lot Config values\n",
    "\n",
    "print(train['LotFrontage'].mean())\n",
    "print(train['LotFrontage'].median())\n",
    "\n",
    "#Noticing that the mean and the median for the entire Lot Frontage series are very close"
   ]
  },
  {
   "cell_type": "code",
   "execution_count": null,
   "id": "92e954c2",
   "metadata": {
    "scrolled": true
   },
   "outputs": [],
   "source": [
    "#imputing median LotFrontage value based on each LotConfig group\n",
    "count = 0\n",
    "for (idx, LotConfig) in train[train['LotFrontage'].isnull()].iterrows():\n",
    "    config = train['LotConfig'][idx]\n",
    "    dict1 = train.groupby(['LotConfig']).median()[['LotFrontage']].to_dict()\n",
    "    train['LotFrontage'][idx] = dict1['LotFrontage'][config]\n",
    "    count += 1\n",
    "print(count)"
   ]
  },
  {
   "cell_type": "code",
   "execution_count": null,
   "id": "c53c06ec",
   "metadata": {},
   "outputs": [],
   "source": [
    "#testing to see if it worked\n",
    "train['LotFrontage'].isnull().sum()"
   ]
  },
  {
   "cell_type": "markdown",
   "id": "a5fbcc4e",
   "metadata": {},
   "source": [
    "<p><a name=\"OT\"></a></p>\n",
    "\n",
    "### 2.3 Handling Outliers"
   ]
  },
  {
   "cell_type": "markdown",
   "id": "7536b3ac",
   "metadata": {},
   "source": [
    "In Professor De Cock's original paper, he recommends removing outliers from GrLivArea. We will look at these first:"
   ]
  },
  {
   "cell_type": "code",
   "execution_count": null,
   "id": "22aa1b3e",
   "metadata": {},
   "outputs": [],
   "source": [
    "#Setting a Z-value threshold of 4.0\n",
    "obs_to_drop = []\n",
    "\n",
    "z_scores = stats.zscore(train[num_var][['GrLivArea']])\n",
    "obs_to_drop += np.where(abs(z_scores) > 4.0)[0].tolist()\n",
    "obs_to_drop"
   ]
  },
  {
   "cell_type": "markdown",
   "id": "165c26f7",
   "metadata": {},
   "source": [
    "Creating a dictionary of observations that are outliers for the other numerical variables:"
   ]
  },
  {
   "cell_type": "code",
   "execution_count": null,
   "id": "a7f1eceb",
   "metadata": {},
   "outputs": [],
   "source": [
    "ot_dict = {}\n",
    "for var in num_var:\n",
    "    z_scores = stats.zscore(train[num_var][[var]])\n",
    "    outliers = np.where(abs(z_scores)> 4.0)[0].tolist()\n",
    "    ot_dict[var] = outliers"
   ]
  },
  {
   "cell_type": "code",
   "execution_count": null,
   "id": "caaa235a",
   "metadata": {},
   "outputs": [],
   "source": [
    "ot_dict.keys()"
   ]
  },
  {
   "cell_type": "markdown",
   "id": "923218bc",
   "metadata": {},
   "source": [
    "Of the features with outliers, taking a deeper look at LotArea, GrLivArea"
   ]
  },
  {
   "cell_type": "code",
   "execution_count": null,
   "id": "b7c8ea40",
   "metadata": {
    "scrolled": true
   },
   "outputs": [],
   "source": [
    "#Looking at Lot Area Outliers\n",
    "train['LotArea'].describe()"
   ]
  },
  {
   "cell_type": "code",
   "execution_count": null,
   "id": "083b8fba",
   "metadata": {},
   "outputs": [],
   "source": [
    "sns.scatterplot(x='LotArea', y = 'SalePrice',\n",
    "                          data=train)"
   ]
  },
  {
   "cell_type": "code",
   "execution_count": null,
   "id": "25791c72",
   "metadata": {},
   "outputs": [],
   "source": [
    "train.loc[ot_dict['LotArea']]"
   ]
  },
  {
   "cell_type": "code",
   "execution_count": null,
   "id": "da021740",
   "metadata": {},
   "outputs": [],
   "source": [
    "obs_to_drop += ot_dict['LotArea']"
   ]
  },
  {
   "cell_type": "code",
   "execution_count": null,
   "id": "2c4458d9",
   "metadata": {},
   "outputs": [],
   "source": [
    "#Looking at GrLivArea outliers\n",
    "train['LotArea'].describe()"
   ]
  },
  {
   "cell_type": "code",
   "execution_count": null,
   "id": "3cce9562",
   "metadata": {
    "scrolled": true
   },
   "outputs": [],
   "source": [
    "sns.scatterplot(x='GrLivArea', y = 'SalePrice',\n",
    "                          data=train)"
   ]
  },
  {
   "cell_type": "markdown",
   "id": "d18ed41f",
   "metadata": {},
   "source": [
    "Can clearly see some unusual outliers in GrLivArea"
   ]
  },
  {
   "cell_type": "code",
   "execution_count": null,
   "id": "ddc7f1fa",
   "metadata": {},
   "outputs": [],
   "source": [
    "train.loc[ot_dict['GrLivArea']]"
   ]
  },
  {
   "cell_type": "code",
   "execution_count": null,
   "id": "47bd7ef2",
   "metadata": {},
   "outputs": [],
   "source": [
    "obs_to_drop += ot_dict['GrLivArea']"
   ]
  },
  {
   "cell_type": "code",
   "execution_count": null,
   "id": "c90f59e4",
   "metadata": {},
   "outputs": [],
   "source": [
    "print(set(obs_to_drop))\n",
    "print('Need to drop ' , len(set(obs_to_drop)), ' observations.')"
   ]
  },
  {
   "cell_type": "code",
   "execution_count": null,
   "id": "62e6c4f1",
   "metadata": {},
   "outputs": [],
   "source": [
    "train.shape"
   ]
  },
  {
   "cell_type": "markdown",
   "id": "1ca5185d",
   "metadata": {},
   "source": [
    "<p><a name=\"SP\"></a></p>\n",
    "\n",
    "### 2.4 Summary of Data Cleaning\n",
    "\n"
   ]
  },
  {
   "cell_type": "markdown",
   "id": "53466bd5",
   "metadata": {},
   "source": [
    "<p><a name=\"EDA\"></a></p>\n",
    "\n",
    "## 3. Exploratory Data Analysis"
   ]
  },
  {
   "cell_type": "markdown",
   "id": "795682dd",
   "metadata": {},
   "source": [
    "<p><a name=\"FP\"></a></p>\n",
    "\n",
    "### 3.1 First Pass - Visualization\n"
   ]
  },
  {
   "cell_type": "markdown",
   "id": "48a27eb5",
   "metadata": {},
   "source": [
    "#### 3.1.1 Dependant Variable - Sale Price"
   ]
  },
  {
   "cell_type": "code",
   "execution_count": null,
   "id": "c4c21689",
   "metadata": {
    "scrolled": true
   },
   "outputs": [],
   "source": [
    "#descriptive summary of Sale Price\n",
    "train['SalePrice'].describe()"
   ]
  },
  {
   "cell_type": "code",
   "execution_count": null,
   "id": "519e26e0",
   "metadata": {},
   "outputs": [],
   "source": [
    "#plotting a histogram using seaborn\n",
    "#histogram\n",
    "plt.figure(figsize=(16,8))\n",
    "sns.histplot(train.SalePrice, bins=30, kde=True)\n",
    "plt.title(\"Ames Property Sale Prices\")\n",
    "plt.xlabel(\"Sale Price ($)\")\n",
    "plt.ylabel(\"Count and Density\")\n",
    "plt.show()"
   ]
  },
  {
   "cell_type": "markdown",
   "id": "59439a13",
   "metadata": {},
   "source": [
    "Noticing that the dependent variable looks right skewed (aka not normally distributed)"
   ]
  },
  {
   "cell_type": "code",
   "execution_count": null,
   "id": "f57e83dd",
   "metadata": {},
   "outputs": [],
   "source": [
    "#checking Mean and Median\n",
    "print('Median: %f' % round(train.SalePrice.median()))\n",
    "print('Mean: %f' % round(train.SalePrice.mean()))\n",
    "#checking skewness and kurtosis\n",
    "print(\"Skewness: %f\" % train.SalePrice.skew())\n",
    "print(\"Kurtosis: %f\" % train.SalePrice.kurt())"
   ]
  },
  {
   "cell_type": "code",
   "execution_count": null,
   "id": "e091b3d7",
   "metadata": {
    "scrolled": false
   },
   "outputs": [],
   "source": [
    "#looking at potential outliers\n",
    "sns.boxplot(x = train.SalePrice, )\n",
    "plt.show()"
   ]
  },
  {
   "cell_type": "code",
   "execution_count": null,
   "id": "0598fa89",
   "metadata": {},
   "outputs": [],
   "source": [
    "ot_dict['SalePrice']"
   ]
  },
  {
   "cell_type": "code",
   "execution_count": null,
   "id": "0a50752e",
   "metadata": {
    "scrolled": true
   },
   "outputs": [],
   "source": [
    "train.loc[ot_dict['SalePrice']]"
   ]
  },
  {
   "cell_type": "markdown",
   "id": "ec499fdf",
   "metadata": {},
   "source": [
    "Noticing that there are only expensive property outliers in this dataset."
   ]
  },
  {
   "cell_type": "markdown",
   "id": "24289bfe",
   "metadata": {},
   "source": [
    "To ensure that the residuals of a linear model taken will be normal, we will take the log of the Sale Price instead of the Sale Price."
   ]
  },
  {
   "cell_type": "code",
   "execution_count": null,
   "id": "6b5198c5",
   "metadata": {},
   "outputs": [],
   "source": [
    "#adding a column for log sale price\n",
    "train['log_SalePrice'] = np.log(train['SalePrice'])"
   ]
  },
  {
   "cell_type": "code",
   "execution_count": null,
   "id": "fb501d8d",
   "metadata": {},
   "outputs": [],
   "source": [
    "#plotting a histogram using seaborn\n",
    "#histogram\n",
    "plt.figure(figsize=(16,8))\n",
    "sns.histplot(train.log_SalePrice, bins=30, kde=True)\n",
    "plt.title(\"Log of Ames Property Sale Prices\")\n",
    "plt.xlabel(\"Sale Price ($)\")\n",
    "plt.ylabel(\"Count and Density\")\n",
    "plt.show()"
   ]
  },
  {
   "cell_type": "code",
   "execution_count": null,
   "id": "21efa09f",
   "metadata": {},
   "outputs": [],
   "source": [
    "#checking Mean and Median\n",
    "print('Median: %f' % round(train.log_SalePrice.median()))\n",
    "print('Mean: %f' % round(train.log_SalePrice.mean()))\n",
    "#checking skewness and kurtosis\n",
    "print(\"Skewness: %f\" % train.log_SalePrice.skew())\n",
    "print(\"Kurtosis: %f\" % train.log_SalePrice.kurt())"
   ]
  },
  {
   "cell_type": "markdown",
   "id": "4d1e41aa",
   "metadata": {},
   "source": [
    "Much better!"
   ]
  },
  {
   "cell_type": "markdown",
   "id": "71f1ab82",
   "metadata": {},
   "source": [
    "Let's look at outliers for this new distribution"
   ]
  },
  {
   "cell_type": "code",
   "execution_count": null,
   "id": "9c2918b9",
   "metadata": {
    "scrolled": true
   },
   "outputs": [],
   "source": [
    "lg_spoutliers = df[np.abs(stats.zscore(train.log_SalePrice)) > 4]\n",
    "lgspoutliers.sort_values('log_SalePrice')"
   ]
  },
  {
   "cell_type": "markdown",
   "id": "67a40807",
   "metadata": {},
   "source": [
    "Much Better!"
   ]
  },
  {
   "cell_type": "markdown",
   "id": "eaca8a65",
   "metadata": {},
   "source": [
    "### 3.1.2 Independent Variables\n",
    "##### Categorical\n",
    "To get a sense of the independent variables in this dataset, we'll use a helper function to iterate through each categorical variable and look at:\n",
    "- percentage of missing data\n",
    "- value counts of observations\n",
    "- anomalies and outliers\n",
    "- distribution of variables via barplot and boxplot\n",
    "\n",
    "Changes to be made will be noted for feature engineering and feature selection."
   ]
  },
  {
   "cell_type": "code",
   "execution_count": null,
   "id": "d7c1f629",
   "metadata": {},
   "outputs": [],
   "source": [
    "cat_var"
   ]
  },
  {
   "cell_type": "markdown",
   "id": "6918b343",
   "metadata": {},
   "source": [
    "##### Numerical"
   ]
  },
  {
   "cell_type": "markdown",
   "id": "2ea1b4e4",
   "metadata": {},
   "source": [
    "<p><a name=\"SEDA\"></a></p>\n",
    "\n",
    "### 3.2 Summary of EDA Findings \n",
    "\n",
    "\n"
   ]
  },
  {
   "cell_type": "markdown",
   "id": "fe6c184b",
   "metadata": {},
   "source": [
    "# Testing Below this"
   ]
  },
  {
   "cell_type": "code",
   "execution_count": null,
   "id": "e7e1fab4",
   "metadata": {},
   "outputs": [],
   "source": [
    "def get_outliers(num_var):\n",
    "    ot_dict = {}\n",
    "    for var in num_var:\n",
    "        z_scores = stats.zscore(train[num_var][[var]])\n",
    "        outliers = np.where(abs(z_scores)> 4.0)[0].tolist()\n",
    "        ot_dict[var] = outliers\n",
    "    return ot_dict.keys()"
   ]
  },
  {
   "cell_type": "code",
   "execution_count": null,
   "id": "908c2f38",
   "metadata": {},
   "outputs": [],
   "source": [
    "def look_cat(varlist):\n",
    "    for var in varlist:\n",
    "        data = pd.concat([train['log_SalePrice'], train[var]], axis=1)\n",
    "        #info about missingness and value counts\n",
    "        num_miss = data[var].isnull().sum()\n",
    "        pct_miss = round(num_miss/data.shape[0]*100, 2)\n",
    "        print(var + ' has ' + str(num_miss) + ' missing observations, equal to ' + str(pct_miss) + '%')\n",
    "        print(train[var].value_counts(normalize = True))\n",
    "        \n",
    "         #Figures\n",
    "        sns.set_theme(style=\"whitegrid\")\n",
    "        med = data.groupby([var])['log_SalePrice'].median().sort_values(ascending = False).reset_index()\n",
    "        \n",
    "         #seaborn Count Plot\n",
    "        f, ax = plt.subplots(figsize = (6,4))\n",
    "        fig1 = sns.countplot(x=data[var],\n",
    "                      data=data,\n",
    "                     order = list(med[var]));\n",
    "        fig1.set(xlabel = var, ylabel = 'Count')\n",
    "        \n",
    "        \n",
    "        f, ax = plt.subplots(figsize = (6,4))\n",
    "        fig = sns.boxplot(x=var,\n",
    "                          y = 'log_SalePrice',\n",
    "                          order = list(med[var]),\n",
    "                          data=data);\n",
    "        plt.xticks(rotation=45)\n",
    "        fig.set(xlabel=var, ylabel='Log of Sale Price')\n",
    "        \n",
    "        yield fig"
   ]
  }
 ],
 "metadata": {
  "kernelspec": {
   "display_name": "Python 3",
   "language": "python",
   "name": "python3"
  },
  "language_info": {
   "codemirror_mode": {
    "name": "ipython",
    "version": 3
   },
   "file_extension": ".py",
   "mimetype": "text/x-python",
   "name": "python",
   "nbconvert_exporter": "python",
   "pygments_lexer": "ipython3",
   "version": "3.8.8"
  }
 },
 "nbformat": 4,
 "nbformat_minor": 5
}
