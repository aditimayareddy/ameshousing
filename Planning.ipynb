{
 "cells": [
  {
   "cell_type": "code",
   "execution_count": null,
   "id": "309df26c",
   "metadata": {},
   "outputs": [],
   "source": [
    "from sklearn import linear_model\n",
    "ols = linear_model.LinearRegression()\n",
    "\n",
    "# Also valid Python syntax:\n",
    "# from sklearn.linear_model import LinearRegression\n",
    "# ols = LinearRegression()"
   ]
  },
  {
   "cell_type": "markdown",
   "id": "0f4bea23",
   "metadata": {},
   "source": [
    "Some attributes and methods we will use for linear regression:\n",
    "\n",
    "coef_: Estimated coefficients ( 𝛽̂ 1 ,...) for the linear regression problem.\n",
    "intercept_: Independent term ( 𝛽̂ 0 ) in the linear model.\n",
    "fit(X, y): Fit linear model.\n",
    "predict(X): Predict using the linear model\n",
    "score(X, y): Returns the coefficient of determination  𝑅2  of the prediction."
   ]
  },
  {
   "cell_type": "code",
   "execution_count": null,
   "id": "4d1f7dde",
   "metadata": {},
   "outputs": [],
   "source": [
    "##fitting multiple linear regression\n",
    "\n",
    "ols.fit(x_m, y_m)\n",
    "print(\"beta_1, beta_2: \" + str(np.round(ols.coef_, 3)))\n",
    "print(\"beta_0: \" + str(np.round(ols.intercept_, 3)))\n",
    "print(\"RSS: %.2f\" % np.sum((ols.predict(x_m) - y_m) ** 2))\n",
    "print(\"R^2: %.5f\" % ols.score(x_m, y_m))"
   ]
  },
  {
   "cell_type": "code",
   "execution_count": null,
   "id": "ed827ee8",
   "metadata": {},
   "outputs": [],
   "source": [
    "try:  # train_test_split was moved in 0.18.0\n",
    "    from sklearn.model_selection import train_test_split\n",
    "except:  # Following import works through 0.19 but outputs a warning in 0.18\n",
    "    from sklearn.cross_validation import train_test_split\n",
    "X_train, X_test, y_train, y_test = train_test_split(df, y_bos, test_size=0.3, random_state=42)"
   ]
  },
  {
   "cell_type": "markdown",
   "id": "d4635013",
   "metadata": {},
   "source": [
    "Dean De Cock - http://jse.amstat.org/v19n3/decock.pdf"
   ]
  },
  {
   "cell_type": "code",
   "execution_count": null,
   "id": "791a6dad",
   "metadata": {},
   "outputs": [],
   "source": [
    "##getting data types\n",
    "\n",
    "churn = pd.read_csv('data/churn.csv.gz')\n",
    "churn.dtypes"
   ]
  }
 ],
 "metadata": {
  "kernelspec": {
   "display_name": "Python 3",
   "language": "python",
   "name": "python3"
  },
  "language_info": {
   "codemirror_mode": {
    "name": "ipython",
    "version": 3
   },
   "file_extension": ".py",
   "mimetype": "text/x-python",
   "name": "python",
   "nbconvert_exporter": "python",
   "pygments_lexer": "ipython3",
   "version": "3.8.8"
  }
 },
 "nbformat": 4,
 "nbformat_minor": 5
}
