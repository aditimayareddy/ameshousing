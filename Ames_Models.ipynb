{
 "cells": [
  {
   "cell_type": "markdown",
   "id": "a5dc8768",
   "metadata": {},
   "source": [
    "# Ames Housing Data Model Fitting, Evaluation and Selection"
   ]
  },
  {
   "cell_type": "markdown",
   "id": "fdd92985",
   "metadata": {},
   "source": [
    "This project aims to predict housing prices in Ames, Iowa based on the famous Ames Iowa Housing Dataset from the Ames City Assessor's Office, made available by Dean De Cock of Truman University in 2011. Professor De Cock's original paper can be found [here.](http://jse.amstat.org/v19n3/decock.pdf)\n",
    "\n",
    "Presentation Slides for this project can be found [here.](https://www.beautiful.ai/player/-N4J5UYshyuRtwl5G4I7)\n",
    "\n",
    "This notebook includes python code for model fitting, selection and evaluation as well as takeaways for potential home buyers, sellers and flippers in 2011. Data exploration, extraction, cleaning and transformation can be found in the Ames_EDA notebook.\n",
    "\n",
    "# Sections and steps\n",
    "\n",
    "- <a href=\"#SHP\">Reading in Data</a><br>\n",
    "    - Import Packages needed and helper module\n",
    "    - Read in training data\n",
    "    - Read in test data\n",
    "- <a href=\"#FS\">Feature Selection</a><br>\n",
    "    - Lasso Regression\n",
    "        - Randomized search range of alphas\n",
    "        - cross validation\n",
    "    - Feature Analysis\n",
    "    - Final Feature Selection\n",
    "    - Exporting Finalized Datasets\n",
    "- <a href=\"#LM\">Linear Models</a><br>\n",
    "    - MLR\n",
    "    - Ridge\n",
    "    - Elastic Net\n",
    "- <a href=\"#NLM\">Non-Linear Models</a><br>\n",
    "    - Random Forest\n",
    "        - grid search with 5 fold cross validation\n",
    "        - best hyperparameters\n",
    "    - Gradient Boosting Tree Model\n",
    "        - grid search with 5 fold cross validation\n",
    "        - best hyperparameters\n",
    "- <a href=\"#MES\">Model Evaluation and Selection</a><br>\n",
    "\n",
    "- <a href=\"#TKW\">Takeaways</a><br>\n",
    "    - Extracting Feature Importance with Ridge Regression\n",
    "    - Takeaways"
   ]
  },
  {
   "cell_type": "markdown",
   "id": "ee896128",
   "metadata": {},
   "source": [
    "<p><a name=\"IMP\"></a></p>\n",
    "\n",
    "## Importing Packages, Reading in Data"
   ]
  },
  {
   "cell_type": "markdown",
   "id": "f84f36af",
   "metadata": {},
   "source": [
    "### Importing helper module"
   ]
  },
  {
   "cell_type": "markdown",
   "id": "f615208d",
   "metadata": {},
   "source": [
    "### Reading in cleaned data"
   ]
  },
  {
   "cell_type": "markdown",
   "id": "09d12e1e",
   "metadata": {},
   "source": [
    "<p><a name=\"ER\"></a></p>\n",
    "\n",
    "## Feature Selection"
   ]
  },
  {
   "cell_type": "markdown",
   "id": "c6ed1b89",
   "metadata": {},
   "source": [
    "Lasso Regression\n",
    "Randomized search range of alphas\n",
    "cross validation\n",
    "Feature Analysis\n",
    "Final Feature Selection\n",
    "Exporting Finalized Datasets"
   ]
  },
  {
   "cell_type": "markdown",
   "id": "d212ebfb",
   "metadata": {},
   "source": [
    "<p><a name=\"LM\"></a></p>\n",
    "\n",
    "## Linear Models"
   ]
  },
  {
   "cell_type": "markdown",
   "id": "7c80896e",
   "metadata": {},
   "source": [
    "<p><a name=\"NLM\"></a></p>\n",
    "\n",
    "## Non Linear Models"
   ]
  },
  {
   "cell_type": "markdown",
   "id": "c6d007d0",
   "metadata": {},
   "source": [
    "<p><a name=\"MES\"></a></p>\n",
    "\n",
    "## Model Evaluation and Selection"
   ]
  },
  {
   "cell_type": "markdown",
   "id": "39faf1b0",
   "metadata": {},
   "source": [
    "<p><a name=\"TKW\"></a></p>\n",
    "\n",
    "## Takeaways"
   ]
  },
  {
   "cell_type": "code",
   "execution_count": null,
   "id": "a5244ba0",
   "metadata": {},
   "outputs": [],
   "source": []
  }
 ],
 "metadata": {
  "kernelspec": {
   "display_name": "Python 3",
   "language": "python",
   "name": "python3"
  },
  "language_info": {
   "codemirror_mode": {
    "name": "ipython",
    "version": 3
   },
   "file_extension": ".py",
   "mimetype": "text/x-python",
   "name": "python",
   "nbconvert_exporter": "python",
   "pygments_lexer": "ipython3",
   "version": "3.8.8"
  }
 },
 "nbformat": 4,
 "nbformat_minor": 5
}
