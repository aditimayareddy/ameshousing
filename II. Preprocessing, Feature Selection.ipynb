{
 "cells": [
  {
   "cell_type": "markdown",
   "id": "9a472aab",
   "metadata": {},
   "source": [
    "# Ames Housing Data Preprocessing and Feature Selection"
   ]
  },
  {
   "cell_type": "markdown",
   "id": "a53e3faf",
   "metadata": {},
   "source": [
    "This project aims to predict housing prices in Ames, Iowa based on the famous Ames Iowa Housing Dataset from the Ames City Assessor's Office, made available by Dean De Cock of Truman University in 2011. Professor De Cock's original paper can be found [here.](http://jse.amstat.org/v19n3/decock.pdf)\n",
    "\n",
    "Presentation Slides for this project can be found [here.](https://www.beautiful.ai/player/-N4J5UYshyuRtwl5G4I7)\n",
    "\n",
    "This notebook includes python code for data extraction, cleaning and transformation. Model Fitting and Analysis code can be found in the Ames_Models notebook.\n",
    "\n",
    "# Sections and steps\n",
    "\n",
    "- <a href=\"#IMP\">Reading in Data</a><br>\n",
    "- <a href=\"#PRE\">Second Pass - Bivariate Analysis and Statistics</a><br>\n",
    "    - Pearson's correlation for numerical variables\n",
    "    - ANOVA and condensing for categorical variables\n",
    "- <a href=\"#PRE\">Preparing Data for Models</a><br>\n",
    "    - Linear Models\n",
    "        -dummify categorical variables\n",
    "    - Non Linear Models\n",
    "        -label encode categorical variables\n",
    "- <a href=\"#PRE\">First Pass Linear Models</a><br>\n",
    "- <a href=\"#PRE\">Feature Selection</a><br>\n",
    "- <a href=\"#EXP\">Exporting Cleaned Datasets</a><br>"
   ]
  },
  {
   "cell_type": "markdown",
   "id": "3577f32b",
   "metadata": {},
   "source": [
    "<p><a name=\"IMP\"></a></p>\n",
    "\n",
    "## Importing Packages, Reading in Data"
   ]
  },
  {
   "cell_type": "code",
   "execution_count": 1,
   "id": "9dba07e1",
   "metadata": {},
   "outputs": [],
   "source": [
    "#packages\n",
    "import pandas as pd\n",
    "import numpy as np\n",
    "import matplotlib.pyplot as plt\n",
    "import seaborn as sns\n",
    "import scipy.stats as stats\n",
    "from scipy.stats import pearsonr\n",
    "from sklearn.linear_model import LinearRegression\n",
    "import statsmodels.api as sm\n",
    "from statsmodels.formula.api import ols\n",
    "\n",
    "#helper module\n",
    "from helper_module import *\n",
    "\n",
    "#setting options to view dataframe\n",
    "pd.set_option('display.max_rows', 500)\n",
    "pd.set_option('display.max_columns', 500)\n",
    "\n",
    "#warnings\n",
    "import warnings\n",
    "warnings.filterwarnings(\"ignore\")\n",
    "\n",
    "#helper module functionality\n",
    "%load_ext autoreload\n",
    "%autoreload 2"
   ]
  },
  {
   "cell_type": "markdown",
   "id": "3e42da00",
   "metadata": {},
   "source": [
    "#### Reading in train data"
   ]
  },
  {
   "cell_type": "code",
   "execution_count": 2,
   "id": "ce83e096",
   "metadata": {},
   "outputs": [
    {
     "name": "stdout",
     "output_type": "stream",
     "text": [
      "Read in Ames Housing Train Data - Shape: (1451, 69)\n"
     ]
    }
   ],
   "source": [
    "train = pd.read_csv('./data/cleaned/train_c.csv')\n",
    "train.head()\n",
    "#train.drop(['Unnamed: 0'], axis=1, inplace=True)\n",
    "print(f\"Read in Ames Housing Train Data - Shape: {train.shape}\")"
   ]
  },
  {
   "cell_type": "code",
   "execution_count": 3,
   "id": "f0becc90",
   "metadata": {},
   "outputs": [
    {
     "data": {
      "text/html": [
       "<div>\n",
       "<style scoped>\n",
       "    .dataframe tbody tr th:only-of-type {\n",
       "        vertical-align: middle;\n",
       "    }\n",
       "\n",
       "    .dataframe tbody tr th {\n",
       "        vertical-align: top;\n",
       "    }\n",
       "\n",
       "    .dataframe thead th {\n",
       "        text-align: right;\n",
       "    }\n",
       "</style>\n",
       "<table border=\"1\" class=\"dataframe\">\n",
       "  <thead>\n",
       "    <tr style=\"text-align: right;\">\n",
       "      <th></th>\n",
       "      <th>MSZoning</th>\n",
       "      <th>LotFrontage</th>\n",
       "      <th>LotArea</th>\n",
       "      <th>LotShape</th>\n",
       "      <th>LandContour</th>\n",
       "      <th>LotConfig</th>\n",
       "      <th>LandSlope</th>\n",
       "      <th>BldgType</th>\n",
       "      <th>OverallQual</th>\n",
       "      <th>OverallCond</th>\n",
       "      <th>RoofStyle</th>\n",
       "      <th>RoofMatl</th>\n",
       "      <th>Exterior1st</th>\n",
       "      <th>Exterior2nd</th>\n",
       "      <th>MasVnrType</th>\n",
       "      <th>MasVnrArea</th>\n",
       "      <th>ExterQual</th>\n",
       "      <th>ExterCond</th>\n",
       "      <th>Foundation</th>\n",
       "      <th>BsmtQual</th>\n",
       "      <th>BsmtCond</th>\n",
       "      <th>BsmtExposure</th>\n",
       "      <th>BsmtFinType1</th>\n",
       "      <th>BsmtFinSF1</th>\n",
       "      <th>BsmtFinType2</th>\n",
       "      <th>BsmtFinSF2</th>\n",
       "      <th>BsmtUnfSF</th>\n",
       "      <th>TotalBsmtSF</th>\n",
       "      <th>Heating</th>\n",
       "      <th>HeatingQC</th>\n",
       "      <th>CentralAir</th>\n",
       "      <th>Electrical</th>\n",
       "      <th>2ndFlrSF</th>\n",
       "      <th>LowQualFinSF</th>\n",
       "      <th>GrLivArea</th>\n",
       "      <th>BedroomAbvGr</th>\n",
       "      <th>KitchenAbvGr</th>\n",
       "      <th>KitchenQual</th>\n",
       "      <th>Functional</th>\n",
       "      <th>FireplaceQu</th>\n",
       "      <th>GarageType</th>\n",
       "      <th>GarageFinish</th>\n",
       "      <th>GarageCars</th>\n",
       "      <th>GarageQual</th>\n",
       "      <th>GarageCond</th>\n",
       "      <th>PavedDrive</th>\n",
       "      <th>WoodDeckSF</th>\n",
       "      <th>OpenPorchSF</th>\n",
       "      <th>EnclosedPorch</th>\n",
       "      <th>3SsnPorch</th>\n",
       "      <th>ScreenPorch</th>\n",
       "      <th>MoSold</th>\n",
       "      <th>SaleType</th>\n",
       "      <th>SaleCondition</th>\n",
       "      <th>SalePrice</th>\n",
       "      <th>log_SalePrice</th>\n",
       "      <th>AgeHome</th>\n",
       "      <th>YrsSnRmdl</th>\n",
       "      <th>TotBthrm</th>\n",
       "      <th>TotFloors</th>\n",
       "      <th>NeighbQual</th>\n",
       "      <th>HasFireplace</th>\n",
       "      <th>HasAlley</th>\n",
       "      <th>HasFence</th>\n",
       "      <th>HasPool</th>\n",
       "      <th>HasGarage</th>\n",
       "      <th>NearNeg</th>\n",
       "      <th>NearPos</th>\n",
       "    </tr>\n",
       "  </thead>\n",
       "  <tbody>\n",
       "    <tr>\n",
       "      <th>0</th>\n",
       "      <td>RL</td>\n",
       "      <td>65</td>\n",
       "      <td>8450</td>\n",
       "      <td>Reg</td>\n",
       "      <td>Lvl</td>\n",
       "      <td>Inside</td>\n",
       "      <td>Gtl</td>\n",
       "      <td>1Fam</td>\n",
       "      <td>7</td>\n",
       "      <td>5</td>\n",
       "      <td>Gable</td>\n",
       "      <td>CompShg</td>\n",
       "      <td>VinylSd</td>\n",
       "      <td>VinylSd</td>\n",
       "      <td>BrkFace</td>\n",
       "      <td>196</td>\n",
       "      <td>Gd</td>\n",
       "      <td>TA</td>\n",
       "      <td>PConc</td>\n",
       "      <td>Gd</td>\n",
       "      <td>TA</td>\n",
       "      <td>No</td>\n",
       "      <td>GLQ</td>\n",
       "      <td>706</td>\n",
       "      <td>Unf</td>\n",
       "      <td>0</td>\n",
       "      <td>150</td>\n",
       "      <td>856</td>\n",
       "      <td>GasA</td>\n",
       "      <td>Ex</td>\n",
       "      <td>Y</td>\n",
       "      <td>SBrkr</td>\n",
       "      <td>854</td>\n",
       "      <td>0</td>\n",
       "      <td>1710</td>\n",
       "      <td>3</td>\n",
       "      <td>1</td>\n",
       "      <td>Gd</td>\n",
       "      <td>Typ</td>\n",
       "      <td>NoFireplace</td>\n",
       "      <td>Attchd</td>\n",
       "      <td>RFn</td>\n",
       "      <td>2</td>\n",
       "      <td>TA</td>\n",
       "      <td>TA</td>\n",
       "      <td>Y</td>\n",
       "      <td>0</td>\n",
       "      <td>61</td>\n",
       "      <td>0</td>\n",
       "      <td>0</td>\n",
       "      <td>0</td>\n",
       "      <td>2</td>\n",
       "      <td>WD</td>\n",
       "      <td>Normal</td>\n",
       "      <td>208500</td>\n",
       "      <td>12.247694</td>\n",
       "      <td>5</td>\n",
       "      <td>5</td>\n",
       "      <td>3.5</td>\n",
       "      <td>1</td>\n",
       "      <td>TA</td>\n",
       "      <td>1</td>\n",
       "      <td>0</td>\n",
       "      <td>0</td>\n",
       "      <td>0</td>\n",
       "      <td>1</td>\n",
       "      <td>0</td>\n",
       "      <td>0</td>\n",
       "    </tr>\n",
       "    <tr>\n",
       "      <th>1</th>\n",
       "      <td>RL</td>\n",
       "      <td>80</td>\n",
       "      <td>9600</td>\n",
       "      <td>Reg</td>\n",
       "      <td>Lvl</td>\n",
       "      <td>FR2</td>\n",
       "      <td>Gtl</td>\n",
       "      <td>1Fam</td>\n",
       "      <td>6</td>\n",
       "      <td>8</td>\n",
       "      <td>Gable</td>\n",
       "      <td>CompShg</td>\n",
       "      <td>MetalSd</td>\n",
       "      <td>MetalSd</td>\n",
       "      <td>None</td>\n",
       "      <td>0</td>\n",
       "      <td>TA</td>\n",
       "      <td>TA</td>\n",
       "      <td>CBlock</td>\n",
       "      <td>Gd</td>\n",
       "      <td>TA</td>\n",
       "      <td>Gd</td>\n",
       "      <td>ALQ</td>\n",
       "      <td>978</td>\n",
       "      <td>Unf</td>\n",
       "      <td>0</td>\n",
       "      <td>284</td>\n",
       "      <td>1262</td>\n",
       "      <td>GasA</td>\n",
       "      <td>Ex</td>\n",
       "      <td>Y</td>\n",
       "      <td>SBrkr</td>\n",
       "      <td>0</td>\n",
       "      <td>0</td>\n",
       "      <td>1262</td>\n",
       "      <td>3</td>\n",
       "      <td>1</td>\n",
       "      <td>TA</td>\n",
       "      <td>Typ</td>\n",
       "      <td>TA</td>\n",
       "      <td>Attchd</td>\n",
       "      <td>RFn</td>\n",
       "      <td>2</td>\n",
       "      <td>TA</td>\n",
       "      <td>TA</td>\n",
       "      <td>Y</td>\n",
       "      <td>298</td>\n",
       "      <td>0</td>\n",
       "      <td>0</td>\n",
       "      <td>0</td>\n",
       "      <td>0</td>\n",
       "      <td>5</td>\n",
       "      <td>WD</td>\n",
       "      <td>Normal</td>\n",
       "      <td>181500</td>\n",
       "      <td>12.109011</td>\n",
       "      <td>31</td>\n",
       "      <td>31</td>\n",
       "      <td>2.5</td>\n",
       "      <td>1</td>\n",
       "      <td>Ex</td>\n",
       "      <td>1</td>\n",
       "      <td>0</td>\n",
       "      <td>0</td>\n",
       "      <td>0</td>\n",
       "      <td>1</td>\n",
       "      <td>1</td>\n",
       "      <td>0</td>\n",
       "    </tr>\n",
       "    <tr>\n",
       "      <th>2</th>\n",
       "      <td>RL</td>\n",
       "      <td>68</td>\n",
       "      <td>11250</td>\n",
       "      <td>IR1</td>\n",
       "      <td>Lvl</td>\n",
       "      <td>Inside</td>\n",
       "      <td>Gtl</td>\n",
       "      <td>1Fam</td>\n",
       "      <td>7</td>\n",
       "      <td>5</td>\n",
       "      <td>Gable</td>\n",
       "      <td>CompShg</td>\n",
       "      <td>VinylSd</td>\n",
       "      <td>VinylSd</td>\n",
       "      <td>BrkFace</td>\n",
       "      <td>162</td>\n",
       "      <td>Gd</td>\n",
       "      <td>TA</td>\n",
       "      <td>PConc</td>\n",
       "      <td>Gd</td>\n",
       "      <td>TA</td>\n",
       "      <td>Mn</td>\n",
       "      <td>GLQ</td>\n",
       "      <td>486</td>\n",
       "      <td>Unf</td>\n",
       "      <td>0</td>\n",
       "      <td>434</td>\n",
       "      <td>920</td>\n",
       "      <td>GasA</td>\n",
       "      <td>Ex</td>\n",
       "      <td>Y</td>\n",
       "      <td>SBrkr</td>\n",
       "      <td>866</td>\n",
       "      <td>0</td>\n",
       "      <td>1786</td>\n",
       "      <td>3</td>\n",
       "      <td>1</td>\n",
       "      <td>Gd</td>\n",
       "      <td>Typ</td>\n",
       "      <td>TA</td>\n",
       "      <td>Attchd</td>\n",
       "      <td>RFn</td>\n",
       "      <td>2</td>\n",
       "      <td>TA</td>\n",
       "      <td>TA</td>\n",
       "      <td>Y</td>\n",
       "      <td>0</td>\n",
       "      <td>42</td>\n",
       "      <td>0</td>\n",
       "      <td>0</td>\n",
       "      <td>0</td>\n",
       "      <td>9</td>\n",
       "      <td>WD</td>\n",
       "      <td>Normal</td>\n",
       "      <td>223500</td>\n",
       "      <td>12.317167</td>\n",
       "      <td>7</td>\n",
       "      <td>6</td>\n",
       "      <td>3.5</td>\n",
       "      <td>1</td>\n",
       "      <td>TA</td>\n",
       "      <td>1</td>\n",
       "      <td>0</td>\n",
       "      <td>0</td>\n",
       "      <td>0</td>\n",
       "      <td>1</td>\n",
       "      <td>0</td>\n",
       "      <td>0</td>\n",
       "    </tr>\n",
       "    <tr>\n",
       "      <th>3</th>\n",
       "      <td>RL</td>\n",
       "      <td>60</td>\n",
       "      <td>9550</td>\n",
       "      <td>IR1</td>\n",
       "      <td>Lvl</td>\n",
       "      <td>Corner</td>\n",
       "      <td>Gtl</td>\n",
       "      <td>1Fam</td>\n",
       "      <td>7</td>\n",
       "      <td>5</td>\n",
       "      <td>Gable</td>\n",
       "      <td>CompShg</td>\n",
       "      <td>Wd Sdng</td>\n",
       "      <td>Wd Shng</td>\n",
       "      <td>None</td>\n",
       "      <td>0</td>\n",
       "      <td>TA</td>\n",
       "      <td>TA</td>\n",
       "      <td>BrkTil</td>\n",
       "      <td>TA</td>\n",
       "      <td>Gd</td>\n",
       "      <td>No</td>\n",
       "      <td>ALQ</td>\n",
       "      <td>216</td>\n",
       "      <td>Unf</td>\n",
       "      <td>0</td>\n",
       "      <td>540</td>\n",
       "      <td>756</td>\n",
       "      <td>GasA</td>\n",
       "      <td>Gd</td>\n",
       "      <td>Y</td>\n",
       "      <td>SBrkr</td>\n",
       "      <td>756</td>\n",
       "      <td>0</td>\n",
       "      <td>1717</td>\n",
       "      <td>3</td>\n",
       "      <td>1</td>\n",
       "      <td>Gd</td>\n",
       "      <td>Typ</td>\n",
       "      <td>Gd</td>\n",
       "      <td>Detchd</td>\n",
       "      <td>Unf</td>\n",
       "      <td>3</td>\n",
       "      <td>TA</td>\n",
       "      <td>TA</td>\n",
       "      <td>Y</td>\n",
       "      <td>0</td>\n",
       "      <td>35</td>\n",
       "      <td>272</td>\n",
       "      <td>0</td>\n",
       "      <td>0</td>\n",
       "      <td>2</td>\n",
       "      <td>WD</td>\n",
       "      <td>Abnorml</td>\n",
       "      <td>140000</td>\n",
       "      <td>11.849398</td>\n",
       "      <td>91</td>\n",
       "      <td>36</td>\n",
       "      <td>2.0</td>\n",
       "      <td>1</td>\n",
       "      <td>Ex</td>\n",
       "      <td>1</td>\n",
       "      <td>0</td>\n",
       "      <td>0</td>\n",
       "      <td>0</td>\n",
       "      <td>1</td>\n",
       "      <td>0</td>\n",
       "      <td>0</td>\n",
       "    </tr>\n",
       "    <tr>\n",
       "      <th>4</th>\n",
       "      <td>RL</td>\n",
       "      <td>84</td>\n",
       "      <td>14260</td>\n",
       "      <td>IR1</td>\n",
       "      <td>Lvl</td>\n",
       "      <td>FR2</td>\n",
       "      <td>Gtl</td>\n",
       "      <td>1Fam</td>\n",
       "      <td>8</td>\n",
       "      <td>5</td>\n",
       "      <td>Gable</td>\n",
       "      <td>CompShg</td>\n",
       "      <td>VinylSd</td>\n",
       "      <td>VinylSd</td>\n",
       "      <td>BrkFace</td>\n",
       "      <td>350</td>\n",
       "      <td>Gd</td>\n",
       "      <td>TA</td>\n",
       "      <td>PConc</td>\n",
       "      <td>Gd</td>\n",
       "      <td>TA</td>\n",
       "      <td>Av</td>\n",
       "      <td>GLQ</td>\n",
       "      <td>655</td>\n",
       "      <td>Unf</td>\n",
       "      <td>0</td>\n",
       "      <td>490</td>\n",
       "      <td>1145</td>\n",
       "      <td>GasA</td>\n",
       "      <td>Ex</td>\n",
       "      <td>Y</td>\n",
       "      <td>SBrkr</td>\n",
       "      <td>1053</td>\n",
       "      <td>0</td>\n",
       "      <td>2198</td>\n",
       "      <td>4</td>\n",
       "      <td>1</td>\n",
       "      <td>Gd</td>\n",
       "      <td>Typ</td>\n",
       "      <td>TA</td>\n",
       "      <td>Attchd</td>\n",
       "      <td>RFn</td>\n",
       "      <td>3</td>\n",
       "      <td>TA</td>\n",
       "      <td>TA</td>\n",
       "      <td>Y</td>\n",
       "      <td>192</td>\n",
       "      <td>84</td>\n",
       "      <td>0</td>\n",
       "      <td>0</td>\n",
       "      <td>0</td>\n",
       "      <td>12</td>\n",
       "      <td>WD</td>\n",
       "      <td>Normal</td>\n",
       "      <td>250000</td>\n",
       "      <td>12.429216</td>\n",
       "      <td>8</td>\n",
       "      <td>8</td>\n",
       "      <td>3.5</td>\n",
       "      <td>1</td>\n",
       "      <td>Ex</td>\n",
       "      <td>1</td>\n",
       "      <td>0</td>\n",
       "      <td>0</td>\n",
       "      <td>0</td>\n",
       "      <td>1</td>\n",
       "      <td>0</td>\n",
       "      <td>0</td>\n",
       "    </tr>\n",
       "  </tbody>\n",
       "</table>\n",
       "</div>"
      ],
      "text/plain": [
       "  MSZoning  LotFrontage  LotArea LotShape LandContour LotConfig LandSlope  \\\n",
       "0       RL           65     8450      Reg         Lvl    Inside       Gtl   \n",
       "1       RL           80     9600      Reg         Lvl       FR2       Gtl   \n",
       "2       RL           68    11250      IR1         Lvl    Inside       Gtl   \n",
       "3       RL           60     9550      IR1         Lvl    Corner       Gtl   \n",
       "4       RL           84    14260      IR1         Lvl       FR2       Gtl   \n",
       "\n",
       "  BldgType  OverallQual  OverallCond RoofStyle RoofMatl Exterior1st  \\\n",
       "0     1Fam            7            5     Gable  CompShg     VinylSd   \n",
       "1     1Fam            6            8     Gable  CompShg     MetalSd   \n",
       "2     1Fam            7            5     Gable  CompShg     VinylSd   \n",
       "3     1Fam            7            5     Gable  CompShg     Wd Sdng   \n",
       "4     1Fam            8            5     Gable  CompShg     VinylSd   \n",
       "\n",
       "  Exterior2nd MasVnrType  MasVnrArea ExterQual ExterCond Foundation BsmtQual  \\\n",
       "0     VinylSd    BrkFace         196        Gd        TA      PConc       Gd   \n",
       "1     MetalSd       None           0        TA        TA     CBlock       Gd   \n",
       "2     VinylSd    BrkFace         162        Gd        TA      PConc       Gd   \n",
       "3     Wd Shng       None           0        TA        TA     BrkTil       TA   \n",
       "4     VinylSd    BrkFace         350        Gd        TA      PConc       Gd   \n",
       "\n",
       "  BsmtCond BsmtExposure BsmtFinType1  BsmtFinSF1 BsmtFinType2  BsmtFinSF2  \\\n",
       "0       TA           No          GLQ         706          Unf           0   \n",
       "1       TA           Gd          ALQ         978          Unf           0   \n",
       "2       TA           Mn          GLQ         486          Unf           0   \n",
       "3       Gd           No          ALQ         216          Unf           0   \n",
       "4       TA           Av          GLQ         655          Unf           0   \n",
       "\n",
       "   BsmtUnfSF  TotalBsmtSF Heating HeatingQC CentralAir Electrical  2ndFlrSF  \\\n",
       "0        150          856    GasA        Ex          Y      SBrkr       854   \n",
       "1        284         1262    GasA        Ex          Y      SBrkr         0   \n",
       "2        434          920    GasA        Ex          Y      SBrkr       866   \n",
       "3        540          756    GasA        Gd          Y      SBrkr       756   \n",
       "4        490         1145    GasA        Ex          Y      SBrkr      1053   \n",
       "\n",
       "   LowQualFinSF  GrLivArea  BedroomAbvGr  KitchenAbvGr KitchenQual Functional  \\\n",
       "0             0       1710             3             1          Gd        Typ   \n",
       "1             0       1262             3             1          TA        Typ   \n",
       "2             0       1786             3             1          Gd        Typ   \n",
       "3             0       1717             3             1          Gd        Typ   \n",
       "4             0       2198             4             1          Gd        Typ   \n",
       "\n",
       "   FireplaceQu GarageType GarageFinish  GarageCars GarageQual GarageCond  \\\n",
       "0  NoFireplace     Attchd          RFn           2         TA         TA   \n",
       "1           TA     Attchd          RFn           2         TA         TA   \n",
       "2           TA     Attchd          RFn           2         TA         TA   \n",
       "3           Gd     Detchd          Unf           3         TA         TA   \n",
       "4           TA     Attchd          RFn           3         TA         TA   \n",
       "\n",
       "  PavedDrive  WoodDeckSF  OpenPorchSF  EnclosedPorch  3SsnPorch  ScreenPorch  \\\n",
       "0          Y           0           61              0          0            0   \n",
       "1          Y         298            0              0          0            0   \n",
       "2          Y           0           42              0          0            0   \n",
       "3          Y           0           35            272          0            0   \n",
       "4          Y         192           84              0          0            0   \n",
       "\n",
       "   MoSold SaleType SaleCondition  SalePrice  log_SalePrice  AgeHome  \\\n",
       "0       2       WD        Normal     208500      12.247694        5   \n",
       "1       5       WD        Normal     181500      12.109011       31   \n",
       "2       9       WD        Normal     223500      12.317167        7   \n",
       "3       2       WD       Abnorml     140000      11.849398       91   \n",
       "4      12       WD        Normal     250000      12.429216        8   \n",
       "\n",
       "   YrsSnRmdl  TotBthrm  TotFloors NeighbQual  HasFireplace  HasAlley  \\\n",
       "0          5       3.5          1         TA             1         0   \n",
       "1         31       2.5          1         Ex             1         0   \n",
       "2          6       3.5          1         TA             1         0   \n",
       "3         36       2.0          1         Ex             1         0   \n",
       "4          8       3.5          1         Ex             1         0   \n",
       "\n",
       "   HasFence  HasPool  HasGarage  NearNeg  NearPos  \n",
       "0         0        0          1        0        0  \n",
       "1         0        0          1        1        0  \n",
       "2         0        0          1        0        0  \n",
       "3         0        0          1        0        0  \n",
       "4         0        0          1        0        0  "
      ]
     },
     "execution_count": 3,
     "metadata": {},
     "output_type": "execute_result"
    }
   ],
   "source": [
    "train.drop('Unnamed: 0', axis=1, inplace = True)\n",
    "train.head()"
   ]
  },
  {
   "cell_type": "code",
   "execution_count": 4,
   "id": "820bc207",
   "metadata": {
    "scrolled": false
   },
   "outputs": [
    {
     "data": {
      "text/plain": [
       "MSZoning          object\n",
       "LotFrontage        int64\n",
       "LotArea            int64\n",
       "LotShape          object\n",
       "LandContour       object\n",
       "LotConfig         object\n",
       "LandSlope         object\n",
       "BldgType          object\n",
       "OverallQual        int64\n",
       "OverallCond        int64\n",
       "RoofStyle         object\n",
       "RoofMatl          object\n",
       "Exterior1st       object\n",
       "Exterior2nd       object\n",
       "MasVnrType        object\n",
       "MasVnrArea         int64\n",
       "ExterQual         object\n",
       "ExterCond         object\n",
       "Foundation        object\n",
       "BsmtQual          object\n",
       "BsmtCond          object\n",
       "BsmtExposure      object\n",
       "BsmtFinType1      object\n",
       "BsmtFinSF1         int64\n",
       "BsmtFinType2      object\n",
       "BsmtFinSF2         int64\n",
       "BsmtUnfSF          int64\n",
       "TotalBsmtSF        int64\n",
       "Heating           object\n",
       "HeatingQC         object\n",
       "CentralAir        object\n",
       "Electrical        object\n",
       "2ndFlrSF           int64\n",
       "LowQualFinSF       int64\n",
       "GrLivArea          int64\n",
       "BedroomAbvGr       int64\n",
       "KitchenAbvGr       int64\n",
       "KitchenQual       object\n",
       "Functional        object\n",
       "FireplaceQu       object\n",
       "GarageType        object\n",
       "GarageFinish      object\n",
       "GarageCars         int64\n",
       "GarageQual        object\n",
       "GarageCond        object\n",
       "PavedDrive        object\n",
       "WoodDeckSF         int64\n",
       "OpenPorchSF        int64\n",
       "EnclosedPorch      int64\n",
       "3SsnPorch          int64\n",
       "ScreenPorch        int64\n",
       "MoSold             int64\n",
       "SaleType          object\n",
       "SaleCondition     object\n",
       "SalePrice          int64\n",
       "log_SalePrice    float64\n",
       "AgeHome            int64\n",
       "YrsSnRmdl          int64\n",
       "TotBthrm         float64\n",
       "TotFloors          int64\n",
       "NeighbQual        object\n",
       "HasFireplace       int64\n",
       "HasAlley           int64\n",
       "HasFence           int64\n",
       "HasPool            int64\n",
       "HasGarage          int64\n",
       "NearNeg            int64\n",
       "NearPos            int64\n",
       "dtype: object"
      ]
     },
     "execution_count": 4,
     "metadata": {},
     "output_type": "execute_result"
    }
   ],
   "source": [
    "train.dtypes"
   ]
  },
  {
   "cell_type": "code",
   "execution_count": 5,
   "id": "297718f1",
   "metadata": {},
   "outputs": [],
   "source": [
    "#making sure the binary variables are categorical\n",
    "for var in ['HasFireplace', 'HasFence', 'HasGarage', 'NearNeg']:\n",
    "    train[var]= train[var].astype(str)"
   ]
  },
  {
   "cell_type": "markdown",
   "id": "764ca652",
   "metadata": {},
   "source": [
    "<p><a name=\"PRE\"></a></p>\n",
    "\n",
    "## Preprocessing Data for Models"
   ]
  },
  {
   "cell_type": "code",
   "execution_count": null,
   "id": "45b66b43",
   "metadata": {
    "scrolled": true
   },
   "outputs": [],
   "source": [
    "cat_var = train.select_dtypes('O').columns.tolist()\n",
    "num_var = train.select_dtypes('number').columns.tolist()\n",
    "print(len(num_var),' numerical variables')\n",
    "print(len(cat_var),' categorical variables')"
   ]
  },
  {
   "cell_type": "code",
   "execution_count": null,
   "id": "8940f045",
   "metadata": {},
   "outputs": [],
   "source": [
    "SalePrice = train['SalePrice']\n",
    "log_Price = train['log_SalePrice']"
   ]
  },
  {
   "cell_type": "code",
   "execution_count": null,
   "id": "81271176",
   "metadata": {},
   "outputs": [],
   "source": [
    "train.drop('SalePrice', axis = 1, inplace = True)\n",
    "train.drop('log_SalePrice', axis = 1, inplace = True)"
   ]
  },
  {
   "cell_type": "markdown",
   "id": "fe8cefc7",
   "metadata": {},
   "source": [
    "### Linear Models\n",
    "#### Dummification of Categorical Variables"
   ]
  },
  {
   "cell_type": "code",
   "execution_count": null,
   "id": "7d0e89c8",
   "metadata": {},
   "outputs": [],
   "source": [
    "preproc = pd.get_dummies(train, columns = cat_var, drop_first=True)"
   ]
  },
  {
   "cell_type": "code",
   "execution_count": null,
   "id": "651f1469",
   "metadata": {},
   "outputs": [],
   "source": [
    "print(train.shape)\n",
    "print(preproc.shape)"
   ]
  },
  {
   "cell_type": "code",
   "execution_count": null,
   "id": "02cf0037",
   "metadata": {
    "scrolled": true
   },
   "outputs": [],
   "source": [
    "preproc.head()"
   ]
  },
  {
   "cell_type": "code",
   "execution_count": null,
   "id": "e520f52e",
   "metadata": {},
   "outputs": [],
   "source": [
    "from sklearn.model_selection import train_test_split\n",
    "\n",
    "X_train, X_test, y_train, y_test = train_test_split(\n",
    "preproc, log_Price, test_size = 0.3, random_state = 22)"
   ]
  },
  {
   "cell_type": "code",
   "execution_count": null,
   "id": "ef3358ac",
   "metadata": {
    "scrolled": true
   },
   "outputs": [],
   "source": [
    "X_train.head()"
   ]
  },
  {
   "cell_type": "markdown",
   "id": "d07affea",
   "metadata": {},
   "source": [
    "##### Standardizing numerical variables"
   ]
  },
  {
   "cell_type": "code",
   "execution_count": null,
   "id": "d26b0c1b",
   "metadata": {},
   "outputs": [],
   "source": [
    "nlist = list(train.select_dtypes('number'))\n",
    "print('Numerical Column Names: \\n', nlist)\n",
    "\n",
    "num_indx = []\n",
    "for nvar in nlist:\n",
    "    num_indx.append(train.select_dtypes('number').columns.get_loc(nvar))\n",
    "    \n",
    "print('\\nNumerical Columns Indices: \\n', num_indx)"
   ]
  },
  {
   "cell_type": "code",
   "execution_count": null,
   "id": "6229fe74",
   "metadata": {},
   "outputs": [],
   "source": [
    "num_indx"
   ]
  },
  {
   "cell_type": "code",
   "execution_count": null,
   "id": "71cd0b1b",
   "metadata": {},
   "outputs": [],
   "source": [
    "from sklearn.compose import ColumnTransformer\n",
    "from sklearn.preprocessing import StandardScaler\n",
    "\n",
    "t = [('num', StandardScaler(), num_indx)]\n",
    "transf = ColumnTransformer(transformers = t,\n",
    "                          remainder = 'passthrough')"
   ]
  },
  {
   "cell_type": "code",
   "execution_count": null,
   "id": "77009821",
   "metadata": {},
   "outputs": [],
   "source": [
    "num_indx"
   ]
  },
  {
   "cell_type": "code",
   "execution_count": null,
   "id": "22342bb8",
   "metadata": {},
   "outputs": [],
   "source": [
    "X_train_scaled = transf.fit_transform(X_train)\n",
    "X_test_scaled = transf.transform(X_test)"
   ]
  },
  {
   "cell_type": "code",
   "execution_count": null,
   "id": "01c915f6",
   "metadata": {
    "scrolled": true
   },
   "outputs": [],
   "source": [
    "X_train_scaled.shape"
   ]
  },
  {
   "cell_type": "code",
   "execution_count": null,
   "id": "1086f954",
   "metadata": {},
   "outputs": [],
   "source": [
    "def look_num(varlist):\n",
    "    count = 0\n",
    "    for var in varlist:\n",
    "        print(var)\n",
    "        x = X_train_scaled[:,count]\n",
    "        y = y_train\n",
    "        print('*'*50)\n",
    "            \n",
    "        #info about pearson's correlation\n",
    "        corr = pearsonr(x, y)\n",
    "        print('Pearsons correlation (r):', round(corr[0],3))\n",
    "        count += 1\n",
    "        print('*'*50)\n",
    "        \n",
    "        #Figures\n",
    "        sns.set_theme(style=\"whitegrid\")\n",
    "        \n",
    "        #seaborn Histogram\n",
    "        f, ax = plt.subplots(1, 2, figsize = (10,6))\n",
    "        sns.histplot(x=x, data=X_train_scaled, ax = ax[0])\n",
    "        plt.xticks(rotation = 45)\n",
    "        \n",
    "        #seaborn Scatterplot\n",
    "        sns.scatterplot(x=x, y = y, ax = ax[1])\n",
    "        plt.xticks(rotation=45)\n",
    "        \n",
    "        yield f.show()"
   ]
  },
  {
   "cell_type": "code",
   "execution_count": null,
   "id": "7b8f2c2e",
   "metadata": {},
   "outputs": [],
   "source": [
    "view_num = look_num(nlist)"
   ]
  },
  {
   "cell_type": "code",
   "execution_count": null,
   "id": "1dc99f8f",
   "metadata": {},
   "outputs": [],
   "source": [
    "next(view_num)"
   ]
  },
  {
   "cell_type": "markdown",
   "id": "c2eb6638",
   "metadata": {},
   "source": [
    "# TESTING\n"
   ]
  },
  {
   "cell_type": "code",
   "execution_count": null,
   "id": "548d4657",
   "metadata": {},
   "outputs": [],
   "source": [
    "def get_residuals(model, X, Y):\n",
    "    \n",
    "    residuals = Y - model.predict(X)\n",
    "    \n",
    "    return residuals"
   ]
  },
  {
   "cell_type": "code",
   "execution_count": null,
   "id": "18f0b818",
   "metadata": {},
   "outputs": [],
   "source": [
    "def model_evaluate(model, X, Y):\n",
    "    import numpy as np\n",
    "    from sklearn.metrics import mean_squared_error, r2_score\n",
    "\n",
    "    rmse = mean_squared_error(Y, \n",
    "                            model.predict(X), \n",
    "                            squared = False)\n",
    "    r2 = r2_score(Y, model.predict(X))\n",
    "    \n",
    "    if len(np.where(model.predict(X)>20)[0]) > 0: # specific to this dataset\n",
    "        # Issue, model prediction is too large\n",
    "        rmse_dollars = np.nan\n",
    "    else:\n",
    "        rmse_dollars = mean_squared_error(np.exp(Y), \n",
    "                            np.exp(model.predict(X)), \n",
    "                            squared = False)\n",
    "\n",
    "    print('RMSE Log Sale Price: ', rmse)\n",
    "    print('R^2: ', r2)\n",
    "    print('RMSE: $', rmse_dollars)\n",
    "    \n",
    "    return rmse, r2, rmse_dollars"
   ]
  },
  {
   "cell_type": "code",
   "execution_count": null,
   "id": "6a35a63b",
   "metadata": {},
   "outputs": [],
   "source": [
    "def plot_the_model(model, x_train, y_train, x_test, y_test):\n",
    "    import numpy as np\n",
    "    from matplotlib import pyplot as plt\n",
    "\n",
    "    fig, axs = plt.subplots(1,2) \n",
    "    fig.set_figheight(5)\n",
    "    fig.set_figwidth(10)\n",
    "\n",
    "    x = np.linspace(10, 14.5, 100)\n",
    "    y = np.linspace(10, 14.5, 100)\n",
    "    \n",
    "    # --------------------------------\n",
    "    # Plot the Actual vs. Predicted\n",
    "    # --------------------------------\n",
    "    axs[0].scatter(model.predict(x_train), \n",
    "         y_train, color='k')\n",
    "    axs[0].plot(x,y, 'r-')\n",
    " \n",
    "    axs[0].set_ylabel('Actual log of Sale Price')\n",
    "    axs[0].set_xlabel('Predicted log of Sale Price')\n",
    "    axs[0].tick_params(axis='x', rotation=45)\n",
    "    axs[0].legend(['line','Train'])\n",
    "    \n",
    "    axs[1].scatter(model.predict(x_test), \n",
    "         y_test, color='teal') \n",
    "    axs[1].plot(x,y, 'r-')\n",
    "\n",
    "    axs[1].set_ylabel('Actual log of Sale Price')\n",
    "    axs[1].set_xlabel('Predicted log of Sale Price')\n",
    "    axs[1].tick_params(axis='x', rotation=45)\n",
    "    axs[1].legend(['line','Test'])"
   ]
  },
  {
   "cell_type": "code",
   "execution_count": null,
   "id": "2f9bc674",
   "metadata": {},
   "outputs": [],
   "source": [
    "def get_linear_regress_model(X, Y):\n",
    "    from sklearn.linear_model import LinearRegression\n",
    "    lm = LinearRegression()\n",
    "    \n",
    "    model = lm.fit(X, Y)\n",
    "    print('LM model object created.')\n",
    "    \n",
    "    return model"
   ]
  },
  {
   "cell_type": "code",
   "execution_count": null,
   "id": "362f3514",
   "metadata": {},
   "outputs": [],
   "source": [
    "def get_lasso_model(X, Y):\n",
    "    from sklearn.linear_model import Lasso\n",
    "    from sklearn.model_selection import GridSearchCV\n",
    "    from sklearn.model_selection import KFold\n",
    "\n",
    "    skfold = KFold(n_splits=5, shuffle=True, random_state=0)\n",
    "    lasso_gs  = Lasso()\n",
    "    lasso_gs.set_params(normalize=False)\n",
    "\n",
    "    params = {\n",
    "        \"alpha\": [0.001, 0.002, 0.003, 0.004, 0.005, 0.006, 0.007, 0.008, 0.009, 0.01]\n",
    "    }\n",
    "\n",
    "    gs = GridSearchCV(lasso_gs, params, scoring = 'r2', cv=skfold)\n",
    "    gs.fit(X, Y)\n",
    "    \n",
    "    model = gs.best_estimator_\n",
    "    \n",
    "    print('Lasso model object created.')\n",
    "    print(gs.best_estimator_)\n",
    "    \n",
    "    return model"
   ]
  },
  {
   "cell_type": "code",
   "execution_count": null,
   "id": "a071988b",
   "metadata": {},
   "outputs": [],
   "source": [
    "def get_ridge_model(X, Y):\n",
    "    from sklearn.linear_model import Ridge\n",
    "    from sklearn.model_selection import GridSearchCV\n",
    "    from sklearn.model_selection import KFold\n",
    "\n",
    "    skfold = KFold(n_splits=3, shuffle=True, random_state=0)\n",
    "    ridge_gs  = Ridge()\n",
    "    ridge_gs.set_params(normalize=False)\n",
    "\n",
    "    params = {\n",
    "        \"alpha\": [0.001, 0.002, 0.003, 0.004, 0.005, 0.006, 0.007, 0.008, 0.009, 0.01]\n",
    "    }\n",
    "\n",
    "    gs = GridSearchCV(ridge_gs, params, scoring = 'r2', cv=skfold)\n",
    "    gs.fit(X, Y)\n",
    "    \n",
    "    model = gs.best_estimator_\n",
    "    \n",
    "    print('Ridge model object created.')\n",
    "    print(gs.best_estimator_)\n",
    "    \n",
    "    return model"
   ]
  },
  {
   "cell_type": "code",
   "execution_count": null,
   "id": "be733ae5",
   "metadata": {},
   "outputs": [],
   "source": [
    "def get_elasticNet_model(X, Y):\n",
    "    from sklearn.linear_model import ElasticNet\n",
    "    from sklearn.model_selection import GridSearchCV\n",
    "    from sklearn.model_selection import KFold\n",
    "\n",
    "    skfold = KFold(n_splits=3, shuffle=True, random_state=0)\n",
    "    elastic_gs  = ElasticNet()\n",
    "    elastic_gs.set_params(normalize=False)\n",
    "\n",
    "    params = [{\n",
    "        \"alpha\": [0.001, 0.002, 0.003, 0.004, 0.005, 0.006, 0.007, 0.008, 0.009, 0.01],\n",
    "        \"l1_ratio\":[0.10, 0.20, 0.30, 0.40, 0.50, 0.60, 0.70, 0.80, 0.90]\n",
    "    }]\n",
    "\n",
    "    gs = GridSearchCV(elastic_gs, params, scoring = 'r2', cv=skfold)\n",
    "    gs.fit(X_train_scaled, y_train)\n",
    "    \n",
    "    model = gs.best_estimator_\n",
    "    \n",
    "    print('Elastic Net model object created.')\n",
    "    print(gs.best_estimator_)\n",
    "    \n",
    "    return model"
   ]
  },
  {
   "cell_type": "code",
   "execution_count": null,
   "id": "1150208c",
   "metadata": {},
   "outputs": [],
   "source": [
    "# initializing these variables for model comparision\n",
    "model_descrp = []\n",
    "r2_log_train = []\n",
    "r2_log_test = []\n",
    "rmse_log_train = []\n",
    "rmse_log_test = []\n",
    "rmse_dollars_train = []\n",
    "rmse_dollars_test = []"
   ]
  },
  {
   "cell_type": "code",
   "execution_count": null,
   "id": "f8b5c827",
   "metadata": {},
   "outputs": [],
   "source": [
    "def append_myMetrics(which_model, r2_train, r2_test, rmse_train, rmse_test, rmse_train_dollars, rmse_test_dollars):\n",
    "    \n",
    "    r2_log_train_temp = r2_train\n",
    "    r2_log_test_temp = r2_test\n",
    "    rmse_log_train_temp = rmse_train\n",
    "    rmse_log_test_temp = rmse_test\n",
    "    rmse_dollars_train_temp = rmse_train_dollars\n",
    "    rmse_dollars_test_temp = rmse_test_dollars\n",
    "\n",
    "    model_descrp.append(which_model)\n",
    "    if r2_log_train_temp <= 1 and r2_log_train_temp > 0:\n",
    "        r2_log_train.append(r2_log_train_temp)\n",
    "    elif r2_log_train_temp > 1:   \n",
    "        r2_log_train.append(1000)\n",
    "    else:\n",
    "        r2_log_train.append(-1000)\n",
    "\n",
    "    if r2_log_test_temp <= 1 and r2_log_test_temp > 0:\n",
    "        r2_log_test.append(r2_log_test_temp)\n",
    "    elif r2_log_test_temp > 1:   \n",
    "        r2_log_test.append(1000)\n",
    "    else:\n",
    "        r2_log_test.append(-1000)\n",
    "    \n",
    "    if rmse_log_train_temp <= 10:\n",
    "        rmse_log_train.append(rmse_log_train_temp)\n",
    "    elif rmse_log_train_temp > 10:   \n",
    "        rmse_log_train.append(1000)\n",
    "\n",
    "    if rmse_log_test_temp <= 10:\n",
    "        rmse_log_test.append(rmse_log_test_temp)\n",
    "    elif rmse_log_test_temp > 10:   \n",
    "        rmse_log_test.append(1000)\n",
    "    \n",
    "    rmse_dollars_train.append(rmse_dollars_train_temp)\n",
    "    rmse_dollars_test.append(rmse_dollars_test_temp)"
   ]
  },
  {
   "cell_type": "code",
   "execution_count": null,
   "id": "f6cd7fb1",
   "metadata": {},
   "outputs": [],
   "source": [
    "#linear regression model\n",
    "lm_model = get_linear_regress_model(X_train_scaled, y_train)"
   ]
  },
  {
   "cell_type": "code",
   "execution_count": null,
   "id": "d040c836",
   "metadata": {},
   "outputs": [],
   "source": [
    "rmse_train, r2_train, rmse_train_dollars= model_evaluate(lm_model, X_train_scaled, y_train)"
   ]
  },
  {
   "cell_type": "code",
   "execution_count": null,
   "id": "20e5dd43",
   "metadata": {},
   "outputs": [],
   "source": [
    "rmse_test, r2_test, rmse_test_dollars= model_evaluate(lm_model, X_test_scaled, y_test)"
   ]
  },
  {
   "cell_type": "code",
   "execution_count": null,
   "id": "831001cf",
   "metadata": {},
   "outputs": [],
   "source": [
    "residuals_train = get_residuals(lm_model, X_train_scaled, y_train)\n",
    "plt.hist(residuals_train, 100, facecolor = 'teal');\n",
    "plt.title('Histograme of Residuals - Training Dataset')\n",
    "plt.ylabel('Counts')\n",
    "plt.xlabel('Residual')"
   ]
  },
  {
   "cell_type": "code",
   "execution_count": null,
   "id": "e4732fc9",
   "metadata": {
    "scrolled": true
   },
   "outputs": [],
   "source": [
    "residuals_test = get_residuals(lm_model, X_test_scaled, y_test)\n",
    "plt.hist(residuals_test, 100, facecolor = 'magenta');\n",
    "plt.title('Histograme of Residuals - Test Dataset')\n",
    "plt.ylabel('Counts')\n",
    "plt.xlabel('Residual')"
   ]
  },
  {
   "cell_type": "code",
   "execution_count": null,
   "id": "304cc2d2",
   "metadata": {
    "scrolled": true
   },
   "outputs": [],
   "source": [
    "print('Linear Regression Model - No Regularization');\n",
    "plot_the_model(lm_model, X_train_scaled, y_train, X_test_scaled, y_test)"
   ]
  },
  {
   "cell_type": "code",
   "execution_count": null,
   "id": "82786d16",
   "metadata": {},
   "outputs": [],
   "source": [
    "which_model = 'Linear Regression'\n",
    "append_myMetrics(which_model, r2_train, r2_test, rmse_train, rmse_test, rmse_train_dollars, rmse_test_dollars)"
   ]
  },
  {
   "cell_type": "code",
   "execution_count": null,
   "id": "81957b16",
   "metadata": {},
   "outputs": [],
   "source": [
    "#Lasso"
   ]
  },
  {
   "cell_type": "code",
   "execution_count": null,
   "id": "0ff9dfbf",
   "metadata": {},
   "outputs": [],
   "source": [
    "from sklearn.linear_model import Lasso\n",
    "lasso  = Lasso()\n",
    "lasso.set_params(normalize=False)\n",
    "lasso_scores_train = []\n",
    "lasso_scores_test  = []\n",
    "\n",
    "alphas = np.linspace(0.0001,0.05,100)\n",
    "coefs_lasso  = []\n",
    "\n",
    "for alpha in alphas:\n",
    "        lasso.set_params(alpha=alpha)\n",
    "        lasso.fit(X_train_scaled, y_train)  \n",
    "        coefs_lasso.append(lasso.coef_)\n",
    "        \n",
    "        lasso_scores_train.append(lasso.score(X_train_scaled, y_train))\n",
    "        lasso_scores_test.append(lasso.score(X_test_scaled, y_test))\n",
    "\n",
    "coefs_lasso = pd.DataFrame(coefs_lasso, index = alphas, columns = preproc.columns)  \n",
    "# coefs_lasso.head()"
   ]
  },
  {
   "cell_type": "code",
   "execution_count": null,
   "id": "8726ae92",
   "metadata": {},
   "outputs": [],
   "source": [
    "lasso_scores_train = np.array(lasso_scores_train) \n",
    "lasso_scores_test  = np.array(lasso_scores_test)"
   ]
  },
  {
   "cell_type": "code",
   "execution_count": null,
   "id": "8f6134a1",
   "metadata": {},
   "outputs": [],
   "source": [
    "plt.plot(alphas, lasso_scores_train, label=r'$train\\ R^2$')\n",
    "plt.plot(alphas, lasso_scores_test, label=r'$test\\ R^2$')\n",
    "plt.title(r'Lasso Train-Test $R^2$ Comparison')\n",
    "\n",
    "lasso_underfit = lasso_scores_train < lasso_scores_test\n",
    "first_underfit  = np.min(alphas[lasso_underfit])\n",
    "print('lambda = ', first_underfit)\n",
    "plt.axvline(first_underfit, linestyle='--', color='g', label='optimal lambda', alpha=0.4)\n",
    "\n",
    "plt.legend(loc=1)\n",
    "plt.xlabel(r'hyperparameter $\\lambda$')\n",
    "plt.ylabel(r'$R^2$')"
   ]
  },
  {
   "cell_type": "code",
   "execution_count": null,
   "id": "ef052cd4",
   "metadata": {},
   "outputs": [],
   "source": [
    "#Lasso 2.0"
   ]
  },
  {
   "cell_type": "code",
   "execution_count": null,
   "id": "d7b2dfd5",
   "metadata": {},
   "outputs": [],
   "source": [
    "lasso_model = get_lasso_model(X_train_scaled, y_train)"
   ]
  },
  {
   "cell_type": "code",
   "execution_count": null,
   "id": "ba79d17c",
   "metadata": {},
   "outputs": [],
   "source": [
    "rmse_train, r2_train, rmse_train_dollars= model_evaluate(lasso_model, X_train_scaled, y_train)"
   ]
  },
  {
   "cell_type": "code",
   "execution_count": null,
   "id": "9cb3a1bf",
   "metadata": {},
   "outputs": [],
   "source": [
    "rmse_test, r2_test, rmse_test_dollars= model_evaluate(lasso_model, X_test_scaled, y_test)"
   ]
  },
  {
   "cell_type": "code",
   "execution_count": null,
   "id": "de8fabb5",
   "metadata": {
    "scrolled": true
   },
   "outputs": [],
   "source": [
    "residuals_train = get_residuals(lasso_model, X_train_scaled, y_train)\n",
    "plt.hist(residuals_train, 100, facecolor = 'black');\n",
    "plt.title('Histograme of Residuals - Training Dataset')\n",
    "plt.ylabel('Counts')\n",
    "plt.xlabel('Residual')"
   ]
  },
  {
   "cell_type": "code",
   "execution_count": null,
   "id": "51319b68",
   "metadata": {
    "scrolled": true
   },
   "outputs": [],
   "source": [
    "residuals_test = get_residuals(lasso_model, X_test_scaled, y_test)\n",
    "plt.hist(residuals_test, 100, facecolor = 'magenta');\n",
    "plt.title('Histograme of Residuals - Test Dataset')\n",
    "plt.ylabel('Counts')\n",
    "plt.xlabel('Residual')"
   ]
  },
  {
   "cell_type": "code",
   "execution_count": null,
   "id": "b4dd1edc",
   "metadata": {
    "scrolled": true
   },
   "outputs": [],
   "source": [
    "print('Linear Regression Model - Lasso');\n",
    "plot_the_model(lasso_model, X_train_scaled, y_train, X_test_scaled, y_test)"
   ]
  },
  {
   "cell_type": "code",
   "execution_count": null,
   "id": "c369756f",
   "metadata": {},
   "outputs": [],
   "source": [
    "which_model = 'Lasso'\n",
    "append_myMetrics(which_model, r2_train, r2_test, rmse_train, rmse_test, rmse_train_dollars, rmse_test_dollars)"
   ]
  },
  {
   "cell_type": "code",
   "execution_count": null,
   "id": "fc1ded9e",
   "metadata": {},
   "outputs": [],
   "source": [
    "#Ridge"
   ]
  },
  {
   "cell_type": "code",
   "execution_count": null,
   "id": "b9723b5d",
   "metadata": {
    "scrolled": true
   },
   "outputs": [],
   "source": [
    "ridge_model = get_ridge_model(X_train_scaled, y_train)"
   ]
  },
  {
   "cell_type": "code",
   "execution_count": null,
   "id": "83259525",
   "metadata": {},
   "outputs": [],
   "source": [
    "rmse_train, r2_train, rmse_train_dollars= model_evaluate(ridge_model, X_train_scaled, y_train)"
   ]
  },
  {
   "cell_type": "code",
   "execution_count": null,
   "id": "daf5d3a3",
   "metadata": {},
   "outputs": [],
   "source": [
    "rmse_test, r2_test, rmse_test_dollars= model_evaluate(ridge_model, X_test_scaled, y_test)"
   ]
  },
  {
   "cell_type": "code",
   "execution_count": null,
   "id": "f2caea97",
   "metadata": {
    "scrolled": true
   },
   "outputs": [],
   "source": [
    "residuals_train = get_residuals(ridge_model, X_train_scaled, y_train)\n",
    "plt.hist(residuals_train, 100, facecolor = 'black');\n",
    "plt.title('Histograme of Residuals - Training Dataset')\n",
    "plt.ylabel('Counts')\n",
    "plt.xlabel('Residual')"
   ]
  },
  {
   "cell_type": "code",
   "execution_count": null,
   "id": "e158099a",
   "metadata": {
    "scrolled": true
   },
   "outputs": [],
   "source": [
    "residuals_test = get_residuals(ridge_model, X_test_scaled, y_test)\n",
    "plt.hist(residuals_test, 100, facecolor = 'magenta');\n",
    "plt.title('Histograme of Residuals - Test Dataset')\n",
    "plt.ylabel('Counts')\n",
    "plt.xlabel('Residual')"
   ]
  },
  {
   "cell_type": "code",
   "execution_count": null,
   "id": "d22c7377",
   "metadata": {
    "scrolled": true
   },
   "outputs": [],
   "source": [
    "print('Linear Regression Model - Ridge');\n",
    "plot_the_model(ridge_model, X_train_scaled, y_train, X_test_scaled, y_test)"
   ]
  },
  {
   "cell_type": "code",
   "execution_count": null,
   "id": "0b98291b",
   "metadata": {},
   "outputs": [],
   "source": [
    "which_model = 'Ridge'\n",
    "append_myMetrics(which_model, r2_train, r2_test, rmse_train, rmse_test, rmse_train_dollars, rmse_test_dollars)"
   ]
  },
  {
   "cell_type": "code",
   "execution_count": null,
   "id": "03d54bbd",
   "metadata": {},
   "outputs": [],
   "source": [
    "#Elastic Net"
   ]
  },
  {
   "cell_type": "code",
   "execution_count": null,
   "id": "5e341b26",
   "metadata": {},
   "outputs": [],
   "source": [
    "EN_model = get_elasticNet_model(X_train_scaled, y_train)"
   ]
  },
  {
   "cell_type": "code",
   "execution_count": null,
   "id": "263c2157",
   "metadata": {},
   "outputs": [],
   "source": [
    "rmse_train, r2_train, rmse_train_dollars= model_evaluate(EN_model, X_train_scaled, y_train)"
   ]
  },
  {
   "cell_type": "code",
   "execution_count": null,
   "id": "9efb1a55",
   "metadata": {},
   "outputs": [],
   "source": [
    "rmse_test, r2_test, rmse_test_dollars= model_evaluate(EN_model, X_test_scaled, y_test)"
   ]
  },
  {
   "cell_type": "code",
   "execution_count": null,
   "id": "5a0d6bf3",
   "metadata": {
    "scrolled": true
   },
   "outputs": [],
   "source": [
    "residuals_train = get_residuals(EN_model, X_train_scaled, y_train)\n",
    "plt.hist(residuals_train, 100, facecolor = 'black');\n",
    "plt.title('Histograme of Residuals - Training Dataset')\n",
    "plt.ylabel('Counts')\n",
    "plt.xlabel('Residual')"
   ]
  },
  {
   "cell_type": "code",
   "execution_count": null,
   "id": "a9e1cedd",
   "metadata": {},
   "outputs": [],
   "source": [
    "residuals_test = get_residuals(EN_model, X_test_scaled, y_test)\n",
    "plt.hist(residuals_test, 100, facecolor = 'magenta');\n",
    "plt.title('Histograme of Residuals - Test Dataset')\n",
    "plt.ylabel('Counts')\n",
    "plt.xlabel('Residual')"
   ]
  },
  {
   "cell_type": "code",
   "execution_count": null,
   "id": "b220f6f0",
   "metadata": {
    "scrolled": true
   },
   "outputs": [],
   "source": [
    "print('Linear Regression Model - Elastic Net');\n",
    "plot_the_model(EN_model, X_train_scaled, y_train, X_test_scaled, y_test)"
   ]
  },
  {
   "cell_type": "code",
   "execution_count": null,
   "id": "be15100e",
   "metadata": {},
   "outputs": [],
   "source": [
    "which_model = 'Elastic Net'\n",
    "append_myMetrics(which_model, r2_train, r2_test, rmse_train, rmse_test, rmse_train_dollars, rmse_test_dollars)"
   ]
  },
  {
   "cell_type": "code",
   "execution_count": null,
   "id": "b63a050a",
   "metadata": {
    "scrolled": true
   },
   "outputs": [],
   "source": [
    "pd.options.display.float_format = '{:,.4f}'.format\n",
    "zipped = list(zip(model_descrp,\n",
    "                 rmse_log_train, rmse_log_test, \n",
    "                 rmse_dollars_train, rmse_dollars_test,\n",
    "                 r2_log_train, r2_log_test))\n",
    "\n",
    "results = pd.DataFrame(zipped, columns=['model',\n",
    "                                       'rmse log train',\n",
    "                                       'rmse log test',\n",
    "                                       'rmse train',\n",
    "                                       'rmse test',\n",
    "                                       'r2 train',\n",
    "                                       'r2 test'])\n",
    "\n",
    "#results.head(10)\n",
    "results_sorted = results.sort_values('rmse log test', ascending = True)\n",
    "results_sorted.head(10)"
   ]
  },
  {
   "cell_type": "code",
   "execution_count": null,
   "id": "5f0d6f87",
   "metadata": {},
   "outputs": [],
   "source": [
    "EN_model.get_params"
   ]
  },
  {
   "cell_type": "code",
   "execution_count": null,
   "id": "5fcb2848",
   "metadata": {},
   "outputs": [],
   "source": [
    "EN_model.intercept_"
   ]
  },
  {
   "cell_type": "code",
   "execution_count": null,
   "id": "51cf339e",
   "metadata": {},
   "outputs": [],
   "source": [
    "coefs = pd.DataFrame(\n",
    "    EN_model.coef_,\n",
    "    columns=[\"Coefficients\"],\n",
    "    index=preproc.columns,\n",
    ")\n",
    "coefs.head()"
   ]
  },
  {
   "cell_type": "code",
   "execution_count": null,
   "id": "967a4f01",
   "metadata": {
    "scrolled": true
   },
   "outputs": [],
   "source": [
    "coefs.head(25)"
   ]
  },
  {
   "cell_type": "code",
   "execution_count": null,
   "id": "774220a1",
   "metadata": {},
   "outputs": [],
   "source": []
  },
  {
   "cell_type": "markdown",
   "id": "639d1b73",
   "metadata": {},
   "source": [
    "### Non Linear Models\n",
    "#### Label Encoding of Categorical Variables"
   ]
  },
  {
   "cell_type": "markdown",
   "id": "d541314e",
   "metadata": {},
   "source": [
    "### All Models\n",
    "#### Standardization of numerical variables\n",
    "#### Split train and validate datasets"
   ]
  },
  {
   "cell_type": "markdown",
   "id": "db61d802",
   "metadata": {},
   "source": [
    "<p><a name=\"EXP\"></a></p>\n",
    "\n",
    "## Exporting Cleaned Datasets"
   ]
  },
  {
   "cell_type": "code",
   "execution_count": null,
   "id": "eae740aa",
   "metadata": {},
   "outputs": [],
   "source": []
  }
 ],
 "metadata": {
  "kernelspec": {
   "display_name": "Python 3",
   "language": "python",
   "name": "python3"
  },
  "language_info": {
   "codemirror_mode": {
    "name": "ipython",
    "version": 3
   },
   "file_extension": ".py",
   "mimetype": "text/x-python",
   "name": "python",
   "nbconvert_exporter": "python",
   "pygments_lexer": "ipython3",
   "version": "3.8.8"
  }
 },
 "nbformat": 4,
 "nbformat_minor": 5
}
